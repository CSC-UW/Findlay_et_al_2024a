{
 "cells": [
  {
   "cell_type": "markdown",
   "metadata": {},
   "source": [
    "Reproduces Figure 3. Inset of pQrS is reproduced from Figure 1."
   ]
  },
  {
   "cell_type": "code",
   "execution_count": 1,
   "metadata": {},
   "outputs": [],
   "source": [
    "import matplotlib.pyplot as plt\n",
    "plt.rcParams.update({'font.family': 'sans-serif', 'font.sans-serif': 'Noto Sans'})"
   ]
  },
  {
   "cell_type": "code",
   "execution_count": 2,
   "metadata": {},
   "outputs": [],
   "source": [
    "import pyphi\n",
    "import pyphi.new_big_phi\n",
    "import findlay2024a as cc\n",
    "import findlay2024a.divided_clock_computer as dcc\n",
    "\n",
    "THEME = cc.PubTheme()\n",
    "TARGET = \"pQrS\"\n",
    "\n",
    "graph = dcc.get_pQrS_graphiit(feedback=None)"
   ]
  },
  {
   "cell_type": "code",
   "execution_count": 3,
   "metadata": {},
   "outputs": [
    {
     "name": "stdout",
     "output_type": "stream",
     "text": [
      "Sys phi:  [2.0, 2.0, 2.0, 2.0, 2.0, 2.0, 2.0, 2.0, 2.0, 2.0, 2.0, 2.0, 2.0, 2.0, 2.0, 2.0]\n",
      "Big phi:  [6.0, 5.0, 5.0, 4.0, 5.0, 5.0, 4.0, 5.0, 5.0, 4.0, 5.0, 6.0, 5.0, 6.0, 6.0, 4.0]\n"
     ]
    },
    {
     "data": {
      "application/vnd.jupyter.widget-view+json": {
       "model_id": "f8550cdd94964ab49c0a0103abf452fb",
       "version_major": 2,
       "version_minor": 0
      },
      "text/plain": [
       "Grouping relation faces by degree:   0%|          | 0/2 [00:00<?, ?it/s]"
      ]
     },
     "metadata": {},
     "output_type": "display_data"
    },
    {
     "data": {
      "application/vnd.jupyter.widget-view+json": {
       "model_id": "a673073a86734d5aa8237adb6e4377e3",
       "version_major": 2,
       "version_minor": 0
      },
      "text/plain": [
       "Grouping relation faces by degree:   0%|          | 0/1 [00:00<?, ?it/s]"
      ]
     },
     "metadata": {},
     "output_type": "display_data"
    },
    {
     "data": {
      "application/vnd.jupyter.widget-view+json": {
       "model_id": "373938ff10fb4417ad5348b540f87936",
       "version_major": 2,
       "version_minor": 0
      },
      "text/plain": [
       "Grouping relation faces by degree:   0%|          | 0/1 [00:00<?, ?it/s]"
      ]
     },
     "metadata": {},
     "output_type": "display_data"
    },
    {
     "data": {
      "application/vnd.jupyter.widget-view+json": {
       "model_id": "dd57c7fe7117450584174b529131af9e",
       "version_major": 2,
       "version_minor": 0
      },
      "text/plain": [
       "Grouping relation faces by degree: 0it [00:00, ?it/s]"
      ]
     },
     "metadata": {},
     "output_type": "display_data"
    },
    {
     "data": {
      "application/vnd.jupyter.widget-view+json": {
       "model_id": "2355c5caefb74fea9d17ebb0f3c97c10",
       "version_major": 2,
       "version_minor": 0
      },
      "text/plain": [
       "Grouping relation faces by degree:   0%|          | 0/1 [00:00<?, ?it/s]"
      ]
     },
     "metadata": {},
     "output_type": "display_data"
    },
    {
     "data": {
      "application/vnd.jupyter.widget-view+json": {
       "model_id": "e9baf6faa72243d4b0ca1a8851a18c4c",
       "version_major": 2,
       "version_minor": 0
      },
      "text/plain": [
       "Grouping relation faces by degree:   0%|          | 0/1 [00:00<?, ?it/s]"
      ]
     },
     "metadata": {},
     "output_type": "display_data"
    },
    {
     "data": {
      "application/vnd.jupyter.widget-view+json": {
       "model_id": "c1cea35c5e304037bcfc06d2a9cee437",
       "version_major": 2,
       "version_minor": 0
      },
      "text/plain": [
       "Grouping relation faces by degree: 0it [00:00, ?it/s]"
      ]
     },
     "metadata": {},
     "output_type": "display_data"
    },
    {
     "data": {
      "application/vnd.jupyter.widget-view+json": {
       "model_id": "345629ad883e4441af95a5e34097ee2d",
       "version_major": 2,
       "version_minor": 0
      },
      "text/plain": [
       "Grouping relation faces by degree:   0%|          | 0/1 [00:00<?, ?it/s]"
      ]
     },
     "metadata": {},
     "output_type": "display_data"
    },
    {
     "data": {
      "application/vnd.jupyter.widget-view+json": {
       "model_id": "d77d0cf634994492a6699f4e1abfb87c",
       "version_major": 2,
       "version_minor": 0
      },
      "text/plain": [
       "Grouping relation faces by degree:   0%|          | 0/1 [00:00<?, ?it/s]"
      ]
     },
     "metadata": {},
     "output_type": "display_data"
    },
    {
     "data": {
      "application/vnd.jupyter.widget-view+json": {
       "model_id": "d1860cc2d8ab4a0a94bb695601363775",
       "version_major": 2,
       "version_minor": 0
      },
      "text/plain": [
       "Grouping relation faces by degree: 0it [00:00, ?it/s]"
      ]
     },
     "metadata": {},
     "output_type": "display_data"
    },
    {
     "data": {
      "application/vnd.jupyter.widget-view+json": {
       "model_id": "bebc2448db1542259baa27d971eb72bd",
       "version_major": 2,
       "version_minor": 0
      },
      "text/plain": [
       "Grouping relation faces by degree:   0%|          | 0/1 [00:00<?, ?it/s]"
      ]
     },
     "metadata": {},
     "output_type": "display_data"
    },
    {
     "data": {
      "application/vnd.jupyter.widget-view+json": {
       "model_id": "ceeac34e80944f85a8e306d9f35f953a",
       "version_major": 2,
       "version_minor": 0
      },
      "text/plain": [
       "Grouping relation faces by degree:   0%|          | 0/2 [00:00<?, ?it/s]"
      ]
     },
     "metadata": {},
     "output_type": "display_data"
    },
    {
     "data": {
      "application/vnd.jupyter.widget-view+json": {
       "model_id": "877ef6a2b72442d3995125aa03d948df",
       "version_major": 2,
       "version_minor": 0
      },
      "text/plain": [
       "Grouping relation faces by degree:   0%|          | 0/1 [00:00<?, ?it/s]"
      ]
     },
     "metadata": {},
     "output_type": "display_data"
    },
    {
     "data": {
      "application/vnd.jupyter.widget-view+json": {
       "model_id": "170431c4ff4d4753908422622b10018d",
       "version_major": 2,
       "version_minor": 0
      },
      "text/plain": [
       "Grouping relation faces by degree:   0%|          | 0/2 [00:00<?, ?it/s]"
      ]
     },
     "metadata": {},
     "output_type": "display_data"
    },
    {
     "data": {
      "application/vnd.jupyter.widget-view+json": {
       "model_id": "3076e07094494ffe9693f7e3022f1a18",
       "version_major": 2,
       "version_minor": 0
      },
      "text/plain": [
       "Grouping relation faces by degree:   0%|          | 0/2 [00:00<?, ?it/s]"
      ]
     },
     "metadata": {},
     "output_type": "display_data"
    },
    {
     "data": {
      "application/vnd.jupyter.widget-view+json": {
       "model_id": "5d9fc26ede3a47faa13d7e150f260bbf",
       "version_major": 2,
       "version_minor": 0
      },
      "text/plain": [
       "Grouping relation faces by degree: 0it [00:00, ?it/s]"
      ]
     },
     "metadata": {},
     "output_type": "display_data"
    }
   ],
   "source": [
    "(k, n, s) = (2, 4, 16)\n",
    "program_units = dcc.get_program_labels(k)\n",
    "sias, cess, network_states = zip(*[cc.get_sia_and_ces(graph, units, vokram_blanket=False) for units in program_units])\n",
    "\n",
    "print(\"Sys phi: \", [sia.phi for sia in sias])\n",
    "print(\"Big phi: \", [ces.big_phi for ces in cess])\n",
    "for i in range(s):\n",
    "    fig = pyphi.visualize.phi_structure.plot_phi_structure(phi_structure=cess[i], state=network_states[i], node_labels=sias[i].node_labels, node_indices=sias[i].node_indices, theme=THEME)\n",
    "    fig.write_html(f\"phi_structures/wcc_simulating_{TARGET}_update0/program_rings/ring{i+1}.html\")"
   ]
  },
  {
   "cell_type": "code",
   "execution_count": 4,
   "metadata": {},
   "outputs": [
    {
     "name": "stdout",
     "output_type": "stream",
     "text": [
      "1.0\n",
      "2.0\n"
     ]
    },
    {
     "data": {
      "application/vnd.jupyter.widget-view+json": {
       "model_id": "9b7de8ecf69a4d6f9c26101e63f00402",
       "version_major": 2,
       "version_minor": 0
      },
      "text/plain": [
       "Grouping relation faces by degree:   0%|          | 0/1 [00:00<?, ?it/s]"
      ]
     },
     "metadata": {},
     "output_type": "display_data"
    }
   ],
   "source": [
    "sia, ces, network_state = cc.get_sia_and_ces(graph, [\"C0\"], vokram_blanket=True)\n",
    "print(sia.phi)\n",
    "print(ces.big_phi)\n",
    "if sia.phi > 0:\n",
    "    fig = pyphi.visualize.phi_structure.plot_phi_structure(phi_structure=ces, state=network_state, node_labels=sia.node_labels, node_indices=sia.node_indices, theme=THEME)\n",
    "    fig.write_html(f\"phi_structures/wcc_simulating_{TARGET}_update0/timekeeping_chain/C0.html\")"
   ]
  },
  {
   "cell_type": "code",
   "execution_count": 5,
   "metadata": {},
   "outputs": [
    {
     "name": "stdout",
     "output_type": "stream",
     "text": [
      "1.0\n",
      "1.0\n"
     ]
    },
    {
     "data": {
      "application/vnd.jupyter.widget-view+json": {
       "model_id": "3338906809ff4299ba9491861c80a637",
       "version_major": 2,
       "version_minor": 0
      },
      "text/plain": [
       "Grouping relation faces by degree: 0it [00:00, ?it/s]"
      ]
     },
     "metadata": {},
     "output_type": "display_data"
    }
   ],
   "source": [
    "sia, ces, network_state = cc.get_sia_and_ces(graph, [\"X1\"], vokram_blanket=True)\n",
    "print(sia.phi)\n",
    "print(ces.big_phi)\n",
    "if sia.phi > 0:\n",
    "    fig = pyphi.visualize.phi_structure.plot_phi_structure(phi_structure=ces, state=network_state, node_labels=sia.node_labels, node_indices=sia.node_indices, theme=THEME)\n",
    "    fig.write_html(f\"phi_structures/wcc_simulating_{TARGET}_update0/timekeeping_chain/X1.html\")"
   ]
  },
  {
   "cell_type": "code",
   "execution_count": 6,
   "metadata": {},
   "outputs": [
    {
     "name": "stdout",
     "output_type": "stream",
     "text": [
      "0.0\n",
      "0\n"
     ]
    }
   ],
   "source": [
    "sia, ces, network_state = cc.get_sia_and_ces(graph, [\"A1\"], vokram_blanket=True)\n",
    "print(sia.phi)\n",
    "print(ces.big_phi)\n",
    "if sia.phi > 0:\n",
    "    fig = pyphi.visualize.phi_structure.plot_phi_structure(phi_structure=ces, state=network_state, node_labels=sia.node_labels, node_indices=sia.node_indices, theme=THEME)\n",
    "    fig.write_html(f\"phi_structures/wcc_simulating_{TARGET}_update0/timekeeping_chain/A1.html\")"
   ]
  },
  {
   "cell_type": "code",
   "execution_count": 7,
   "metadata": {},
   "outputs": [
    {
     "name": "stdout",
     "output_type": "stream",
     "text": [
      "1.0\n",
      "2.0\n"
     ]
    },
    {
     "data": {
      "application/vnd.jupyter.widget-view+json": {
       "model_id": "c1f2788294c6406094e28b5fcfcc2795",
       "version_major": 2,
       "version_minor": 0
      },
      "text/plain": [
       "Grouping relation faces by degree:   0%|          | 0/1 [00:00<?, ?it/s]"
      ]
     },
     "metadata": {},
     "output_type": "display_data"
    }
   ],
   "source": [
    "sia, ces, network_state = cc.get_sia_and_ces(graph, [\"X2\"], vokram_blanket=False)\n",
    "print(sia.phi)\n",
    "print(ces.big_phi)\n",
    "if sia.phi > 0:\n",
    "    fig = pyphi.visualize.phi_structure.plot_phi_structure(phi_structure=ces, state=network_state, node_labels=sia.node_labels, node_indices=sia.node_indices, theme=THEME)\n",
    "    fig.write_html(f\"phi_structures/wcc_simulating_{TARGET}_update0/timekeeping_chain/X2.html\")"
   ]
  },
  {
   "cell_type": "code",
   "execution_count": 8,
   "metadata": {},
   "outputs": [
    {
     "name": "stdout",
     "output_type": "stream",
     "text": [
      "1.0\n",
      "2.0\n"
     ]
    },
    {
     "data": {
      "application/vnd.jupyter.widget-view+json": {
       "model_id": "e42ee2a066f24596809ad8832f5db0bb",
       "version_major": 2,
       "version_minor": 0
      },
      "text/plain": [
       "Grouping relation faces by degree:   0%|          | 0/1 [00:00<?, ?it/s]"
      ]
     },
     "metadata": {},
     "output_type": "display_data"
    }
   ],
   "source": [
    "sia, ces, network_state = cc.get_sia_and_ces(graph, [\"A2\"], vokram_blanket=False)\n",
    "print(sia.phi)\n",
    "print(ces.big_phi)\n",
    "if sia.phi > 0:\n",
    "    fig = pyphi.visualize.phi_structure.plot_phi_structure(phi_structure=ces, state=network_state, node_labels=sia.node_labels, node_indices=sia.node_indices, theme=THEME)\n",
    "    fig.write_html(f\"phi_structures/wcc_simulating_{TARGET}_update0/timekeeping_chain/A2.html\")"
   ]
  },
  {
   "cell_type": "code",
   "execution_count": 9,
   "metadata": {},
   "outputs": [
    {
     "name": "stdout",
     "output_type": "stream",
     "text": [
      "1.0\n",
      "2.0\n"
     ]
    },
    {
     "data": {
      "application/vnd.jupyter.widget-view+json": {
       "model_id": "b0d538633db14ea3b8e230a216e7ba77",
       "version_major": 2,
       "version_minor": 0
      },
      "text/plain": [
       "Grouping relation faces by degree:   0%|          | 0/1 [00:00<?, ?it/s]"
      ]
     },
     "metadata": {},
     "output_type": "display_data"
    }
   ],
   "source": [
    "sia, ces, network_state = cc.get_sia_and_ces(graph, [\"T0R0\"], vokram_blanket=False)\n",
    "print(sia.phi)\n",
    "print(ces.big_phi)\n",
    "if sia.phi > 0:\n",
    "    fig = pyphi.visualize.phi_structure.plot_phi_structure(phi_structure=ces, state=network_state, node_labels=sia.node_labels, node_indices=sia.node_indices, theme=THEME)\n",
    "    fig.write_html(f\"phi_structures/wcc_simulating_{TARGET}_update0/data_registers/T0R0.html\")"
   ]
  },
  {
   "cell_type": "code",
   "execution_count": 10,
   "metadata": {},
   "outputs": [
    {
     "name": "stdout",
     "output_type": "stream",
     "text": [
      "1.0\n",
      "2.0\n"
     ]
    },
    {
     "data": {
      "application/vnd.jupyter.widget-view+json": {
       "model_id": "5e0a9dcbf3374cd984e613ae7a938b42",
       "version_major": 2,
       "version_minor": 0
      },
      "text/plain": [
       "Grouping relation faces by degree:   0%|          | 0/1 [00:00<?, ?it/s]"
      ]
     },
     "metadata": {},
     "output_type": "display_data"
    }
   ],
   "source": [
    "sia, ces, network_state = cc.get_sia_and_ces(graph, [\"T1R0\"], vokram_blanket=False)\n",
    "print(sia.phi)\n",
    "print(ces.big_phi)\n",
    "if sia.phi > 0:\n",
    "    fig = pyphi.visualize.phi_structure.plot_phi_structure(phi_structure=ces, state=network_state, node_labels=sia.node_labels, node_indices=sia.node_indices, theme=THEME)\n",
    "    fig.write_html(f\"phi_structures/wcc_simulating_{TARGET}_update0/data_registers/T1R0.html\")"
   ]
  },
  {
   "cell_type": "code",
   "execution_count": 11,
   "metadata": {},
   "outputs": [
    {
     "name": "stdout",
     "output_type": "stream",
     "text": [
      "1.0\n",
      "2.0\n"
     ]
    },
    {
     "data": {
      "application/vnd.jupyter.widget-view+json": {
       "model_id": "af92f8efeb9347a5936b684236a15cb6",
       "version_major": 2,
       "version_minor": 0
      },
      "text/plain": [
       "Grouping relation faces by degree:   0%|          | 0/1 [00:00<?, ?it/s]"
      ]
     },
     "metadata": {},
     "output_type": "display_data"
    }
   ],
   "source": [
    "sia, ces, network_state = cc.get_sia_and_ces(graph, [\"T2R0\"], vokram_blanket=False)\n",
    "print(sia.phi)\n",
    "print(ces.big_phi)\n",
    "if sia.phi > 0:\n",
    "    fig = pyphi.visualize.phi_structure.plot_phi_structure(phi_structure=ces, state=network_state, node_labels=sia.node_labels, node_indices=sia.node_indices, theme=THEME)\n",
    "    fig.write_html(f\"phi_structures/wcc_simulating_{TARGET}_update0/data_registers/T2R0.html\")"
   ]
  },
  {
   "cell_type": "code",
   "execution_count": 12,
   "metadata": {},
   "outputs": [
    {
     "name": "stdout",
     "output_type": "stream",
     "text": [
      "1.0\n",
      "2.0\n"
     ]
    },
    {
     "data": {
      "application/vnd.jupyter.widget-view+json": {
       "model_id": "c379b56d7e52443f8da69950a82086f1",
       "version_major": 2,
       "version_minor": 0
      },
      "text/plain": [
       "Grouping relation faces by degree:   0%|          | 0/1 [00:00<?, ?it/s]"
      ]
     },
     "metadata": {},
     "output_type": "display_data"
    }
   ],
   "source": [
    "sia, ces, network_state = cc.get_sia_and_ces(graph, [\"T3R0\"], vokram_blanket=False)\n",
    "print(sia.phi)\n",
    "print(ces.big_phi)\n",
    "if sia.phi > 0:\n",
    "    fig = pyphi.visualize.phi_structure.plot_phi_structure(phi_structure=ces, state=network_state, node_labels=sia.node_labels, node_indices=sia.node_indices, theme=THEME)\n",
    "    fig.write_html(f\"phi_structures/wcc_simulating_{TARGET}_update0/data_registers/T3R0.html\")"
   ]
  },
  {
   "cell_type": "code",
   "execution_count": null,
   "metadata": {},
   "outputs": [],
   "source": []
  }
 ],
 "metadata": {
  "kernelspec": {
   "display_name": "findlay2024a_3p13",
   "language": "python",
   "name": "python3"
  },
  "language_info": {
   "codemirror_mode": {
    "name": "ipython",
    "version": 3
   },
   "file_extension": ".py",
   "mimetype": "text/x-python",
   "name": "python",
   "nbconvert_exporter": "python",
   "pygments_lexer": "ipython3",
   "version": "3.13.0"
  }
 },
 "nbformat": 4,
 "nbformat_minor": 2
}
