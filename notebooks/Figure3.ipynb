{
 "cells": [
  {
   "cell_type": "markdown",
   "metadata": {},
   "source": [
    "Reproduces Figure 3. Inset of pQrS is reproduced from Figure 1."
   ]
  },
  {
   "cell_type": "code",
   "execution_count": null,
   "metadata": {},
   "outputs": [
    {
     "name": "stderr",
     "output_type": "stream",
     "text": [
      "/home/gfindlay/projects/findlay2024a/Findlay_et_al_2024a/findlay2024a/findlay2024a.py:218: SyntaxWarning: invalid escape sequence '\\i'\n",
      "  return \"$\\it{\" + \"\".join(text) + \"}$\"\n"
     ]
    }
   ],
   "source": [
    "import pyphi\n",
    "import pyphi.new_big_phi\n",
    "import findlay2024a as cc\n",
    "import findlay2024a.divided_clock_computer as dcc\n",
    "\n",
    "THEME = cc.PubTheme()\n",
    "TARGET = \"pQrS\"\n",
    "\n",
    "graph = dcc.get_pQrS_graphiit(feedback=None)"
   ]
  },
  {
   "cell_type": "code",
   "execution_count": null,
   "metadata": {},
   "outputs": [
    {
     "name": "stdout",
     "output_type": "stream",
     "text": [
      "Sys phi:  [2.0, 2.0, 2.0, 2.0, 2.0, 2.0, 2.0, 2.0, 2.0, 2.0, 2.0, 2.0, 2.0, 2.0, 2.0, 2.0]\n",
      "Big phi:  [6.0, 5.0, 5.0, 4.0, 5.0, 5.0, 4.0, 5.0, 5.0, 4.0, 5.0, 6.0, 5.0, 6.0, 6.0, 4.0]\n"
     ]
    }
   ],
   "source": [
    "(k, n, s) = (2, 4, 16)\n",
    "program_units = dcc.get_program_labels(k)\n",
    "sias, cess, network_states = zip(*[cc.get_sia_and_ces(graph, units, vokram_blanket=False) for units in program_units])\n",
    "\n",
    "print(\"Sys phi: \", [sia.phi for sia in sias])\n",
    "print(\"Big phi: \", [ces.big_phi for ces in cess])\n",
    "for i in range(s):\n",
    "    fig = pyphi.visualize.phi_structure.plot_phi_structure(phi_structure=cess[i], state=network_states[i], node_labels=sias[i].node_labels, node_indices=sias[i].node_indices, theme=THEME)\n",
    "    fig.write_html(f\"phi_structures/wcc_simulating_{TARGET}_update0/program_rings/ring{i+1}.html\")"
   ]
  },
  {
   "cell_type": "code",
   "execution_count": null,
   "metadata": {},
   "outputs": [
    {
     "name": "stdout",
     "output_type": "stream",
     "text": [
      "1.0\n",
      "2.0\n"
     ]
    },
    {
     "data": {
      "application/vnd.jupyter.widget-view+json": {
       "model_id": "ac7e474ebd2442d898f4603d3eae9c01",
       "version_major": 2,
       "version_minor": 0
      },
      "text/plain": [
       "Grouping relation faces by degree:   0%|          | 0/1 [00:00<?, ?it/s]"
      ]
     },
     "metadata": {},
     "output_type": "display_data"
    }
   ],
   "source": [
    "sia, ces, network_state = cc.get_sia_and_ces(graph, [\"C0\"], vokram_blanket=True)\n",
    "print(sia.phi)\n",
    "print(ces.big_phi)\n",
    "if sia.phi > 0:\n",
    "    fig = pyphi.visualize.phi_structure.plot_phi_structure(phi_structure=ces, state=network_state, node_labels=sia.node_labels, node_indices=sia.node_indices, theme=THEME)\n",
    "    fig.write_html(f\"phi_structures/wcc_simulating_{TARGET}_update0/timekeeping_chain/C0.html\")"
   ]
  },
  {
   "cell_type": "code",
   "execution_count": null,
   "metadata": {},
   "outputs": [
    {
     "name": "stdout",
     "output_type": "stream",
     "text": [
      "1.0\n",
      "1.0\n"
     ]
    },
    {
     "data": {
      "application/vnd.jupyter.widget-view+json": {
       "model_id": "6f4e01b5764044de8d12a528b8531bec",
       "version_major": 2,
       "version_minor": 0
      },
      "text/plain": [
       "Grouping relation faces by degree: 0it [00:00, ?it/s]"
      ]
     },
     "metadata": {},
     "output_type": "display_data"
    }
   ],
   "source": [
    "sia, ces, network_state = cc.get_sia_and_ces(graph, [\"X1\"], vokram_blanket=True)\n",
    "print(sia.phi)\n",
    "print(ces.big_phi)\n",
    "if sia.phi > 0:\n",
    "    fig = pyphi.visualize.phi_structure.plot_phi_structure(phi_structure=ces, state=network_state, node_labels=sia.node_labels, node_indices=sia.node_indices, theme=THEME)\n",
    "    fig.write_html(f\"phi_structures/wcc_simulating_{TARGET}_update0/timekeeping_chain/X1.html\")"
   ]
  },
  {
   "cell_type": "code",
   "execution_count": null,
   "metadata": {},
   "outputs": [
    {
     "name": "stdout",
     "output_type": "stream",
     "text": [
      "0.0\n",
      "0\n"
     ]
    }
   ],
   "source": [
    "sia, ces, network_state = cc.get_sia_and_ces(graph, [\"A1\"], vokram_blanket=True)\n",
    "print(sia.phi)\n",
    "print(ces.big_phi)\n",
    "if sia.phi > 0:\n",
    "    fig = pyphi.visualize.phi_structure.plot_phi_structure(phi_structure=ces, state=network_state, node_labels=sia.node_labels, node_indices=sia.node_indices, theme=THEME)\n",
    "    fig.write_html(f\"phi_structures/wcc_simulating_{TARGET}_update0/timekeeping_chain/A1.html\")"
   ]
  },
  {
   "cell_type": "code",
   "execution_count": null,
   "metadata": {},
   "outputs": [
    {
     "name": "stdout",
     "output_type": "stream",
     "text": [
      "1.0\n",
      "2.0\n"
     ]
    },
    {
     "data": {
      "application/vnd.jupyter.widget-view+json": {
       "model_id": "feb8b7fa6f75455a8e8f2384710a2e8a",
       "version_major": 2,
       "version_minor": 0
      },
      "text/plain": [
       "Grouping relation faces by degree:   0%|          | 0/1 [00:00<?, ?it/s]"
      ]
     },
     "metadata": {},
     "output_type": "display_data"
    }
   ],
   "source": [
    "sia, ces, network_state = cc.get_sia_and_ces(graph, [\"X2\"], vokram_blanket=False)\n",
    "print(sia.phi)\n",
    "print(ces.big_phi)\n",
    "if sia.phi > 0:\n",
    "    fig = pyphi.visualize.phi_structure.plot_phi_structure(phi_structure=ces, state=network_state, node_labels=sia.node_labels, node_indices=sia.node_indices, theme=THEME)\n",
    "    fig.write_html(f\"phi_structures/wcc_simulating_{TARGET}_update0/timekeeping_chain/X2.html\")"
   ]
  },
  {
   "cell_type": "code",
   "execution_count": null,
   "metadata": {},
   "outputs": [
    {
     "name": "stdout",
     "output_type": "stream",
     "text": [
      "1.0\n",
      "2.0\n"
     ]
    },
    {
     "data": {
      "application/vnd.jupyter.widget-view+json": {
       "model_id": "26bf6cff4896440fba421e7b33641269",
       "version_major": 2,
       "version_minor": 0
      },
      "text/plain": [
       "Grouping relation faces by degree:   0%|          | 0/1 [00:00<?, ?it/s]"
      ]
     },
     "metadata": {},
     "output_type": "display_data"
    }
   ],
   "source": [
    "sia, ces, network_state = cc.get_sia_and_ces(graph, [\"A2\"], vokram_blanket=False)\n",
    "print(sia.phi)\n",
    "print(ces.big_phi)\n",
    "if sia.phi > 0:\n",
    "    fig = pyphi.visualize.phi_structure.plot_phi_structure(phi_structure=ces, state=network_state, node_labels=sia.node_labels, node_indices=sia.node_indices, theme=THEME)\n",
    "    fig.write_html(f\"phi_structures/wcc_simulating_{TARGET}_update0/timekeeping_chain/A2.html\")"
   ]
  },
  {
   "cell_type": "code",
   "execution_count": null,
   "metadata": {},
   "outputs": [
    {
     "name": "stdout",
     "output_type": "stream",
     "text": [
      "1.0\n",
      "2.0\n"
     ]
    },
    {
     "data": {
      "application/vnd.jupyter.widget-view+json": {
       "model_id": "4926b27dd43f44849033f276dc4399a1",
       "version_major": 2,
       "version_minor": 0
      },
      "text/plain": [
       "Grouping relation faces by degree:   0%|          | 0/1 [00:00<?, ?it/s]"
      ]
     },
     "metadata": {},
     "output_type": "display_data"
    }
   ],
   "source": [
    "sia, ces, network_state = cc.get_sia_and_ces(graph, [\"T0R0\"], vokram_blanket=False)\n",
    "print(sia.phi)\n",
    "print(ces.big_phi)\n",
    "if sia.phi > 0:\n",
    "    fig = pyphi.visualize.phi_structure.plot_phi_structure(phi_structure=ces, state=network_state, node_labels=sia.node_labels, node_indices=sia.node_indices, theme=THEME)\n",
    "    fig.write_html(f\"phi_structures/wcc_simulating_{TARGET}_update0/data_registers/T0R0.html\")"
   ]
  },
  {
   "cell_type": "code",
   "execution_count": null,
   "metadata": {},
   "outputs": [
    {
     "name": "stdout",
     "output_type": "stream",
     "text": [
      "1.0\n",
      "2.0\n"
     ]
    },
    {
     "data": {
      "application/vnd.jupyter.widget-view+json": {
       "model_id": "32bc4afaea6e4958ae86f55c6d407434",
       "version_major": 2,
       "version_minor": 0
      },
      "text/plain": [
       "Grouping relation faces by degree:   0%|          | 0/1 [00:00<?, ?it/s]"
      ]
     },
     "metadata": {},
     "output_type": "display_data"
    }
   ],
   "source": [
    "sia, ces, network_state = cc.get_sia_and_ces(graph, [\"T1R0\"], vokram_blanket=False)\n",
    "print(sia.phi)\n",
    "print(ces.big_phi)\n",
    "if sia.phi > 0:\n",
    "    fig = pyphi.visualize.phi_structure.plot_phi_structure(phi_structure=ces, state=network_state, node_labels=sia.node_labels, node_indices=sia.node_indices, theme=THEME)\n",
    "    fig.write_html(f\"phi_structures/wcc_simulating_{TARGET}_update0/data_registers/T1R0.html\")"
   ]
  },
  {
   "cell_type": "code",
   "execution_count": null,
   "metadata": {},
   "outputs": [
    {
     "name": "stdout",
     "output_type": "stream",
     "text": [
      "1.0\n",
      "2.0\n"
     ]
    },
    {
     "data": {
      "application/vnd.jupyter.widget-view+json": {
       "model_id": "0f2dee7cc9ef428983a0c1082cdd03ac",
       "version_major": 2,
       "version_minor": 0
      },
      "text/plain": [
       "Grouping relation faces by degree:   0%|          | 0/1 [00:00<?, ?it/s]"
      ]
     },
     "metadata": {},
     "output_type": "display_data"
    }
   ],
   "source": [
    "sia, ces, network_state = cc.get_sia_and_ces(graph, [\"T2R0\"], vokram_blanket=False)\n",
    "print(sia.phi)\n",
    "print(ces.big_phi)\n",
    "if sia.phi > 0:\n",
    "    fig = pyphi.visualize.phi_structure.plot_phi_structure(phi_structure=ces, state=network_state, node_labels=sia.node_labels, node_indices=sia.node_indices, theme=THEME)\n",
    "    fig.write_html(f\"phi_structures/wcc_simulating_{TARGET}_update0/data_registers/T2R0.html\")"
   ]
  },
  {
   "cell_type": "code",
   "execution_count": null,
   "metadata": {},
   "outputs": [
    {
     "name": "stdout",
     "output_type": "stream",
     "text": [
      "1.0\n",
      "2.0\n"
     ]
    },
    {
     "data": {
      "application/vnd.jupyter.widget-view+json": {
       "model_id": "bfbb31a474cf4b26960c0751a2a783f7",
       "version_major": 2,
       "version_minor": 0
      },
      "text/plain": [
       "Grouping relation faces by degree:   0%|          | 0/1 [00:00<?, ?it/s]"
      ]
     },
     "metadata": {},
     "output_type": "display_data"
    }
   ],
   "source": [
    "sia, ces, network_state = cc.get_sia_and_ces(graph, [\"T3R0\"], vokram_blanket=False)\n",
    "print(sia.phi)\n",
    "print(ces.big_phi)\n",
    "if sia.phi > 0:\n",
    "    fig = pyphi.visualize.phi_structure.plot_phi_structure(phi_structure=ces, state=network_state, node_labels=sia.node_labels, node_indices=sia.node_indices, theme=THEME)\n",
    "    fig.write_html(f\"phi_structures/wcc_simulating_{TARGET}_update0/data_registers/T3R0.html\")"
   ]
  },
  {
   "cell_type": "code",
   "execution_count": null,
   "metadata": {},
   "outputs": [],
   "source": []
  }
 ],
 "metadata": {
  "kernelspec": {
   "display_name": "findlay2024a_3p13",
   "language": "python",
   "name": "python3"
  },
  "language_info": {
   "codemirror_mode": {
    "name": "ipython",
    "version": 3
   },
   "file_extension": ".py",
   "mimetype": "text/x-python",
   "name": "python",
   "nbconvert_exporter": "python",
   "pygments_lexer": "ipython3",
   "version": "3.13.0"
  }
 },
 "nbformat": 4,
 "nbformat_minor": 2
}
