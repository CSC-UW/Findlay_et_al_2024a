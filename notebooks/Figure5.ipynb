{
 "cells": [
  {
   "cell_type": "markdown",
   "metadata": {},
   "source": [
    "Reproduces lower right panel of Figure 5. Other panels are reproduced from Figures 1, 3, and 9"
   ]
  },
  {
   "cell_type": "code",
   "execution_count": 1,
   "metadata": {},
   "outputs": [],
   "source": [
    "import pyphi\n",
    "import pyphi.new_big_phi\n",
    "import findlay2024a as cc\n",
    "import findlay2024a.divided_clock_computer as dcc\n",
    "\n",
    "THEME = cc.PubTheme()\n",
    "TARGET = \"WXyZ\"\n",
    "\n",
    "graph = dcc.get_WXyZ_graphiit(feedback=None)"
   ]
  },
  {
   "cell_type": "code",
   "execution_count": 2,
   "metadata": {},
   "outputs": [
    {
     "name": "stdout",
     "output_type": "stream",
     "text": [
      "Sys phi:  [2.0, 2.0, 2.0, 2.0, 2.0, 2.0, 2.0, 2.0, 2.0, 2.0, 2.0, 2.0, 2.0, 2.0, 2.0, 2.0]\n",
      "Big phi:  [6.0, 5.0, 4.0, 5.0, 5.0, 6.0, 5.0, 6.0, 4.0, 6.0, 6.0, 4.0, 4.0, 5.0, 5.0, 6.0]\n"
     ]
    },
    {
     "data": {
      "application/vnd.jupyter.widget-view+json": {
       "model_id": "24ac6b46e00243cfafadd35ffac7cf5e",
       "version_major": 2,
       "version_minor": 0
      },
      "text/plain": [
       "Grouping relation faces by degree:   0%|          | 0/2 [00:00<?, ?it/s]"
      ]
     },
     "metadata": {},
     "output_type": "display_data"
    },
    {
     "data": {
      "application/vnd.jupyter.widget-view+json": {
       "model_id": "4c3a62e57af944d9b2d22caa60383190",
       "version_major": 2,
       "version_minor": 0
      },
      "text/plain": [
       "Grouping relation faces by degree:   0%|          | 0/1 [00:00<?, ?it/s]"
      ]
     },
     "metadata": {},
     "output_type": "display_data"
    },
    {
     "data": {
      "application/vnd.jupyter.widget-view+json": {
       "model_id": "0735574fe56a4c4cbf8ffde5ec8e6486",
       "version_major": 2,
       "version_minor": 0
      },
      "text/plain": [
       "Grouping relation faces by degree: 0it [00:00, ?it/s]"
      ]
     },
     "metadata": {},
     "output_type": "display_data"
    },
    {
     "data": {
      "application/vnd.jupyter.widget-view+json": {
       "model_id": "a30976a70e404b8db57c0a9384d63cd5",
       "version_major": 2,
       "version_minor": 0
      },
      "text/plain": [
       "Grouping relation faces by degree:   0%|          | 0/1 [00:00<?, ?it/s]"
      ]
     },
     "metadata": {},
     "output_type": "display_data"
    },
    {
     "data": {
      "application/vnd.jupyter.widget-view+json": {
       "model_id": "7f87627493cf4d1b859481388a74fa78",
       "version_major": 2,
       "version_minor": 0
      },
      "text/plain": [
       "Grouping relation faces by degree:   0%|          | 0/1 [00:00<?, ?it/s]"
      ]
     },
     "metadata": {},
     "output_type": "display_data"
    },
    {
     "data": {
      "application/vnd.jupyter.widget-view+json": {
       "model_id": "6ed4c81fa4b7457aaedcfbe170e19301",
       "version_major": 2,
       "version_minor": 0
      },
      "text/plain": [
       "Grouping relation faces by degree:   0%|          | 0/2 [00:00<?, ?it/s]"
      ]
     },
     "metadata": {},
     "output_type": "display_data"
    },
    {
     "data": {
      "application/vnd.jupyter.widget-view+json": {
       "model_id": "bebe6961a7674efe9ed6bb8fac988f3f",
       "version_major": 2,
       "version_minor": 0
      },
      "text/plain": [
       "Grouping relation faces by degree:   0%|          | 0/1 [00:00<?, ?it/s]"
      ]
     },
     "metadata": {},
     "output_type": "display_data"
    },
    {
     "data": {
      "application/vnd.jupyter.widget-view+json": {
       "model_id": "218c7da23a294f658aa7354c7c932954",
       "version_major": 2,
       "version_minor": 0
      },
      "text/plain": [
       "Grouping relation faces by degree:   0%|          | 0/2 [00:00<?, ?it/s]"
      ]
     },
     "metadata": {},
     "output_type": "display_data"
    },
    {
     "data": {
      "application/vnd.jupyter.widget-view+json": {
       "model_id": "4f2d7b64552e40f5aef7c6aa8704e54a",
       "version_major": 2,
       "version_minor": 0
      },
      "text/plain": [
       "Grouping relation faces by degree: 0it [00:00, ?it/s]"
      ]
     },
     "metadata": {},
     "output_type": "display_data"
    },
    {
     "data": {
      "application/vnd.jupyter.widget-view+json": {
       "model_id": "f4a9800f478b47cea9f45926a82618ff",
       "version_major": 2,
       "version_minor": 0
      },
      "text/plain": [
       "Grouping relation faces by degree:   0%|          | 0/2 [00:00<?, ?it/s]"
      ]
     },
     "metadata": {},
     "output_type": "display_data"
    },
    {
     "data": {
      "application/vnd.jupyter.widget-view+json": {
       "model_id": "286c8e2e12434d7ebc02724e9a967013",
       "version_major": 2,
       "version_minor": 0
      },
      "text/plain": [
       "Grouping relation faces by degree:   0%|          | 0/2 [00:00<?, ?it/s]"
      ]
     },
     "metadata": {},
     "output_type": "display_data"
    },
    {
     "data": {
      "application/vnd.jupyter.widget-view+json": {
       "model_id": "c1f09d59e4424001899f20c65a337f2f",
       "version_major": 2,
       "version_minor": 0
      },
      "text/plain": [
       "Grouping relation faces by degree: 0it [00:00, ?it/s]"
      ]
     },
     "metadata": {},
     "output_type": "display_data"
    },
    {
     "data": {
      "application/vnd.jupyter.widget-view+json": {
       "model_id": "6009c259e77d4ab68c4f3b38f66dca35",
       "version_major": 2,
       "version_minor": 0
      },
      "text/plain": [
       "Grouping relation faces by degree: 0it [00:00, ?it/s]"
      ]
     },
     "metadata": {},
     "output_type": "display_data"
    },
    {
     "data": {
      "application/vnd.jupyter.widget-view+json": {
       "model_id": "68d348e901274b7db2fbb9972536e952",
       "version_major": 2,
       "version_minor": 0
      },
      "text/plain": [
       "Grouping relation faces by degree:   0%|          | 0/1 [00:00<?, ?it/s]"
      ]
     },
     "metadata": {},
     "output_type": "display_data"
    },
    {
     "data": {
      "application/vnd.jupyter.widget-view+json": {
       "model_id": "0282038c2b0d41789d80e9b6ec400fdc",
       "version_major": 2,
       "version_minor": 0
      },
      "text/plain": [
       "Grouping relation faces by degree:   0%|          | 0/1 [00:00<?, ?it/s]"
      ]
     },
     "metadata": {},
     "output_type": "display_data"
    },
    {
     "data": {
      "application/vnd.jupyter.widget-view+json": {
       "model_id": "105979f28ba24369891fa21918b32ee5",
       "version_major": 2,
       "version_minor": 0
      },
      "text/plain": [
       "Grouping relation faces by degree:   0%|          | 0/2 [00:00<?, ?it/s]"
      ]
     },
     "metadata": {},
     "output_type": "display_data"
    }
   ],
   "source": [
    "(k, n, s) = (2, 4, 16)\n",
    "program_units = dcc.get_program_labels(k)\n",
    "sias, cess, network_states = zip(*[cc.get_sia_and_ces(graph, units, vokram_blanket=False) for units in program_units])\n",
    "\n",
    "print(\"Sys phi: \", [sia.phi for sia in sias])\n",
    "print(\"Big phi: \", [ces.big_phi for ces in cess])\n",
    "for i in range(s):\n",
    "    fig = pyphi.visualize.phi_structure.plot_phi_structure(phi_structure=cess[i], state=network_states[i], node_labels=sias[i].node_labels, node_indices=sias[i].node_indices, theme=THEME)\n",
    "    fig.write_html(f\"phi_structures/wcc_simulating_{TARGET}_update0/program_rings/ring{i+1}.html\")"
   ]
  },
  {
   "cell_type": "code",
   "execution_count": 3,
   "metadata": {},
   "outputs": [
    {
     "name": "stdout",
     "output_type": "stream",
     "text": [
      "1.0\n",
      "2.0\n"
     ]
    },
    {
     "data": {
      "application/vnd.jupyter.widget-view+json": {
       "model_id": "63d9b1883c9c4dd9b4ef9cd2958a4d6e",
       "version_major": 2,
       "version_minor": 0
      },
      "text/plain": [
       "Grouping relation faces by degree:   0%|          | 0/1 [00:00<?, ?it/s]"
      ]
     },
     "metadata": {},
     "output_type": "display_data"
    }
   ],
   "source": [
    "sia, ces, network_state = cc.get_sia_and_ces(graph, [\"C0\"], vokram_blanket=True)\n",
    "print(sia.phi)\n",
    "print(ces.big_phi)\n",
    "if sia.phi > 0:\n",
    "    fig = pyphi.visualize.phi_structure.plot_phi_structure(phi_structure=ces, state=network_state, node_labels=sia.node_labels, node_indices=sia.node_indices, theme=THEME)\n",
    "    fig.write_html(f\"phi_structures/wcc_simulating_{TARGET}_update0/timekeeping_chain/C0.html\")"
   ]
  },
  {
   "cell_type": "code",
   "execution_count": 4,
   "metadata": {},
   "outputs": [
    {
     "name": "stdout",
     "output_type": "stream",
     "text": [
      "1.0\n",
      "1.0\n"
     ]
    },
    {
     "data": {
      "application/vnd.jupyter.widget-view+json": {
       "model_id": "d87d6b08797e4588843c4fc2afdf145d",
       "version_major": 2,
       "version_minor": 0
      },
      "text/plain": [
       "Grouping relation faces by degree: 0it [00:00, ?it/s]"
      ]
     },
     "metadata": {},
     "output_type": "display_data"
    }
   ],
   "source": [
    "sia, ces, network_state = cc.get_sia_and_ces(graph, [\"X1\"], vokram_blanket=True)\n",
    "print(sia.phi)\n",
    "print(ces.big_phi)\n",
    "if sia.phi > 0:\n",
    "    fig = pyphi.visualize.phi_structure.plot_phi_structure(phi_structure=ces, state=network_state, node_labels=sia.node_labels, node_indices=sia.node_indices, theme=THEME)\n",
    "    fig.write_html(f\"phi_structures/wcc_simulating_{TARGET}_update0/timekeeping_chain/X1.html\")"
   ]
  },
  {
   "cell_type": "code",
   "execution_count": 5,
   "metadata": {},
   "outputs": [
    {
     "name": "stdout",
     "output_type": "stream",
     "text": [
      "0.0\n",
      "0\n"
     ]
    }
   ],
   "source": [
    "sia, ces, network_state = cc.get_sia_and_ces(graph, [\"A1\"], vokram_blanket=True)\n",
    "print(sia.phi)\n",
    "print(ces.big_phi)\n",
    "if sia.phi > 0:\n",
    "    fig = pyphi.visualize.phi_structure.plot_phi_structure(phi_structure=ces, state=network_state, node_labels=sia.node_labels, node_indices=sia.node_indices, theme=THEME)\n",
    "    fig.write_html(f\"phi_structures/wcc_simulating_{TARGET}_update0/timekeeping_chain/A1.html\")"
   ]
  },
  {
   "cell_type": "code",
   "execution_count": 6,
   "metadata": {},
   "outputs": [
    {
     "name": "stdout",
     "output_type": "stream",
     "text": [
      "1.0\n",
      "2.0\n"
     ]
    },
    {
     "data": {
      "application/vnd.jupyter.widget-view+json": {
       "model_id": "9c7459bd785e4b25b0b8beee4475fcd0",
       "version_major": 2,
       "version_minor": 0
      },
      "text/plain": [
       "Grouping relation faces by degree:   0%|          | 0/1 [00:00<?, ?it/s]"
      ]
     },
     "metadata": {},
     "output_type": "display_data"
    }
   ],
   "source": [
    "sia, ces, network_state = cc.get_sia_and_ces(graph, [\"X2\"], vokram_blanket=False)\n",
    "print(sia.phi)\n",
    "print(ces.big_phi)\n",
    "if sia.phi > 0:\n",
    "    fig = pyphi.visualize.phi_structure.plot_phi_structure(phi_structure=ces, state=network_state, node_labels=sia.node_labels, node_indices=sia.node_indices, theme=THEME)\n",
    "    fig.write_html(f\"phi_structures/wcc_simulating_{TARGET}_update0/timekeeping_chain/X2.html\")"
   ]
  },
  {
   "cell_type": "code",
   "execution_count": 7,
   "metadata": {},
   "outputs": [
    {
     "name": "stdout",
     "output_type": "stream",
     "text": [
      "1.0\n",
      "2.0\n"
     ]
    },
    {
     "data": {
      "application/vnd.jupyter.widget-view+json": {
       "model_id": "da24b80a1d424a6ba67e2e013aff82b0",
       "version_major": 2,
       "version_minor": 0
      },
      "text/plain": [
       "Grouping relation faces by degree:   0%|          | 0/1 [00:00<?, ?it/s]"
      ]
     },
     "metadata": {},
     "output_type": "display_data"
    }
   ],
   "source": [
    "sia, ces, network_state = cc.get_sia_and_ces(graph, [\"A2\"], vokram_blanket=False)\n",
    "print(sia.phi)\n",
    "print(ces.big_phi)\n",
    "if sia.phi > 0:\n",
    "    fig = pyphi.visualize.phi_structure.plot_phi_structure(phi_structure=ces, state=network_state, node_labels=sia.node_labels, node_indices=sia.node_indices, theme=THEME)\n",
    "    fig.write_html(f\"phi_structures/wcc_simulating_{TARGET}_update0/timekeeping_chain/A2.html\")"
   ]
  },
  {
   "cell_type": "code",
   "execution_count": 8,
   "metadata": {},
   "outputs": [
    {
     "name": "stdout",
     "output_type": "stream",
     "text": [
      "1.0\n",
      "2.0\n"
     ]
    },
    {
     "data": {
      "application/vnd.jupyter.widget-view+json": {
       "model_id": "6245fec86f64432c994b0517d3aea571",
       "version_major": 2,
       "version_minor": 0
      },
      "text/plain": [
       "Grouping relation faces by degree:   0%|          | 0/1 [00:00<?, ?it/s]"
      ]
     },
     "metadata": {},
     "output_type": "display_data"
    }
   ],
   "source": [
    "sia, ces, network_state = cc.get_sia_and_ces(graph, [\"T0R0\"], vokram_blanket=False)\n",
    "print(sia.phi)\n",
    "print(ces.big_phi)\n",
    "if sia.phi > 0:\n",
    "    fig = pyphi.visualize.phi_structure.plot_phi_structure(phi_structure=ces, state=network_state, node_labels=sia.node_labels, node_indices=sia.node_indices, theme=THEME)\n",
    "    fig.write_html(f\"phi_structures/wcc_simulating_{TARGET}_update0/data_registers/T0R0.html\")"
   ]
  },
  {
   "cell_type": "code",
   "execution_count": 9,
   "metadata": {},
   "outputs": [
    {
     "name": "stdout",
     "output_type": "stream",
     "text": [
      "1.0\n",
      "2.0\n"
     ]
    },
    {
     "data": {
      "application/vnd.jupyter.widget-view+json": {
       "model_id": "7de279788391474d9b65f1cb198554d3",
       "version_major": 2,
       "version_minor": 0
      },
      "text/plain": [
       "Grouping relation faces by degree:   0%|          | 0/1 [00:00<?, ?it/s]"
      ]
     },
     "metadata": {},
     "output_type": "display_data"
    }
   ],
   "source": [
    "sia, ces, network_state = cc.get_sia_and_ces(graph, [\"T1R0\"], vokram_blanket=False)\n",
    "print(sia.phi)\n",
    "print(ces.big_phi)\n",
    "if sia.phi > 0:\n",
    "    fig = pyphi.visualize.phi_structure.plot_phi_structure(phi_structure=ces, state=network_state, node_labels=sia.node_labels, node_indices=sia.node_indices, theme=THEME)\n",
    "    fig.write_html(f\"phi_structures/wcc_simulating_{TARGET}_update0/data_registers/T1R0.html\")"
   ]
  },
  {
   "cell_type": "code",
   "execution_count": 10,
   "metadata": {},
   "outputs": [
    {
     "name": "stdout",
     "output_type": "stream",
     "text": [
      "1.0\n",
      "2.0\n"
     ]
    },
    {
     "data": {
      "application/vnd.jupyter.widget-view+json": {
       "model_id": "9be935e2be614ec1b1ec410ffe8c8857",
       "version_major": 2,
       "version_minor": 0
      },
      "text/plain": [
       "Grouping relation faces by degree:   0%|          | 0/1 [00:00<?, ?it/s]"
      ]
     },
     "metadata": {},
     "output_type": "display_data"
    }
   ],
   "source": [
    "sia, ces, network_state = cc.get_sia_and_ces(graph, [\"T2R0\"], vokram_blanket=False)\n",
    "print(sia.phi)\n",
    "print(ces.big_phi)\n",
    "if sia.phi > 0:\n",
    "    fig = pyphi.visualize.phi_structure.plot_phi_structure(phi_structure=ces, state=network_state, node_labels=sia.node_labels, node_indices=sia.node_indices, theme=THEME)\n",
    "    fig.write_html(f\"phi_structures/wcc_simulating_{TARGET}_update0/data_registers/T2R0.html\")"
   ]
  },
  {
   "cell_type": "code",
   "execution_count": 11,
   "metadata": {},
   "outputs": [
    {
     "name": "stdout",
     "output_type": "stream",
     "text": [
      "1.0\n",
      "2.0\n"
     ]
    },
    {
     "data": {
      "application/vnd.jupyter.widget-view+json": {
       "model_id": "692dfa2eca6e4ea68c0f273a1631310b",
       "version_major": 2,
       "version_minor": 0
      },
      "text/plain": [
       "Grouping relation faces by degree:   0%|          | 0/1 [00:00<?, ?it/s]"
      ]
     },
     "metadata": {},
     "output_type": "display_data"
    }
   ],
   "source": [
    "sia, ces, network_state = cc.get_sia_and_ces(graph, [\"T3R0\"], vokram_blanket=False)\n",
    "print(sia.phi)\n",
    "print(ces.big_phi)\n",
    "if sia.phi > 0:\n",
    "    fig = pyphi.visualize.phi_structure.plot_phi_structure(phi_structure=ces, state=network_state, node_labels=sia.node_labels, node_indices=sia.node_indices, theme=THEME)\n",
    "    fig.write_html(f\"phi_structures/wcc_simulating_{TARGET}_update0/data_registers/T3R0.html\")"
   ]
  },
  {
   "cell_type": "code",
   "execution_count": null,
   "metadata": {},
   "outputs": [],
   "source": []
  }
 ],
 "metadata": {
  "kernelspec": {
   "display_name": "findlay2024a_3p13",
   "language": "python",
   "name": "python3"
  },
  "language_info": {
   "codemirror_mode": {
    "name": "ipython",
    "version": 3
   },
   "file_extension": ".py",
   "mimetype": "text/x-python",
   "name": "python",
   "nbconvert_exporter": "python",
   "pygments_lexer": "ipython3",
   "version": "3.13.0"
  }
 },
 "nbformat": 4,
 "nbformat_minor": 2
}
