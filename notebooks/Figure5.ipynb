{
 "cells": [
  {
   "cell_type": "markdown",
   "metadata": {},
   "source": [
    "Reproduces lower right panel of Figure 5. Other panels are reproduced from Figures 1, 3, and 9"
   ]
  },
  {
   "cell_type": "code",
   "execution_count": 1,
   "metadata": {},
   "outputs": [],
   "source": [
    "import matplotlib.pyplot as plt\n",
    "\n",
    "plt.rcParams.update({\"font.family\": \"sans-serif\", \"font.sans-serif\": \"Noto Sans\"})"
   ]
  },
  {
   "cell_type": "code",
   "execution_count": 2,
   "metadata": {},
   "outputs": [],
   "source": [
    "import pyphi\n",
    "import pyphi.new_big_phi\n",
    "import findlay2024a as cc\n",
    "import findlay2024a.divided_clock_computer as dcc\n",
    "\n",
    "THEME = cc.PubTheme()\n",
    "TARGET = \"WXyZ\"\n",
    "\n",
    "graph = dcc.get_WXyZ_graphiit(feedback=None)"
   ]
  },
  {
   "cell_type": "code",
   "execution_count": 3,
   "metadata": {},
   "outputs": [
    {
     "name": "stdout",
     "output_type": "stream",
     "text": [
      "Sys phi:  [2.0, 2.0, 2.0, 2.0, 2.0, 2.0, 2.0, 2.0, 2.0, 2.0, 2.0, 2.0, 2.0, 2.0, 2.0, 2.0]\n",
      "Big phi:  [6.0, 5.0, 4.0, 5.0, 5.0, 6.0, 5.0, 6.0, 4.0, 6.0, 6.0, 4.0, 4.0, 5.0, 5.0, 6.0]\n"
     ]
    },
    {
     "data": {
      "application/vnd.jupyter.widget-view+json": {
       "model_id": "2f3d67749ef2418d9388f1adeef38cdd",
       "version_major": 2,
       "version_minor": 0
      },
      "text/plain": [
       "Grouping relation faces by degree:   0%|          | 0/2 [00:00<?, ?it/s]"
      ]
     },
     "metadata": {},
     "output_type": "display_data"
    },
    {
     "data": {
      "application/vnd.jupyter.widget-view+json": {
       "model_id": "0ef02c3fc21d4ae2ba2fbe7a4cb8cc2c",
       "version_major": 2,
       "version_minor": 0
      },
      "text/plain": [
       "Grouping relation faces by degree:   0%|          | 0/1 [00:00<?, ?it/s]"
      ]
     },
     "metadata": {},
     "output_type": "display_data"
    },
    {
     "data": {
      "application/vnd.jupyter.widget-view+json": {
       "model_id": "a0736736112341378baf7db775ad1855",
       "version_major": 2,
       "version_minor": 0
      },
      "text/plain": [
       "Grouping relation faces by degree: 0it [00:00, ?it/s]"
      ]
     },
     "metadata": {},
     "output_type": "display_data"
    },
    {
     "data": {
      "application/vnd.jupyter.widget-view+json": {
       "model_id": "ed2c0c7bf19b4d17a8a53dc67eebd6d7",
       "version_major": 2,
       "version_minor": 0
      },
      "text/plain": [
       "Grouping relation faces by degree:   0%|          | 0/1 [00:00<?, ?it/s]"
      ]
     },
     "metadata": {},
     "output_type": "display_data"
    },
    {
     "data": {
      "application/vnd.jupyter.widget-view+json": {
       "model_id": "6dc337e529774cad902a04c0e0937a03",
       "version_major": 2,
       "version_minor": 0
      },
      "text/plain": [
       "Grouping relation faces by degree:   0%|          | 0/1 [00:00<?, ?it/s]"
      ]
     },
     "metadata": {},
     "output_type": "display_data"
    },
    {
     "data": {
      "application/vnd.jupyter.widget-view+json": {
       "model_id": "637041d3c2e64f089d31853a3a9e346a",
       "version_major": 2,
       "version_minor": 0
      },
      "text/plain": [
       "Grouping relation faces by degree:   0%|          | 0/2 [00:00<?, ?it/s]"
      ]
     },
     "metadata": {},
     "output_type": "display_data"
    },
    {
     "data": {
      "application/vnd.jupyter.widget-view+json": {
       "model_id": "2db505815ca243e686915ef381b0def8",
       "version_major": 2,
       "version_minor": 0
      },
      "text/plain": [
       "Grouping relation faces by degree:   0%|          | 0/1 [00:00<?, ?it/s]"
      ]
     },
     "metadata": {},
     "output_type": "display_data"
    },
    {
     "data": {
      "application/vnd.jupyter.widget-view+json": {
       "model_id": "aef3e4178db1498d9ae1928941676740",
       "version_major": 2,
       "version_minor": 0
      },
      "text/plain": [
       "Grouping relation faces by degree:   0%|          | 0/2 [00:00<?, ?it/s]"
      ]
     },
     "metadata": {},
     "output_type": "display_data"
    },
    {
     "data": {
      "application/vnd.jupyter.widget-view+json": {
       "model_id": "a6b5bee67f4a45178c1ee3733c599f19",
       "version_major": 2,
       "version_minor": 0
      },
      "text/plain": [
       "Grouping relation faces by degree: 0it [00:00, ?it/s]"
      ]
     },
     "metadata": {},
     "output_type": "display_data"
    },
    {
     "data": {
      "application/vnd.jupyter.widget-view+json": {
       "model_id": "a21809077fff45428325a4db29080251",
       "version_major": 2,
       "version_minor": 0
      },
      "text/plain": [
       "Grouping relation faces by degree:   0%|          | 0/2 [00:00<?, ?it/s]"
      ]
     },
     "metadata": {},
     "output_type": "display_data"
    },
    {
     "data": {
      "application/vnd.jupyter.widget-view+json": {
       "model_id": "f01ab4dd3b7f4e14b0363be8fafe3e25",
       "version_major": 2,
       "version_minor": 0
      },
      "text/plain": [
       "Grouping relation faces by degree:   0%|          | 0/2 [00:00<?, ?it/s]"
      ]
     },
     "metadata": {},
     "output_type": "display_data"
    },
    {
     "data": {
      "application/vnd.jupyter.widget-view+json": {
       "model_id": "ca7ebefadf3e40c4b85788d5ec24bea6",
       "version_major": 2,
       "version_minor": 0
      },
      "text/plain": [
       "Grouping relation faces by degree: 0it [00:00, ?it/s]"
      ]
     },
     "metadata": {},
     "output_type": "display_data"
    },
    {
     "data": {
      "application/vnd.jupyter.widget-view+json": {
       "model_id": "5d80354d19d149ad9a046246da31a9a2",
       "version_major": 2,
       "version_minor": 0
      },
      "text/plain": [
       "Grouping relation faces by degree: 0it [00:00, ?it/s]"
      ]
     },
     "metadata": {},
     "output_type": "display_data"
    },
    {
     "data": {
      "application/vnd.jupyter.widget-view+json": {
       "model_id": "d64e814bca48482f8f71a2993c7d8e71",
       "version_major": 2,
       "version_minor": 0
      },
      "text/plain": [
       "Grouping relation faces by degree:   0%|          | 0/1 [00:00<?, ?it/s]"
      ]
     },
     "metadata": {},
     "output_type": "display_data"
    },
    {
     "data": {
      "application/vnd.jupyter.widget-view+json": {
       "model_id": "a32aed9288854ba4bb3d2c04143ad912",
       "version_major": 2,
       "version_minor": 0
      },
      "text/plain": [
       "Grouping relation faces by degree:   0%|          | 0/1 [00:00<?, ?it/s]"
      ]
     },
     "metadata": {},
     "output_type": "display_data"
    },
    {
     "data": {
      "application/vnd.jupyter.widget-view+json": {
       "model_id": "9a2943d29f2941b9b54c22353f9b5622",
       "version_major": 2,
       "version_minor": 0
      },
      "text/plain": [
       "Grouping relation faces by degree:   0%|          | 0/2 [00:00<?, ?it/s]"
      ]
     },
     "metadata": {},
     "output_type": "display_data"
    }
   ],
   "source": [
    "(k, n, s) = (2, 4, 16)\n",
    "program_units = dcc.get_program_labels(k)\n",
    "sias, cess, network_states = zip(\n",
    "    *[cc.get_sia_and_ces(graph, units, vokram_blanket=False) for units in program_units]\n",
    ")\n",
    "\n",
    "print(\"Sys phi: \", [sia.phi for sia in sias])\n",
    "print(\"Big phi: \", [ces.big_phi for ces in cess])\n",
    "for i in range(s):\n",
    "    fig = pyphi.visualize.phi_structure.plot_phi_structure(\n",
    "        phi_structure=cess[i],\n",
    "        state=network_states[i],\n",
    "        node_labels=sias[i].node_labels,\n",
    "        node_indices=sias[i].node_indices,\n",
    "        theme=THEME,\n",
    "    )\n",
    "    fig.write_html(\n",
    "        f\"phi_structures/wcc_simulating_{TARGET}_update0/program_rings/ring{i + 1}.html\"\n",
    "    )"
   ]
  },
  {
   "cell_type": "code",
   "execution_count": 4,
   "metadata": {},
   "outputs": [
    {
     "name": "stdout",
     "output_type": "stream",
     "text": [
      "1.0\n",
      "2.0\n"
     ]
    },
    {
     "data": {
      "application/vnd.jupyter.widget-view+json": {
       "model_id": "0b0dd6757da747269d57fae3bac6bf27",
       "version_major": 2,
       "version_minor": 0
      },
      "text/plain": [
       "Grouping relation faces by degree:   0%|          | 0/1 [00:00<?, ?it/s]"
      ]
     },
     "metadata": {},
     "output_type": "display_data"
    }
   ],
   "source": [
    "sia, ces, network_state = cc.get_sia_and_ces(graph, [\"C0\"], vokram_blanket=True)\n",
    "print(sia.phi)\n",
    "print(ces.big_phi)\n",
    "if sia.phi > 0:\n",
    "    fig = pyphi.visualize.phi_structure.plot_phi_structure(\n",
    "        phi_structure=ces,\n",
    "        state=network_state,\n",
    "        node_labels=sia.node_labels,\n",
    "        node_indices=sia.node_indices,\n",
    "        theme=THEME,\n",
    "    )\n",
    "    fig.write_html(\n",
    "        f\"phi_structures/wcc_simulating_{TARGET}_update0/timekeeping_chain/C0.html\"\n",
    "    )"
   ]
  },
  {
   "cell_type": "code",
   "execution_count": 5,
   "metadata": {},
   "outputs": [
    {
     "name": "stdout",
     "output_type": "stream",
     "text": [
      "1.0\n",
      "1.0\n"
     ]
    },
    {
     "data": {
      "application/vnd.jupyter.widget-view+json": {
       "model_id": "dcee30e25c2f47ae8d116a96f2cf5555",
       "version_major": 2,
       "version_minor": 0
      },
      "text/plain": [
       "Grouping relation faces by degree: 0it [00:00, ?it/s]"
      ]
     },
     "metadata": {},
     "output_type": "display_data"
    }
   ],
   "source": [
    "sia, ces, network_state = cc.get_sia_and_ces(graph, [\"X1\"], vokram_blanket=True)\n",
    "print(sia.phi)\n",
    "print(ces.big_phi)\n",
    "if sia.phi > 0:\n",
    "    fig = pyphi.visualize.phi_structure.plot_phi_structure(\n",
    "        phi_structure=ces,\n",
    "        state=network_state,\n",
    "        node_labels=sia.node_labels,\n",
    "        node_indices=sia.node_indices,\n",
    "        theme=THEME,\n",
    "    )\n",
    "    fig.write_html(\n",
    "        f\"phi_structures/wcc_simulating_{TARGET}_update0/timekeeping_chain/X1.html\"\n",
    "    )"
   ]
  },
  {
   "cell_type": "code",
   "execution_count": 6,
   "metadata": {},
   "outputs": [
    {
     "name": "stdout",
     "output_type": "stream",
     "text": [
      "0.0\n",
      "0\n"
     ]
    }
   ],
   "source": [
    "sia, ces, network_state = cc.get_sia_and_ces(graph, [\"A1\"], vokram_blanket=True)\n",
    "print(sia.phi)\n",
    "print(ces.big_phi)\n",
    "if sia.phi > 0:\n",
    "    fig = pyphi.visualize.phi_structure.plot_phi_structure(\n",
    "        phi_structure=ces,\n",
    "        state=network_state,\n",
    "        node_labels=sia.node_labels,\n",
    "        node_indices=sia.node_indices,\n",
    "        theme=THEME,\n",
    "    )\n",
    "    fig.write_html(\n",
    "        f\"phi_structures/wcc_simulating_{TARGET}_update0/timekeeping_chain/A1.html\"\n",
    "    )"
   ]
  },
  {
   "cell_type": "code",
   "execution_count": 7,
   "metadata": {},
   "outputs": [
    {
     "name": "stdout",
     "output_type": "stream",
     "text": [
      "1.0\n",
      "2.0\n"
     ]
    },
    {
     "data": {
      "application/vnd.jupyter.widget-view+json": {
       "model_id": "2ff5a54c8805443aa226e9a4146b4289",
       "version_major": 2,
       "version_minor": 0
      },
      "text/plain": [
       "Grouping relation faces by degree:   0%|          | 0/1 [00:00<?, ?it/s]"
      ]
     },
     "metadata": {},
     "output_type": "display_data"
    }
   ],
   "source": [
    "sia, ces, network_state = cc.get_sia_and_ces(graph, [\"X2\"], vokram_blanket=False)\n",
    "print(sia.phi)\n",
    "print(ces.big_phi)\n",
    "if sia.phi > 0:\n",
    "    fig = pyphi.visualize.phi_structure.plot_phi_structure(\n",
    "        phi_structure=ces,\n",
    "        state=network_state,\n",
    "        node_labels=sia.node_labels,\n",
    "        node_indices=sia.node_indices,\n",
    "        theme=THEME,\n",
    "    )\n",
    "    fig.write_html(\n",
    "        f\"phi_structures/wcc_simulating_{TARGET}_update0/timekeeping_chain/X2.html\"\n",
    "    )"
   ]
  },
  {
   "cell_type": "code",
   "execution_count": 8,
   "metadata": {},
   "outputs": [
    {
     "name": "stdout",
     "output_type": "stream",
     "text": [
      "1.0\n",
      "2.0\n"
     ]
    },
    {
     "data": {
      "application/vnd.jupyter.widget-view+json": {
       "model_id": "b04d69dd28d4468b8eeda519cb35f15f",
       "version_major": 2,
       "version_minor": 0
      },
      "text/plain": [
       "Grouping relation faces by degree:   0%|          | 0/1 [00:00<?, ?it/s]"
      ]
     },
     "metadata": {},
     "output_type": "display_data"
    }
   ],
   "source": [
    "sia, ces, network_state = cc.get_sia_and_ces(graph, [\"A2\"], vokram_blanket=False)\n",
    "print(sia.phi)\n",
    "print(ces.big_phi)\n",
    "if sia.phi > 0:\n",
    "    fig = pyphi.visualize.phi_structure.plot_phi_structure(\n",
    "        phi_structure=ces,\n",
    "        state=network_state,\n",
    "        node_labels=sia.node_labels,\n",
    "        node_indices=sia.node_indices,\n",
    "        theme=THEME,\n",
    "    )\n",
    "    fig.write_html(\n",
    "        f\"phi_structures/wcc_simulating_{TARGET}_update0/timekeeping_chain/A2.html\"\n",
    "    )"
   ]
  },
  {
   "cell_type": "code",
   "execution_count": 9,
   "metadata": {},
   "outputs": [
    {
     "name": "stdout",
     "output_type": "stream",
     "text": [
      "1.0\n",
      "2.0\n"
     ]
    },
    {
     "data": {
      "application/vnd.jupyter.widget-view+json": {
       "model_id": "93d347357cf9452cb17950bf54f76e7b",
       "version_major": 2,
       "version_minor": 0
      },
      "text/plain": [
       "Grouping relation faces by degree:   0%|          | 0/1 [00:00<?, ?it/s]"
      ]
     },
     "metadata": {},
     "output_type": "display_data"
    }
   ],
   "source": [
    "sia, ces, network_state = cc.get_sia_and_ces(graph, [\"T0R0\"], vokram_blanket=False)\n",
    "print(sia.phi)\n",
    "print(ces.big_phi)\n",
    "if sia.phi > 0:\n",
    "    fig = pyphi.visualize.phi_structure.plot_phi_structure(\n",
    "        phi_structure=ces,\n",
    "        state=network_state,\n",
    "        node_labels=sia.node_labels,\n",
    "        node_indices=sia.node_indices,\n",
    "        theme=THEME,\n",
    "    )\n",
    "    fig.write_html(\n",
    "        f\"phi_structures/wcc_simulating_{TARGET}_update0/data_registers/T0R0.html\"\n",
    "    )"
   ]
  },
  {
   "cell_type": "code",
   "execution_count": 10,
   "metadata": {},
   "outputs": [
    {
     "name": "stdout",
     "output_type": "stream",
     "text": [
      "1.0\n",
      "2.0\n"
     ]
    },
    {
     "data": {
      "application/vnd.jupyter.widget-view+json": {
       "model_id": "b200d21cace64f8a8ef04c5e4994af96",
       "version_major": 2,
       "version_minor": 0
      },
      "text/plain": [
       "Grouping relation faces by degree:   0%|          | 0/1 [00:00<?, ?it/s]"
      ]
     },
     "metadata": {},
     "output_type": "display_data"
    }
   ],
   "source": [
    "sia, ces, network_state = cc.get_sia_and_ces(graph, [\"T1R0\"], vokram_blanket=False)\n",
    "print(sia.phi)\n",
    "print(ces.big_phi)\n",
    "if sia.phi > 0:\n",
    "    fig = pyphi.visualize.phi_structure.plot_phi_structure(\n",
    "        phi_structure=ces,\n",
    "        state=network_state,\n",
    "        node_labels=sia.node_labels,\n",
    "        node_indices=sia.node_indices,\n",
    "        theme=THEME,\n",
    "    )\n",
    "    fig.write_html(\n",
    "        f\"phi_structures/wcc_simulating_{TARGET}_update0/data_registers/T1R0.html\"\n",
    "    )"
   ]
  },
  {
   "cell_type": "code",
   "execution_count": 11,
   "metadata": {},
   "outputs": [
    {
     "name": "stdout",
     "output_type": "stream",
     "text": [
      "1.0\n",
      "2.0\n"
     ]
    },
    {
     "data": {
      "application/vnd.jupyter.widget-view+json": {
       "model_id": "94bd44f6a5364ebbb96e57410ad1a0c1",
       "version_major": 2,
       "version_minor": 0
      },
      "text/plain": [
       "Grouping relation faces by degree:   0%|          | 0/1 [00:00<?, ?it/s]"
      ]
     },
     "metadata": {},
     "output_type": "display_data"
    }
   ],
   "source": [
    "sia, ces, network_state = cc.get_sia_and_ces(graph, [\"T2R0\"], vokram_blanket=False)\n",
    "print(sia.phi)\n",
    "print(ces.big_phi)\n",
    "if sia.phi > 0:\n",
    "    fig = pyphi.visualize.phi_structure.plot_phi_structure(\n",
    "        phi_structure=ces,\n",
    "        state=network_state,\n",
    "        node_labels=sia.node_labels,\n",
    "        node_indices=sia.node_indices,\n",
    "        theme=THEME,\n",
    "    )\n",
    "    fig.write_html(\n",
    "        f\"phi_structures/wcc_simulating_{TARGET}_update0/data_registers/T2R0.html\"\n",
    "    )"
   ]
  },
  {
   "cell_type": "code",
   "execution_count": 12,
   "metadata": {},
   "outputs": [
    {
     "name": "stdout",
     "output_type": "stream",
     "text": [
      "1.0\n",
      "2.0\n"
     ]
    },
    {
     "data": {
      "application/vnd.jupyter.widget-view+json": {
       "model_id": "307dbcf2cddc4cd78e74517eb42082c5",
       "version_major": 2,
       "version_minor": 0
      },
      "text/plain": [
       "Grouping relation faces by degree:   0%|          | 0/1 [00:00<?, ?it/s]"
      ]
     },
     "metadata": {},
     "output_type": "display_data"
    }
   ],
   "source": [
    "sia, ces, network_state = cc.get_sia_and_ces(graph, [\"T3R0\"], vokram_blanket=False)\n",
    "print(sia.phi)\n",
    "print(ces.big_phi)\n",
    "if sia.phi > 0:\n",
    "    fig = pyphi.visualize.phi_structure.plot_phi_structure(\n",
    "        phi_structure=ces,\n",
    "        state=network_state,\n",
    "        node_labels=sia.node_labels,\n",
    "        node_indices=sia.node_indices,\n",
    "        theme=THEME,\n",
    "    )\n",
    "    fig.write_html(\n",
    "        f\"phi_structures/wcc_simulating_{TARGET}_update0/data_registers/T3R0.html\"\n",
    "    )"
   ]
  },
  {
   "cell_type": "code",
   "execution_count": null,
   "metadata": {},
   "outputs": [],
   "source": []
  }
 ],
 "metadata": {
  "kernelspec": {
   "display_name": "findlay2024a_3p13",
   "language": "python",
   "name": "python3"
  },
  "language_info": {
   "codemirror_mode": {
    "name": "ipython",
    "version": 3
   },
   "file_extension": ".py",
   "mimetype": "text/x-python",
   "name": "python",
   "nbconvert_exporter": "python",
   "pygments_lexer": "ipython3",
   "version": "3.13.0"
  }
 },
 "nbformat": 4,
 "nbformat_minor": 2
}
