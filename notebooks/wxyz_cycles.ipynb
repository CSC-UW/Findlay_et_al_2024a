{
 "cells": [
  {
   "cell_type": "code",
   "execution_count": 1,
   "metadata": {},
   "outputs": [],
   "source": [
    "import findlay2024a as cc"
   ]
  },
  {
   "cell_type": "code",
   "execution_count": 2,
   "metadata": {},
   "outputs": [
    {
     "data": {
      "text/plain": [
       "[[(0, 0, 0, 0)],\n",
       " [(1, 0, 0, 0), (1, 0, 1, 1), (1, 1, 0, 1), (0, 1, 1, 0)],\n",
       " [(0, 1, 0, 0), (1, 0, 0, 1), (1, 1, 1, 1), (0, 0, 0, 0)],\n",
       " [(1, 1, 0, 0), (1, 0, 1, 1), (1, 1, 0, 1), (0, 1, 1, 0)],\n",
       " [(0, 0, 1, 0), (0, 1, 0, 0), (1, 0, 0, 1), (1, 1, 1, 1), (0, 0, 0, 0)],\n",
       " [(1, 0, 1, 0), (1, 1, 1, 1), (0, 0, 0, 0)],\n",
       " [(1, 1, 1, 0), (1, 1, 1, 1), (0, 0, 0, 0)],\n",
       " [(0, 0, 0, 1), (0, 1, 1, 0), (1, 1, 0, 1)],\n",
       " [(0, 1, 0, 1), (1, 1, 1, 1), (0, 0, 0, 0)],\n",
       " [(0, 0, 1, 1), (0, 1, 1, 0), (1, 1, 0, 1)],\n",
       " [(0, 1, 1, 1), (1, 0, 1, 1), (1, 1, 0, 1), (0, 1, 1, 0)]]"
      ]
     },
     "execution_count": 2,
     "metadata": {},
     "output_type": "execute_result"
    }
   ],
   "source": [
    "network, state = cc.get_wxyz_micro_example()\n",
    "cycles = cc.get_cycles(network)\n",
    "cycles"
   ]
  },
  {
   "cell_type": "code",
   "execution_count": 3,
   "metadata": {},
   "outputs": [
    {
     "data": {
      "text/plain": [
       "(<Figure size 640x480 with 1 Axes>, <Axes: >)"
      ]
     },
     "execution_count": 3,
     "metadata": {},
     "output_type": "execute_result"
    },
    {
     "data": {
      "image/png": "[encoded data removed]",
      "text/plain": [
       "<Figure size 640x480 with 1 Axes>"
      ]
     },
     "metadata": {},
     "output_type": "display_data"
    }
   ],
   "source": [
    "cc.plot_sbs_tpm(network)"
   ]
  },
  {
   "cell_type": "code",
   "execution_count": 4,
   "metadata": {},
   "outputs": [
    {
     "name": "stdout",
     "output_type": "stream",
     "text": [
      "Network state: (0, 0, 0, 0)\n",
      "Complexes: ['WXY']\n",
      "    φ_s: ['1.33']\n",
      "    Φ: ['2.33']\n",
      "    Distinctions: [[['W'], ['X'], ['Y']]]\n",
      "    #(relations): [4]\n",
      "Network state: (1, 0, 0, 0)\n",
      "Complexes: []\n",
      "    φ_s: []\n",
      "    Φ: []\n",
      "    Distinctions: []\n",
      "    #(relations): []\n",
      "Network state: (0, 1, 0, 0)\n",
      "Complexes: ['WXY']\n",
      "    φ_s: ['2.00']\n",
      "    Φ: ['3.08']\n",
      "    Distinctions: [[['W'], ['X'], ['Y']]]\n",
      "    #(relations): [1]\n",
      "Network state: (1, 1, 0, 0)\n",
      "Complexes: []\n",
      "    φ_s: []\n",
      "    Φ: []\n",
      "    Distinctions: []\n",
      "    #(relations): []\n",
      "Network state: (0, 0, 1, 0)\n",
      "Complexes: []\n",
      "    φ_s: []\n",
      "    Φ: []\n",
      "    Distinctions: []\n",
      "    #(relations): []\n",
      "Network state: (1, 0, 1, 0)\n",
      "Complexes: []\n",
      "    φ_s: []\n",
      "    Φ: []\n",
      "    Distinctions: []\n",
      "    #(relations): []\n",
      "Network state: (0, 1, 1, 0)\n",
      "Complexes: ['XZ']\n",
      "    φ_s: ['0.25']\n",
      "    Φ: ['1.15']\n",
      "    Distinctions: [[['X'], ['Z']]]\n",
      "    #(relations): [1]\n",
      "Network state: (1, 1, 1, 0)\n",
      "Complexes: []\n",
      "    φ_s: []\n",
      "    Φ: []\n",
      "    Distinctions: []\n",
      "    #(relations): []\n",
      "Network state: (0, 0, 0, 1)\n",
      "Complexes: []\n",
      "    φ_s: []\n",
      "    Φ: []\n",
      "    Distinctions: []\n",
      "    #(relations): []\n",
      "Network state: (1, 0, 0, 1)\n",
      "Complexes: ['XZ']\n",
      "    φ_s: ['2.00']\n",
      "    Φ: ['2.42']\n",
      "    Distinctions: [[['X'], ['Z']]]\n",
      "    #(relations): [1]\n",
      "Network state: (0, 1, 0, 1)\n",
      "Complexes: []\n",
      "    φ_s: []\n",
      "    Φ: []\n",
      "    Distinctions: []\n",
      "    #(relations): []\n",
      "Network state: (1, 1, 0, 1)\n",
      "Complexes: ['WZ', 'Y']\n",
      "    φ_s: ['0.47', '0.28']\n",
      "    Φ: ['2.84', '0.55']\n",
      "    Distinctions: [[['W'], ['Z'], ['W', 'Z']], [['Y']]]\n",
      "    #(relations): [7, 1]\n",
      "Network state: (0, 0, 1, 1)\n",
      "Complexes: []\n",
      "    φ_s: []\n",
      "    Φ: []\n",
      "    Distinctions: []\n",
      "    #(relations): []\n",
      "Network state: (1, 0, 1, 1)\n",
      "Complexes: ['X']\n",
      "    φ_s: ['0.16']\n",
      "    Φ: ['0.32']\n",
      "    Distinctions: [[['X']]]\n",
      "    #(relations): [1]\n",
      "Network state: (0, 1, 1, 1)\n",
      "Complexes: []\n",
      "    φ_s: []\n",
      "    Φ: []\n",
      "    Distinctions: []\n",
      "    #(relations): []\n",
      "Network state: (1, 1, 1, 1)\n",
      "Complexes: ['WZ', 'Y']\n",
      "    φ_s: ['0.47', '0.11']\n",
      "    Φ: ['2.84', '0.22']\n",
      "    Distinctions: [[['W'], ['Z'], ['W', 'Z']], [['Y']]]\n",
      "    #(relations): [7, 1]\n"
     ]
    }
   ],
   "source": [
    "mcbs = cc.get_maximal_complexes_by_state(network)\n",
    "psbs = cc.get_phi_structures_by_state(network, mcbs)\n",
    "cc.summarize_all_states(network, mcbs, psbs)"
   ]
  },
  {
   "cell_type": "code",
   "execution_count": 5,
   "metadata": {},
   "outputs": [
    {
     "name": "stdout",
     "output_type": "stream",
     "text": [
      "Network state: 0000\n",
      "Complex: WXY\n"
     ]
    },
    {
     "data": {
      "application/vnd.jupyter.widget-view+json": {
       "model_id": "a662f64f5e1a466d9e222d09e2c72152",
       "version_major": 2,
       "version_minor": 0
      },
      "text/plain": [
       "Grouping relation faces by degree:   0%|          | 0/4 [00:00<?, ?it/s]"
      ]
     },
     "metadata": {},
     "output_type": "display_data"
    },
    {
     "name": "stdout",
     "output_type": "stream",
     "text": [
      "Network state: 1000\n",
      "Network state: 0100\n",
      "Complex: WXY\n"
     ]
    },
    {
     "data": {
      "application/vnd.jupyter.widget-view+json": {
       "model_id": "7845a8b79d8f417fbd26bc9bf5f55cae",
       "version_major": 2,
       "version_minor": 0
      },
      "text/plain": [
       "Grouping relation faces by degree:   0%|          | 0/1 [00:00<?, ?it/s]"
      ]
     },
     "metadata": {},
     "output_type": "display_data"
    },
    {
     "name": "stdout",
     "output_type": "stream",
     "text": [
      "Network state: 1100\n",
      "Network state: 0010\n",
      "Network state: 1010\n",
      "Network state: 0110\n",
      "Complex: XZ\n"
     ]
    },
    {
     "data": {
      "application/vnd.jupyter.widget-view+json": {
       "model_id": "b03371702e7a40359112ba0d8dc8850e",
       "version_major": 2,
       "version_minor": 0
      },
      "text/plain": [
       "Grouping relation faces by degree:   0%|          | 0/1 [00:00<?, ?it/s]"
      ]
     },
     "metadata": {},
     "output_type": "display_data"
    },
    {
     "name": "stdout",
     "output_type": "stream",
     "text": [
      "Network state: 1110\n",
      "Network state: 0001\n",
      "Network state: 1001\n",
      "Complex: XZ\n"
     ]
    },
    {
     "data": {
      "application/vnd.jupyter.widget-view+json": {
       "model_id": "210abcaa711a4fe6a5025ce67fa31086",
       "version_major": 2,
       "version_minor": 0
      },
      "text/plain": [
       "Grouping relation faces by degree:   0%|          | 0/1 [00:00<?, ?it/s]"
      ]
     },
     "metadata": {},
     "output_type": "display_data"
    },
    {
     "name": "stdout",
     "output_type": "stream",
     "text": [
      "Network state: 0101\n",
      "Network state: 1101\n",
      "Complex: WZ\n"
     ]
    },
    {
     "data": {
      "application/vnd.jupyter.widget-view+json": {
       "model_id": "9dd389e1459a4b5681ab6e6c8d8e654a",
       "version_major": 2,
       "version_minor": 0
      },
      "text/plain": [
       "Grouping relation faces by degree:   0%|          | 0/7 [00:00<?, ?it/s]"
      ]
     },
     "metadata": {},
     "output_type": "display_data"
    },
    {
     "name": "stdout",
     "output_type": "stream",
     "text": [
      "Complex: Y\n"
     ]
    },
    {
     "data": {
      "application/vnd.jupyter.widget-view+json": {
       "model_id": "ca3f89a28801425f8a9646681871b5da",
       "version_major": 2,
       "version_minor": 0
      },
      "text/plain": [
       "Grouping relation faces by degree:   0%|          | 0/1 [00:00<?, ?it/s]"
      ]
     },
     "metadata": {},
     "output_type": "display_data"
    },
    {
     "name": "stdout",
     "output_type": "stream",
     "text": [
      "Network state: 0011\n",
      "Network state: 1011\n",
      "Complex: X\n"
     ]
    },
    {
     "data": {
      "application/vnd.jupyter.widget-view+json": {
       "model_id": "e111cf2952114650b4fc03f20de6fb6a",
       "version_major": 2,
       "version_minor": 0
      },
      "text/plain": [
       "Grouping relation faces by degree:   0%|          | 0/1 [00:00<?, ?it/s]"
      ]
     },
     "metadata": {},
     "output_type": "display_data"
    },
    {
     "name": "stdout",
     "output_type": "stream",
     "text": [
      "Network state: 0111\n",
      "Network state: 1111\n",
      "Complex: WZ\n"
     ]
    },
    {
     "data": {
      "application/vnd.jupyter.widget-view+json": {
       "model_id": "e9b3d757eaed4df68165f515396fb26f",
       "version_major": 2,
       "version_minor": 0
      },
      "text/plain": [
       "Grouping relation faces by degree:   0%|          | 0/7 [00:00<?, ?it/s]"
      ]
     },
     "metadata": {},
     "output_type": "display_data"
    },
    {
     "name": "stdout",
     "output_type": "stream",
     "text": [
      "Complex: Y\n"
     ]
    },
    {
     "data": {
      "application/vnd.jupyter.widget-view+json": {
       "model_id": "69b4c6832e38409db2aeedf360e387f9",
       "version_major": 2,
       "version_minor": 0
      },
      "text/plain": [
       "Grouping relation faces by degree:   0%|          | 0/1 [00:00<?, ?it/s]"
      ]
     },
     "metadata": {},
     "output_type": "display_data"
    }
   ],
   "source": [
    "cc.plot_phi_structures_by_state(network, mcbs, psbs, savedir=\"phi_structures/wxyz_cycles/pub_theme/\", theme=cc.PubTheme())"
   ]
  },
  {
   "cell_type": "code",
   "execution_count": null,
   "metadata": {},
   "outputs": [],
   "source": []
  }
 ],
 "metadata": {
  "kernelspec": {
   "display_name": "findlay2024a_3p13",
   "language": "python",
   "name": "python3"
  },
  "language_info": {
   "codemirror_mode": {
    "name": "ipython",
    "version": 3
   },
   "file_extension": ".py",
   "mimetype": "text/x-python",
   "name": "python",
   "nbconvert_exporter": "python",
   "pygments_lexer": "ipython3",
   "version": "3.13.0"
  }
 },
 "nbformat": 4,
 "nbformat_minor": 2
}
