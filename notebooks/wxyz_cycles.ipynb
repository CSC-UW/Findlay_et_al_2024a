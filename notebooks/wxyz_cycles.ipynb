{
 "cells": [
  {
   "cell_type": "code",
   "execution_count": 1,
   "metadata": {},
   "outputs": [],
   "source": [
    "import matplotlib.pyplot as plt\n",
    "\n",
    "plt.rcParams.update({\"font.family\": \"sans-serif\", \"font.sans-serif\": \"Noto Sans\"})"
   ]
  },
  {
   "cell_type": "code",
   "execution_count": 2,
   "metadata": {},
   "outputs": [],
   "source": [
    "import findlay2024a as cc"
   ]
  },
  {
   "cell_type": "code",
   "execution_count": 3,
   "metadata": {},
   "outputs": [
    {
     "data": {
      "text/plain": [
       "[[(0, 0, 0, 0)],\n",
       " [(1, 0, 0, 0), (1, 0, 1, 1), (1, 1, 0, 1), (0, 1, 1, 0)],\n",
       " [(0, 1, 0, 0), (1, 0, 0, 1), (1, 1, 1, 1), (0, 0, 0, 0)],\n",
       " [(1, 1, 0, 0), (1, 0, 1, 1), (1, 1, 0, 1), (0, 1, 1, 0)],\n",
       " [(0, 0, 1, 0), (0, 1, 0, 0), (1, 0, 0, 1), (1, 1, 1, 1), (0, 0, 0, 0)],\n",
       " [(1, 0, 1, 0), (1, 1, 1, 1), (0, 0, 0, 0)],\n",
       " [(1, 1, 1, 0), (1, 1, 1, 1), (0, 0, 0, 0)],\n",
       " [(0, 0, 0, 1), (0, 1, 1, 0), (1, 1, 0, 1)],\n",
       " [(0, 1, 0, 1), (1, 1, 1, 1), (0, 0, 0, 0)],\n",
       " [(0, 0, 1, 1), (0, 1, 1, 0), (1, 1, 0, 1)],\n",
       " [(0, 1, 1, 1), (1, 0, 1, 1), (1, 1, 0, 1), (0, 1, 1, 0)]]"
      ]
     },
     "execution_count": 3,
     "metadata": {},
     "output_type": "execute_result"
    }
   ],
   "source": [
    "network, state = cc.get_wxyz_micro_example()\n",
    "cycles = cc.get_cycles(network)\n",
    "cycles"
   ]
  },
  {
   "cell_type": "code",
   "execution_count": 4,
   "metadata": {},
   "outputs": [
    {
     "name": "stdout",
     "output_type": "stream",
     "text": [
      "Network state: (0, 0, 0, 0)\n",
      "Complexes: ['WXY']\n",
      "    φ_s: ['1.33']\n",
      "    Φ: ['2.33']\n",
      "    Distinctions: [[['W'], ['X'], ['Y']]]\n",
      "    #(relations): [4]\n",
      "Network state: (1, 0, 0, 0)\n",
      "Complexes: []\n",
      "    φ_s: []\n",
      "    Φ: []\n",
      "    Distinctions: []\n",
      "    #(relations): []\n",
      "Network state: (0, 1, 0, 0)\n",
      "Complexes: ['WXY']\n",
      "    φ_s: ['2.00']\n",
      "    Φ: ['3.08']\n",
      "    Distinctions: [[['W'], ['X'], ['Y']]]\n",
      "    #(relations): [1]\n",
      "Network state: (1, 1, 0, 0)\n",
      "Complexes: []\n",
      "    φ_s: []\n",
      "    Φ: []\n",
      "    Distinctions: []\n",
      "    #(relations): []\n",
      "Network state: (0, 0, 1, 0)\n",
      "Complexes: []\n",
      "    φ_s: []\n",
      "    Φ: []\n",
      "    Distinctions: []\n",
      "    #(relations): []\n",
      "Network state: (1, 0, 1, 0)\n",
      "Complexes: []\n",
      "    φ_s: []\n",
      "    Φ: []\n",
      "    Distinctions: []\n",
      "    #(relations): []\n",
      "Network state: (0, 1, 1, 0)\n",
      "Complexes: ['XZ']\n",
      "    φ_s: ['0.25']\n",
      "    Φ: ['1.15']\n",
      "    Distinctions: [[['X'], ['Z']]]\n",
      "    #(relations): [1]\n",
      "Network state: (1, 1, 1, 0)\n",
      "Complexes: []\n",
      "    φ_s: []\n",
      "    Φ: []\n",
      "    Distinctions: []\n",
      "    #(relations): []\n",
      "Network state: (0, 0, 0, 1)\n",
      "Complexes: []\n",
      "    φ_s: []\n",
      "    Φ: []\n",
      "    Distinctions: []\n",
      "    #(relations): []\n",
      "Network state: (1, 0, 0, 1)\n",
      "Complexes: ['XZ']\n",
      "    φ_s: ['2.00']\n",
      "    Φ: ['2.42']\n",
      "    Distinctions: [[['X'], ['Z']]]\n",
      "    #(relations): [1]\n",
      "Network state: (0, 1, 0, 1)\n",
      "Complexes: []\n",
      "    φ_s: []\n",
      "    Φ: []\n",
      "    Distinctions: []\n",
      "    #(relations): []\n",
      "Network state: (1, 1, 0, 1)\n",
      "Complexes: ['WZ', 'Y']\n",
      "    φ_s: ['0.47', '0.28']\n",
      "    Φ: ['2.84', '0.55']\n",
      "    Distinctions: [[['W'], ['Z'], ['W', 'Z']], [['Y']]]\n",
      "    #(relations): [7, 1]\n",
      "Network state: (0, 0, 1, 1)\n",
      "Complexes: []\n",
      "    φ_s: []\n",
      "    Φ: []\n",
      "    Distinctions: []\n",
      "    #(relations): []\n",
      "Network state: (1, 0, 1, 1)\n",
      "Complexes: ['X']\n",
      "    φ_s: ['0.16']\n",
      "    Φ: ['0.32']\n",
      "    Distinctions: [[['X']]]\n",
      "    #(relations): [1]\n",
      "Network state: (0, 1, 1, 1)\n",
      "Complexes: []\n",
      "    φ_s: []\n",
      "    Φ: []\n",
      "    Distinctions: []\n",
      "    #(relations): []\n",
      "Network state: (1, 1, 1, 1)\n",
      "Complexes: ['WZ', 'Y']\n",
      "    φ_s: ['0.47', '0.11']\n",
      "    Φ: ['2.84', '0.22']\n",
      "    Distinctions: [[['W'], ['Z'], ['W', 'Z']], [['Y']]]\n",
      "    #(relations): [7, 1]\n"
     ]
    }
   ],
   "source": [
    "mcbs = cc.get_maximal_complexes_by_state(network)\n",
    "psbs = cc.get_phi_structures_by_state(network, mcbs)\n",
    "cc.summarize_all_states(network, mcbs, psbs)"
   ]
  },
  {
   "cell_type": "code",
   "execution_count": 5,
   "metadata": {},
   "outputs": [
    {
     "name": "stdout",
     "output_type": "stream",
     "text": [
      "Network state: 0000\n",
      "Complex: WXY\n"
     ]
    },
    {
     "data": {
      "application/vnd.jupyter.widget-view+json": {
       "model_id": "0ea09f98463545fba27a2ae74ec1d2a6",
       "version_major": 2,
       "version_minor": 0
      },
      "text/plain": [
       "Grouping relation faces by degree:   0%|          | 0/4 [00:00<?, ?it/s]"
      ]
     },
     "metadata": {},
     "output_type": "display_data"
    },
    {
     "name": "stdout",
     "output_type": "stream",
     "text": [
      "Network state: 1000\n",
      "Network state: 0100\n",
      "Complex: WXY\n"
     ]
    },
    {
     "data": {
      "application/vnd.jupyter.widget-view+json": {
       "model_id": "17e944de707d4804863b231dda092a92",
       "version_major": 2,
       "version_minor": 0
      },
      "text/plain": [
       "Grouping relation faces by degree:   0%|          | 0/1 [00:00<?, ?it/s]"
      ]
     },
     "metadata": {},
     "output_type": "display_data"
    },
    {
     "name": "stdout",
     "output_type": "stream",
     "text": [
      "Network state: 1100\n",
      "Network state: 0010\n",
      "Network state: 1010\n",
      "Network state: 0110\n",
      "Complex: XZ\n"
     ]
    },
    {
     "data": {
      "application/vnd.jupyter.widget-view+json": {
       "model_id": "c5ed3048ec60450ab3421253c1646c5a",
       "version_major": 2,
       "version_minor": 0
      },
      "text/plain": [
       "Grouping relation faces by degree:   0%|          | 0/1 [00:00<?, ?it/s]"
      ]
     },
     "metadata": {},
     "output_type": "display_data"
    },
    {
     "name": "stdout",
     "output_type": "stream",
     "text": [
      "Network state: 1110\n",
      "Network state: 0001\n",
      "Network state: 1001\n",
      "Complex: XZ\n"
     ]
    },
    {
     "data": {
      "application/vnd.jupyter.widget-view+json": {
       "model_id": "fd251e2c391945569d5a71c5cca23b8b",
       "version_major": 2,
       "version_minor": 0
      },
      "text/plain": [
       "Grouping relation faces by degree:   0%|          | 0/1 [00:00<?, ?it/s]"
      ]
     },
     "metadata": {},
     "output_type": "display_data"
    },
    {
     "name": "stdout",
     "output_type": "stream",
     "text": [
      "Network state: 0101\n",
      "Network state: 1101\n",
      "Complex: WZ\n"
     ]
    },
    {
     "data": {
      "application/vnd.jupyter.widget-view+json": {
       "model_id": "a3be3c51bae84b99b4fa0ac8b491bb00",
       "version_major": 2,
       "version_minor": 0
      },
      "text/plain": [
       "Grouping relation faces by degree:   0%|          | 0/7 [00:00<?, ?it/s]"
      ]
     },
     "metadata": {},
     "output_type": "display_data"
    },
    {
     "name": "stdout",
     "output_type": "stream",
     "text": [
      "Complex: Y\n"
     ]
    },
    {
     "data": {
      "application/vnd.jupyter.widget-view+json": {
       "model_id": "ad4c1bf3d75247a18e0c9828a6ab3aa1",
       "version_major": 2,
       "version_minor": 0
      },
      "text/plain": [
       "Grouping relation faces by degree:   0%|          | 0/1 [00:00<?, ?it/s]"
      ]
     },
     "metadata": {},
     "output_type": "display_data"
    },
    {
     "name": "stdout",
     "output_type": "stream",
     "text": [
      "Network state: 0011\n",
      "Network state: 1011\n",
      "Complex: X\n"
     ]
    },
    {
     "data": {
      "application/vnd.jupyter.widget-view+json": {
       "model_id": "b03b04b3d8f44c5f89fbcd22de466b6c",
       "version_major": 2,
       "version_minor": 0
      },
      "text/plain": [
       "Grouping relation faces by degree:   0%|          | 0/1 [00:00<?, ?it/s]"
      ]
     },
     "metadata": {},
     "output_type": "display_data"
    },
    {
     "name": "stdout",
     "output_type": "stream",
     "text": [
      "Network state: 0111\n",
      "Network state: 1111\n",
      "Complex: WZ\n"
     ]
    },
    {
     "data": {
      "application/vnd.jupyter.widget-view+json": {
       "model_id": "241103b2ea534a9b8088ec4ecd457f68",
       "version_major": 2,
       "version_minor": 0
      },
      "text/plain": [
       "Grouping relation faces by degree:   0%|          | 0/7 [00:00<?, ?it/s]"
      ]
     },
     "metadata": {},
     "output_type": "display_data"
    },
    {
     "name": "stdout",
     "output_type": "stream",
     "text": [
      "Complex: Y\n"
     ]
    },
    {
     "data": {
      "application/vnd.jupyter.widget-view+json": {
       "model_id": "db1e22d91e284e2c9871af07cb6e731a",
       "version_major": 2,
       "version_minor": 0
      },
      "text/plain": [
       "Grouping relation faces by degree:   0%|          | 0/1 [00:00<?, ?it/s]"
      ]
     },
     "metadata": {},
     "output_type": "display_data"
    }
   ],
   "source": [
    "cc.plot_phi_structures_by_state(\n",
    "    network,\n",
    "    mcbs,\n",
    "    psbs,\n",
    "    savedir=\"phi_structures/wxyz_cycles/pub_theme/\",\n",
    "    theme=cc.PubTheme(),\n",
    ")"
   ]
  },
  {
   "cell_type": "code",
   "execution_count": null,
   "metadata": {},
   "outputs": [],
   "source": []
  }
 ],
 "metadata": {
  "kernelspec": {
   "display_name": "findlay2024a_3p13",
   "language": "python",
   "name": "python3"
  },
  "language_info": {
   "codemirror_mode": {
    "name": "ipython",
    "version": 3
   },
   "file_extension": ".py",
   "mimetype": "text/x-python",
   "name": "python",
   "nbconvert_exporter": "python",
   "pygments_lexer": "ipython3",
   "version": "3.13.0"
  }
 },
 "nbformat": 4,
 "nbformat_minor": 2
}
