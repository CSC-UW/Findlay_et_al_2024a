{
 "cells": [
  {
   "cell_type": "code",
   "execution_count": 1,
   "metadata": {},
   "outputs": [
    {
     "name": "stderr",
     "output_type": "stream",
     "text": [
      "/home/gfindlay/projects/findlay2024a/Findlay_et_al_2024a/findlay2024a/findlay2024a.py:338: SyntaxWarning: invalid escape sequence '\\i'\n",
      "  return \"$\\it{\" + \"\".join(text) + \"}$\"\n"
     ]
    }
   ],
   "source": [
    "import pyphi.convert\n",
    "\n",
    "import findlay2024a as cc\n",
    "import findlay2024a.divided_clock_computer as dcc"
   ]
  },
  {
   "cell_type": "code",
   "execution_count": 2,
   "metadata": {},
   "outputs": [],
   "source": [
    "pqrs_net, _ = cc.get_pqrs_micro_example()\n",
    "pqrs_tpm = pyphi.convert.to_2d(pqrs_net.tpm)"
   ]
  },
  {
   "cell_type": "code",
   "execution_count": 3,
   "metadata": {},
   "outputs": [],
   "source": [
    "# Check that both strongly and weakly connected computers correctly simulate PQRS\n",
    "dcc.check_tpm_simulation(pqrs_tpm, feedback=False)\n",
    "dcc.check_tpm_simulation(pqrs_tpm, feedback=True)"
   ]
  },
  {
   "cell_type": "code",
   "execution_count": 4,
   "metadata": {},
   "outputs": [
    {
     "data": {
      "application/vnd.jupyter.widget-view+json": {
       "model_id": "03aec2313ff147ba8e929df5658cfd2e",
       "version_major": 2,
       "version_minor": 0
      },
      "text/plain": [
       "  0%|          | 0/100 [00:00<?, ?it/s]"
      ]
     },
     "metadata": {},
     "output_type": "display_data"
    },
    {
     "data": {
      "application/vnd.jupyter.widget-view+json": {
       "model_id": "30bbbf6ff5734b609e0140114d2fce34",
       "version_major": 2,
       "version_minor": 0
      },
      "text/plain": [
       "  0%|          | 0/100 [00:00<?, ?it/s]"
      ]
     },
     "metadata": {},
     "output_type": "display_data"
    }
   ],
   "source": [
    "# Check that both strongly and weakly connected computers correctly simulate multiple 2nd-order (4-bit) systems.\n",
    "dcc.check_k_simulation(2, 100, feedback=False)\n",
    "dcc.check_k_simulation(2, 100, feedback=True)"
   ]
  },
  {
   "cell_type": "code",
   "execution_count": null,
   "metadata": {},
   "outputs": [],
   "source": [
    "# Check that both strongly and weakly connected computers correctly simulate multiple 3rd-order (8-bit) systems.\n",
    "dcc.check_k_simulation(3, 3, feedback=False)\n",
    "dcc.check_k_simulation(3, 3, feedback=True)"
   ]
  },
  {
   "cell_type": "code",
   "execution_count": null,
   "metadata": {},
   "outputs": [],
   "source": []
  }
 ],
 "metadata": {
  "kernelspec": {
   "display_name": "findlay2024a_3p12",
   "language": "python",
   "name": "python3"
  },
  "language_info": {
   "codemirror_mode": {
    "name": "ipython",
    "version": 3
   },
   "file_extension": ".py",
   "mimetype": "text/x-python",
   "name": "python",
   "nbconvert_exporter": "python",
   "pygments_lexer": "ipython3",
   "version": "3.12.7"
  }
 },
 "nbformat": 4,
 "nbformat_minor": 2
}
