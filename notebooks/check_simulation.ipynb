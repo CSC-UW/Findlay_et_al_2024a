{
 "cells": [
  {
   "cell_type": "code",
   "execution_count": 1,
   "metadata": {},
   "outputs": [
    {
     "name": "stderr",
     "output_type": "stream",
     "text": [
      "/home/gfindlay/projects/Findlay_et_al_2024a/findlay2024a/.venv/lib/python3.13/site-packages/tqdm/auto.py:21: TqdmWarning: IProgress not found. Please update jupyter and ipywidgets. See https://ipywidgets.readthedocs.io/en/stable/user_install.html\n",
      "  from .autonotebook import tqdm as notebook_tqdm\n"
     ]
    }
   ],
   "source": [
    "import pyphi.convert\n",
    "\n",
    "import findlay2024a as cc\n",
    "import findlay2024a.divided_clock_computer as dcc"
   ]
  },
  {
   "cell_type": "code",
   "execution_count": 2,
   "metadata": {},
   "outputs": [],
   "source": [
    "pqrs_net, _ = cc.get_pqrs_micro_example()\n",
    "pqrs_tpm = pyphi.convert.to_2d(pqrs_net.tpm)"
   ]
  },
  {
   "cell_type": "code",
   "execution_count": 3,
   "metadata": {},
   "outputs": [],
   "source": [
    "# Check that both strongly and weakly connected computers correctly simulate PQRS\n",
    "dcc.check_tpm_simulation(pqrs_tpm, feedback=False)\n",
    "dcc.check_tpm_simulation(pqrs_tpm, feedback=True)"
   ]
  },
  {
   "cell_type": "code",
   "execution_count": 4,
   "metadata": {},
   "outputs": [
    {
     "name": "stderr",
     "output_type": "stream",
     "text": [
      "100%|██████████| 100/100 [00:26<00:00,  3.74it/s]\n",
      "100%|██████████| 100/100 [00:26<00:00,  3.76it/s]\n"
     ]
    }
   ],
   "source": [
    "# Check that both strongly and weakly connected computers correctly simulate multiple 2nd-order (4-bit) systems.\n",
    "dcc.check_k_simulation(2, 100, feedback=False)\n",
    "dcc.check_k_simulation(2, 100, feedback=True)"
   ]
  },
  {
   "cell_type": "code",
   "execution_count": null,
   "metadata": {},
   "outputs": [],
   "source": [
    "# Check that both strongly and weakly connected computers correctly simulate multiple 3rd-order (8-bit) systems.\n",
    "dcc.check_k_simulation(3, 3, feedback=False)\n",
    "dcc.check_k_simulation(3, 3, feedback=True)"
   ]
  },
  {
   "cell_type": "code",
   "execution_count": null,
   "metadata": {},
   "outputs": [],
   "source": []
  }
 ],
 "metadata": {
  "kernelspec": {
   "display_name": ".venv",
   "language": "python",
   "name": "python3"
  },
  "language_info": {
   "codemirror_mode": {
    "name": "ipython",
    "version": 3
   },
   "file_extension": ".py",
   "mimetype": "text/x-python",
   "name": "python",
   "nbconvert_exporter": "python",
   "pygments_lexer": "ipython3",
   "version": "3.13.2"
  }
 },
 "nbformat": 4,
 "nbformat_minor": 2
}
