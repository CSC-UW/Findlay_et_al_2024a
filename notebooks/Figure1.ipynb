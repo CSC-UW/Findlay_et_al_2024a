{
 "cells": [
  {
   "cell_type": "code",
   "execution_count": 1,
   "metadata": {},
   "outputs": [],
   "source": [
    "import matplotlib.pyplot as plt\n",
    "\n",
    "plt.rcParams.update({\"font.family\": \"sans-serif\", \"font.sans-serif\": \"Noto Sans\"})"
   ]
  },
  {
   "cell_type": "code",
   "execution_count": 2,
   "metadata": {},
   "outputs": [
    {
     "name": "stderr",
     "output_type": "stream",
     "text": [
      "/home/gfindlay/projects/Findlay_et_al_2024a/findlay2024a/.venv/lib/python3.13/site-packages/tqdm/auto.py:21: TqdmWarning: IProgress not found. Please update jupyter and ipywidgets. See https://ipywidgets.readthedocs.io/en/stable/user_install.html\n",
      "  from .autonotebook import tqdm as notebook_tqdm\n"
     ]
    }
   ],
   "source": [
    "import pyphi\n",
    "import pyphi.new_big_phi\n",
    "import pyphi.visualize\n",
    "\n",
    "import findlay2024a as cc"
   ]
  },
  {
   "cell_type": "code",
   "execution_count": 3,
   "metadata": {},
   "outputs": [],
   "source": [
    "network, state = cc.get_pqrs_micro_example()"
   ]
  },
  {
   "cell_type": "code",
   "execution_count": 5,
   "metadata": {},
   "outputs": [
    {
     "data": {
      "image/png": "[encoded data removed]",
      "text/plain": [
       "<Figure size 300x300 with 2 Axes>"
      ]
     },
     "metadata": {},
     "output_type": "display_data"
    }
   ],
   "source": [
    "fig, axes = cc.plot_truth_table(network, figsize=(3, 3))\n",
    "fig.savefig(\"pqrs_plots/truth_table.svg\")"
   ]
  },
  {
   "cell_type": "code",
   "execution_count": null,
   "metadata": {},
   "outputs": [
    {
     "data": {
      "image/png": "[encoded data removed]",
      "text/plain": [
       "<Figure size 300x300 with 1 Axes>"
      ]
     },
     "metadata": {},
     "output_type": "display_data"
    }
   ],
   "source": [
    "fig, ax = cc.plot_sbs_tpm(network, height=3)\n",
    "fig.savefig(\"pqrs_plots/tpm.svg\")"
   ]
  },
  {
   "cell_type": "code",
   "execution_count": 6,
   "metadata": {},
   "outputs": [
    {
     "name": "stdout",
     "output_type": "stream",
     "text": [
      "┌─────────────────────────────────────┐\n",
      "│     SystemIrreducibilityAnalysis    │\n",
      "│ ━━━━━━━━━━━━━━━━━━━━━━━━━━━━━━━━━━━ │\n",
      "│      Subsystem:  P,Q,R,S            │\n",
      "│  Current state:  (0,1,0,1)          │\n",
      "│            φ_s: 1.5081469036703252  │\n",
      "│ Normalized φ_s: 0.18851836295879065 │\n",
      "│          CAUSE:  (1,1,0,1)          │\n",
      "│           II_c: 4.0                 │\n",
      "│         EFFECT:  (1,1,1,0)          │\n",
      "│           II_e: 4.0                 │\n",
      "│   #(tied MIPs): 0                   │\n",
      "│      Partition:                     │\n",
      "│                 3 parts: {P,R,QS}   │\n",
      "│                 [[0 1 1 1]          │\n",
      "│                  [0 0 1 0]          │\n",
      "│                  [1 1 0 1]          │\n",
      "│                  [0 0 1 0]]         │\n",
      "└─────────────────────────────────────┘\n"
     ]
    }
   ],
   "source": [
    "sia = pyphi.new_big_phi.maximal_complex(network, state)\n",
    "print(sia)"
   ]
  },
  {
   "cell_type": "code",
   "execution_count": 8,
   "metadata": {},
   "outputs": [],
   "source": [
    "subsystem = pyphi.Subsystem(network, state, nodes=sia.node_indices)"
   ]
  },
  {
   "cell_type": "code",
   "execution_count": 9,
   "metadata": {},
   "outputs": [],
   "source": [
    "ces = pyphi.new_big_phi.phi_structure(subsystem, sia)"
   ]
  },
  {
   "cell_type": "code",
   "execution_count": null,
   "metadata": {},
   "outputs": [],
   "source": [
    "fig = pyphi.visualize.phi_structure.plot_phi_structure(\n",
    "    phi_structure=ces,\n",
    "    state=state,\n",
    "    node_labels=sia.node_labels,\n",
    "    node_indices=sia.node_indices,\n",
    "    theme=cc.PubTheme(),\n",
    ")\n",
    "fig.write_html(\"pqrs_plots/Figure1_CES.html\")"
   ]
  },
  {
   "cell_type": "code",
   "execution_count": 11,
   "metadata": {},
   "outputs": [
    {
     "name": "stdout",
     "output_type": "stream",
     "text": [
      "┌─────────────────────────────────────┐\n",
      "│     SystemIrreducibilityAnalysis    │\n",
      "│ ━━━━━━━━━━━━━━━━━━━━━━━━━━━━━━━━━━━ │\n",
      "│      Subsystem:  P,Q,R,S            │\n",
      "│  Current state:  (0,1,0,1)          │\n",
      "│            φ_s: 1.5081469036703252  │\n",
      "│ Normalized φ_s: 0.18851836295879065 │\n",
      "│          CAUSE:  (1,1,0,1)          │\n",
      "│           II_c: 4.0                 │\n",
      "│         EFFECT:  (1,1,1,0)          │\n",
      "│           II_e: 4.0                 │\n",
      "│   #(tied MIPs): 0                   │\n",
      "│      Partition:                     │\n",
      "│                 3 parts: {P,R,QS}   │\n",
      "│                 [[0 1 1 1]          │\n",
      "│                  [0 0 1 0]          │\n",
      "│                  [1 1 0 1]          │\n",
      "│                  [0 0 1 0]]         │\n",
      "└─────────────────────────────────────┘\n",
      "┌─────────────────────────────────────┐\n",
      "│     SystemIrreducibilityAnalysis    │\n",
      "│ ━━━━━━━━━━━━━━━━━━━━━━━━━━━━━━━━━━━ │\n",
      "│      Subsystem:  Q,R,S              │\n",
      "│  Current state:  (1,0,1)            │\n",
      "│            φ_s: 0.41503749927884376 │\n",
      "│ Normalized φ_s: 0.20751874963942188 │\n",
      "│          CAUSE:  (1,0,1)            │\n",
      "│           II_c: 3.0                 │\n",
      "│         EFFECT:  (1,1,0)            │\n",
      "│           II_e: 3.0                 │\n",
      "│   #(tied MIPs): 0                   │\n",
      "│      Partition:                     │\n",
      "│                 2 parts: {R,QS}     │\n",
      "│                 [[0 1 0]            │\n",
      "│                  [0 0 0]            │\n",
      "│                  [0 1 0]]           │\n",
      "└─────────────────────────────────────┘\n",
      "┌──────────────────────────────────┐\n",
      "│ SystemIrreducibilityAnalysis     │\n",
      "│  ━━━━━━━━━━━━━━━━━━━━━━━━━       │\n",
      "│       Subsystem:  P,R,S          │\n",
      "│   Current state:  (0,0,1)        │\n",
      "│             φ_s: 0.0             │\n",
      "│  Normalized φ_s: 0.0             │\n",
      "│           CAUSE:  (1,0,1)        │\n",
      "│            II_c: 3.0             │\n",
      "│          EFFECT:  (1,1,0)        │\n",
      "│            II_e: 2.0             │\n",
      "│    #(tied MIPs): 0               │\n",
      "│       Partition:                 │\n",
      "│                  2 parts: {R,PS} │\n",
      "│                  [[0 0 0]        │\n",
      "│                   [1 0 1]        │\n",
      "│                   [0 0 0]]       │\n",
      "└──────────────────────────────────┘\n",
      "┌──────────────────────────────────┐\n",
      "│ SystemIrreducibilityAnalysis     │\n",
      "│  ━━━━━━━━━━━━━━━━━━━━━━━━━       │\n",
      "│       Subsystem:  P,Q,S          │\n",
      "│   Current state:  (0,1,1)        │\n",
      "│             φ_s: 0.0             │\n",
      "│  Normalized φ_s: 0.0             │\n",
      "│           CAUSE:  (1,1,1)        │\n",
      "│            II_c: 3.0             │\n",
      "│          EFFECT:  (1,1,0)        │\n",
      "│            II_e: 3.0             │\n",
      "│    #(tied MIPs): 0               │\n",
      "│       Partition:                 │\n",
      "│                  2 parts: {P,QS} │\n",
      "│                  [[0 0 0]        │\n",
      "│                   [1 0 0]        │\n",
      "│                   [1 0 0]]       │\n",
      "└──────────────────────────────────┘\n",
      "┌──────────────────────────────────┐\n",
      "│ SystemIrreducibilityAnalysis     │\n",
      "│  ━━━━━━━━━━━━━━━━━━━━━━━━━       │\n",
      "│       Subsystem:  P,Q,R          │\n",
      "│   Current state:  (0,1,0)        │\n",
      "│             φ_s: 0.0             │\n",
      "│  Normalized φ_s: 0.0             │\n",
      "│           CAUSE:  (1,1,0)        │\n",
      "│            II_c: 3.0             │\n",
      "│          EFFECT:  (1,1,1)        │\n",
      "│            II_e: 2.0             │\n",
      "│    #(tied MIPs): 0               │\n",
      "│       Partition:                 │\n",
      "│                  2 parts: {P,QR} │\n",
      "│                  [[0 0 0]        │\n",
      "│                   [1 0 0]        │\n",
      "│                   [1 0 0]]       │\n",
      "└──────────────────────────────────┘\n",
      "┌─────────────────────────────────────┐\n",
      "│     SystemIrreducibilityAnalysis    │\n",
      "│ ━━━━━━━━━━━━━━━━━━━━━━━━━━━━━━━━━━━ │\n",
      "│      Subsystem:  R,S                │\n",
      "│  Current state:  (0,1)              │\n",
      "│            φ_s: 0.0                 │\n",
      "│ Normalized φ_s: 0.0                 │\n",
      "│          CAUSE:  (0,1)              │\n",
      "│           II_c: 2.0                 │\n",
      "│         EFFECT:  (1,0)              │\n",
      "│           II_e: 0.41503749927884376 │\n",
      "│   #(tied MIPs): 0                   │\n",
      "│      Partition:                     │\n",
      "│                 2 parts: {R,S}      │\n",
      "│                 [[0 1]              │\n",
      "│                  [1 0]]             │\n",
      "└─────────────────────────────────────┘\n",
      "┌──────────────────────────────────┐\n",
      "│ SystemIrreducibilityAnalysis     │\n",
      "│   ━━━━━━━━━━━━━━━━━━━━━━━        │\n",
      "│        Subsystem:  P,S           │\n",
      "│    Current state:  (0,1)         │\n",
      "│              φ_s: 0.0            │\n",
      "│   Normalized φ_s: 0.0            │\n",
      "│            CAUSE:  (1,0)         │\n",
      "│             II_c: 0.5            │\n",
      "│           EFFECT:  (1,0)         │\n",
      "│             II_e: 2.0            │\n",
      "│     #(tied MIPs): 0              │\n",
      "│        Partition:                │\n",
      "│                   2 parts: {P,S} │\n",
      "│                   [[0 0]         │\n",
      "│                    [1 0]]        │\n",
      "└──────────────────────────────────┘\n",
      "┌──────────────────────────────────┐\n",
      "│ SystemIrreducibilityAnalysis     │\n",
      "│   ━━━━━━━━━━━━━━━━━━━━━━━        │\n",
      "│        Subsystem:  Q,R           │\n",
      "│    Current state:  (1,0)         │\n",
      "│              φ_s: 0.0            │\n",
      "│   Normalized φ_s: 0.0            │\n",
      "│            CAUSE:  (1,0)         │\n",
      "│             II_c: 0.5            │\n",
      "│           EFFECT:  (1,1)         │\n",
      "│             II_e: 2.0            │\n",
      "│     #(tied MIPs): 0              │\n",
      "│        Partition:                │\n",
      "│                   2 parts: {Q,R} │\n",
      "│                   [[0 0]         │\n",
      "│                    [1 0]]        │\n",
      "└──────────────────────────────────┘\n",
      "┌──────────────────────────────────┐\n",
      "│ SystemIrreducibilityAnalysis     │\n",
      "│   ━━━━━━━━━━━━━━━━━━━━━━━        │\n",
      "│        Subsystem:  P,R           │\n",
      "│    Current state:  (0,0)         │\n",
      "│              φ_s: 0.0            │\n",
      "│   Normalized φ_s: 0.0            │\n",
      "│            CAUSE:  (1,0)         │\n",
      "│             II_c: 2.0            │\n",
      "│           EFFECT:  (1,1)         │\n",
      "│             II_e: 1.0            │\n",
      "│     #(tied MIPs): 0              │\n",
      "│        Partition:                │\n",
      "│                   2 parts: {P,R} │\n",
      "│                   [[0 0]         │\n",
      "│                    [1 0]]        │\n",
      "└──────────────────────────────────┘\n",
      "┌──────────────────────────────────┐\n",
      "│ SystemIrreducibilityAnalysis     │\n",
      "│   ━━━━━━━━━━━━━━━━━━━━━━━        │\n",
      "│        Subsystem:  P,Q           │\n",
      "│    Current state:  (0,1)         │\n",
      "│              φ_s: 0.0            │\n",
      "│   Normalized φ_s: 0.0            │\n",
      "│            CAUSE:  (1,0)         │\n",
      "│             II_c: 0.5            │\n",
      "│           EFFECT:  (1,1)         │\n",
      "│             II_e: 2.0            │\n",
      "│     #(tied MIPs): 0              │\n",
      "│        Partition:                │\n",
      "│                   2 parts: {P,Q} │\n",
      "│                   [[0 1]         │\n",
      "│                    [1 0]]        │\n",
      "└──────────────────────────────────┘\n",
      "┌──────────────────────────────┐\n",
      "│ SystemIrreducibilityAnalysis │\n",
      "│    ━━━━━━━━━━━━━━━━━━━━━     │\n",
      "│         Subsystem:  P        │\n",
      "│     Current state:  (0)      │\n",
      "│               φ_s: 1.0       │\n",
      "│    Normalized φ_s: 1.0       │\n",
      "│             CAUSE:  (1)      │\n",
      "│              II_c: 1.0       │\n",
      "│            EFFECT:  (1)      │\n",
      "│              II_e: 1.0       │\n",
      "│      #(tied MIPs): 0         │\n",
      "│         Partition:           │\n",
      "│                    Complete  │\n",
      "│                    [[1]]     │\n",
      "└──────────────────────────────┘\n"
     ]
    }
   ],
   "source": [
    "sias = list(pyphi.new_big_phi.all_complexes(network, state))\n",
    "for sia in sias:\n",
    "    try:\n",
    "        print(sia)\n",
    "    except:\n",
    "        pass"
   ]
  },
  {
   "cell_type": "code",
   "execution_count": null,
   "metadata": {},
   "outputs": [],
   "source": []
  }
 ],
 "metadata": {
  "kernelspec": {
   "display_name": ".venv",
   "language": "python",
   "name": "python3"
  },
  "language_info": {
   "codemirror_mode": {
    "name": "ipython",
    "version": 3
   },
   "file_extension": ".py",
   "mimetype": "text/x-python",
   "name": "python",
   "nbconvert_exporter": "python",
   "pygments_lexer": "ipython3",
   "version": "3.13.2"
  }
 },
 "nbformat": 4,
 "nbformat_minor": 2
}
