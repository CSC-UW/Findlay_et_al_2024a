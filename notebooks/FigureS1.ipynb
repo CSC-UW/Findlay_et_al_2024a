{
 "cells": [
  {
   "cell_type": "code",
   "execution_count": 1,
   "metadata": {},
   "outputs": [],
   "source": [
    "import findlay2024a as cc"
   ]
  },
  {
   "cell_type": "code",
   "execution_count": 2,
   "metadata": {},
   "outputs": [
    {
     "data": {
      "text/plain": [
       "[[(0, 0, 0, 0)],\n",
       " [(1, 0, 0, 0),\n",
       "  (0, 0, 0, 1),\n",
       "  (1, 0, 1, 1),\n",
       "  (1, 1, 1, 1),\n",
       "  (1, 1, 0, 0),\n",
       "  (0, 0, 1, 1),\n",
       "  (1, 1, 0, 1),\n",
       "  (0, 1, 0, 1),\n",
       "  (1, 1, 1, 0)],\n",
       " [(0, 1, 0, 0), (0, 0, 1, 0)],\n",
       " [(1, 0, 1, 0), (0, 1, 1, 1)],\n",
       " [(0, 1, 1, 0), (1, 0, 0, 1)]]"
      ]
     },
     "execution_count": 2,
     "metadata": {},
     "output_type": "execute_result"
    }
   ],
   "source": [
    "network, state = cc.get_pqrs_micro_example()\n",
    "cycles = cc.get_cycles(network)\n",
    "cycles"
   ]
  },
  {
   "cell_type": "code",
   "execution_count": 3,
   "metadata": {},
   "outputs": [
    {
     "name": "stdout",
     "output_type": "stream",
     "text": [
      "Network state: (0, 0, 0, 0)\n",
      "Complexes: ['PQRS']\n",
      "    φ_s: ['1.42']\n",
      "    Φ: ['235.36']\n",
      "    Distinctions: [[['P'], ['R'], ['S'], ['P', 'Q'], ['P', 'S'], ['Q', 'R'], ['Q', 'S'], ['R', 'S'], ['P', 'Q', 'R'], ['P', 'Q', 'S'], ['P', 'R', 'S'], ['P', 'Q', 'R', 'S']]]\n",
      "    #(relations): [2230]\n",
      "Network state: (1, 0, 0, 0)\n",
      "Complexes: ['PQRS']\n",
      "    φ_s: ['1.42']\n",
      "    Φ: ['156.44']\n",
      "    Distinctions: [[['P'], ['Q'], ['R'], ['S'], ['P', 'R'], ['P', 'S'], ['Q', 'S'], ['P', 'Q', 'S'], ['P', 'R', 'S'], ['Q', 'R', 'S'], ['P', 'Q', 'R', 'S']]]\n",
      "    #(relations): [2036]\n",
      "Network state: (0, 1, 0, 0)\n",
      "Complexes: ['PS']\n",
      "    φ_s: ['2.00']\n",
      "    Φ: ['2.83']\n",
      "    Distinctions: [[['P'], ['S']]]\n",
      "    #(relations): [3]\n",
      "Network state: (1, 1, 0, 0)\n",
      "Complexes: ['PQRS']\n",
      "    φ_s: ['1.36']\n",
      "    Φ: ['40.66']\n",
      "    Distinctions: [[['P'], ['R'], ['S'], ['P', 'R'], ['P', 'S'], ['Q', 'R'], ['P', 'Q', 'R'], ['P', 'R', 'S'], ['P', 'Q', 'R', 'S']]]\n",
      "    #(relations): [407]\n",
      "Network state: (0, 0, 1, 0)\n",
      "Complexes: ['PS']\n",
      "    φ_s: ['2.00']\n",
      "    Φ: ['2.33']\n",
      "    Distinctions: [[['P'], ['S']]]\n",
      "    #(relations): [3]\n",
      "Network state: (1, 0, 1, 0)\n",
      "Complexes: ['Q']\n",
      "    φ_s: ['1.00']\n",
      "    Φ: ['2.00']\n",
      "    Distinctions: [[['Q']]]\n",
      "    #(relations): [1]\n",
      "Network state: (0, 1, 1, 0)\n",
      "Complexes: ['RS']\n",
      "    φ_s: ['2.00']\n",
      "    Φ: ['3.10']\n",
      "    Distinctions: [[['R'], ['S'], ['R', 'S']]]\n",
      "    #(relations): [6]\n",
      "Network state: (1, 1, 1, 0)\n",
      "Complexes: ['QS']\n",
      "    φ_s: ['2.00']\n",
      "    Φ: ['2.94']\n",
      "    Distinctions: [[['Q'], ['S'], ['Q', 'S']]]\n",
      "    #(relations): [4]\n",
      "Network state: (0, 0, 0, 1)\n",
      "Complexes: ['PQRS']\n",
      "    φ_s: ['1.42']\n",
      "    Φ: ['14.34']\n",
      "    Distinctions: [[['P'], ['P', 'S'], ['Q', 'R'], ['Q', 'S'], ['P', 'Q', 'R'], ['P', 'Q', 'S'], ['P', 'Q', 'R', 'S']]]\n",
      "    #(relations): [88]\n",
      "Network state: (1, 0, 0, 1)\n",
      "Complexes: ['RS']\n",
      "    φ_s: ['2.00']\n",
      "    Φ: ['7.37']\n",
      "    Distinctions: [[['R'], ['S'], ['R', 'S']]]\n",
      "    #(relations): [7]\n",
      "Network state: (0, 1, 0, 1)\n",
      "Complexes: ['PQRS']\n",
      "    φ_s: ['1.51']\n",
      "    Φ: ['391.25']\n",
      "    Distinctions: [[['P'], ['Q'], ['S'], ['P', 'Q'], ['P', 'S'], ['Q', 'R'], ['Q', 'S'], ['R', 'S'], ['P', 'Q', 'R'], ['P', 'Q', 'S'], ['P', 'R', 'S'], ['Q', 'R', 'S'], ['P', 'Q', 'R', 'S']]]\n",
      "    #(relations): [8184]\n",
      "Network state: (1, 1, 0, 1)\n",
      "Complexes: ['PQRS']\n",
      "    φ_s: ['1.09']\n",
      "    Φ: ['24.48']\n",
      "    Distinctions: [[['P'], ['R'], ['P', 'Q'], ['P', 'S'], ['P', 'Q', 'R'], ['P', 'Q', 'S'], ['Q', 'R', 'S'], ['P', 'Q', 'R', 'S']]]\n",
      "    #(relations): [154]\n",
      "Network state: (0, 0, 1, 1)\n",
      "Complexes: ['PQRS']\n",
      "    φ_s: ['1.09']\n",
      "    Φ: ['16.79']\n",
      "    Distinctions: [[['Q'], ['R'], ['S'], ['P', 'Q'], ['P', 'Q', 'R'], ['P', 'Q', 'S'], ['P', 'Q', 'R', 'S']]]\n",
      "    #(relations): [100]\n",
      "Network state: (1, 0, 1, 1)\n",
      "Complexes: ['PQRS']\n",
      "    φ_s: ['0.83']\n",
      "    Φ: ['13.60']\n",
      "    Distinctions: [[['P'], ['R'], ['P', 'Q'], ['P', 'S'], ['P', 'R', 'S'], ['Q', 'R', 'S'], ['P', 'Q', 'R', 'S']]]\n",
      "    #(relations): [98]\n",
      "Network state: (0, 1, 1, 1)\n",
      "Complexes: ['QR']\n",
      "    φ_s: ['2.00']\n",
      "    Φ: ['3.04']\n",
      "    Distinctions: [[['Q'], ['Q', 'R']]]\n",
      "    #(relations): [3]\n",
      "Network state: (1, 1, 1, 1)\n",
      "Complexes: ['PQRS']\n",
      "    φ_s: ['0.83']\n",
      "    Φ: ['175.80']\n",
      "    Distinctions: [[['Q'], ['R'], ['S'], ['P', 'Q'], ['P', 'S'], ['Q', 'R'], ['Q', 'S'], ['R', 'S'], ['P', 'Q', 'S'], ['P', 'R', 'S'], ['Q', 'R', 'S'], ['P', 'Q', 'R', 'S']]]\n",
      "    #(relations): [2055]\n"
     ]
    }
   ],
   "source": [
    "mcbs = cc.get_maximal_complexes_by_state(network)\n",
    "psbs = cc.get_phi_structures_by_state(network, mcbs)\n",
    "cc.summarize_all_states(network, mcbs, psbs)"
   ]
  },
  {
   "cell_type": "code",
   "execution_count": null,
   "metadata": {},
   "outputs": [
    {
     "name": "stdout",
     "output_type": "stream",
     "text": [
      "Network state: 0000\n",
      "Complex: PQRS\n"
     ]
    },
    {
     "data": {
      "application/vnd.jupyter.widget-view+json": {
       "model_id": "1c17151a874e4d1e9f6ac2c67f98c145",
       "version_major": 2,
       "version_minor": 0
      },
      "text/plain": [
       "Grouping relation faces by degree:   0%|          | 0/2230 [00:00<?, ?it/s]"
      ]
     },
     "metadata": {},
     "output_type": "display_data"
    },
    {
     "name": "stderr",
     "output_type": "stream",
     "text": [
      "/home/gfindlay/miniconda3/envs/findlay2024a_3p13/lib/python3.13/site-packages/pyphi/visualize/phi_structure/__init__.py:715: UserWarning:\n",
      "\n",
      "Cannot plot different widths with a single trace; using mean width 2.868522077901616. Try increasing `detail_threshold`.\n",
      "\n"
     ]
    },
    {
     "name": "stdout",
     "output_type": "stream",
     "text": [
      "Network state: 1000\n",
      "Complex: PQRS\n"
     ]
    },
    {
     "data": {
      "application/vnd.jupyter.widget-view+json": {
       "model_id": "ae8d090576044dbeafc6c69b9e29f835",
       "version_major": 2,
       "version_minor": 0
      },
      "text/plain": [
       "Grouping relation faces by degree:   0%|          | 0/2036 [00:00<?, ?it/s]"
      ]
     },
     "metadata": {},
     "output_type": "display_data"
    },
    {
     "name": "stdout",
     "output_type": "stream",
     "text": [
      "Network state: 0100\n",
      "Complex: PS\n"
     ]
    },
    {
     "data": {
      "application/vnd.jupyter.widget-view+json": {
       "model_id": "03a36dd99496474fb1debcb75cec69a2",
       "version_major": 2,
       "version_minor": 0
      },
      "text/plain": [
       "Grouping relation faces by degree:   0%|          | 0/3 [00:00<?, ?it/s]"
      ]
     },
     "metadata": {},
     "output_type": "display_data"
    },
    {
     "name": "stdout",
     "output_type": "stream",
     "text": [
      "Network state: 1100\n",
      "Complex: PQRS\n"
     ]
    },
    {
     "data": {
      "application/vnd.jupyter.widget-view+json": {
       "model_id": "b213a81965ca448f88369035df66a4ab",
       "version_major": 2,
       "version_minor": 0
      },
      "text/plain": [
       "Grouping relation faces by degree:   0%|          | 0/407 [00:00<?, ?it/s]"
      ]
     },
     "metadata": {},
     "output_type": "display_data"
    },
    {
     "name": "stdout",
     "output_type": "stream",
     "text": [
      "Network state: 0010\n",
      "Complex: PS\n"
     ]
    },
    {
     "data": {
      "application/vnd.jupyter.widget-view+json": {
       "model_id": "3367ab2cdc1e45ed806eff954f88eae3",
       "version_major": 2,
       "version_minor": 0
      },
      "text/plain": [
       "Grouping relation faces by degree:   0%|          | 0/3 [00:00<?, ?it/s]"
      ]
     },
     "metadata": {},
     "output_type": "display_data"
    },
    {
     "name": "stdout",
     "output_type": "stream",
     "text": [
      "Network state: 1010\n",
      "Complex: Q\n"
     ]
    },
    {
     "data": {
      "application/vnd.jupyter.widget-view+json": {
       "model_id": "9861fc02c5ad440e9b7feb1945eb0299",
       "version_major": 2,
       "version_minor": 0
      },
      "text/plain": [
       "Grouping relation faces by degree:   0%|          | 0/1 [00:00<?, ?it/s]"
      ]
     },
     "metadata": {},
     "output_type": "display_data"
    },
    {
     "name": "stdout",
     "output_type": "stream",
     "text": [
      "Network state: 0110\n",
      "Complex: RS\n"
     ]
    },
    {
     "data": {
      "application/vnd.jupyter.widget-view+json": {
       "model_id": "646486ad24e04846bdd360d7e1672cbf",
       "version_major": 2,
       "version_minor": 0
      },
      "text/plain": [
       "Grouping relation faces by degree:   0%|          | 0/6 [00:00<?, ?it/s]"
      ]
     },
     "metadata": {},
     "output_type": "display_data"
    },
    {
     "name": "stdout",
     "output_type": "stream",
     "text": [
      "Network state: 1110\n",
      "Complex: QS\n"
     ]
    },
    {
     "data": {
      "application/vnd.jupyter.widget-view+json": {
       "model_id": "93312ed6ab0346b1bb7722006548bd92",
       "version_major": 2,
       "version_minor": 0
      },
      "text/plain": [
       "Grouping relation faces by degree:   0%|          | 0/4 [00:00<?, ?it/s]"
      ]
     },
     "metadata": {},
     "output_type": "display_data"
    },
    {
     "name": "stdout",
     "output_type": "stream",
     "text": [
      "Network state: 0001\n",
      "Complex: PQRS\n"
     ]
    },
    {
     "data": {
      "application/vnd.jupyter.widget-view+json": {
       "model_id": "fe4b5e4e5295450f9057574bb04ab1b6",
       "version_major": 2,
       "version_minor": 0
      },
      "text/plain": [
       "Grouping relation faces by degree:   0%|          | 0/88 [00:00<?, ?it/s]"
      ]
     },
     "metadata": {},
     "output_type": "display_data"
    },
    {
     "name": "stdout",
     "output_type": "stream",
     "text": [
      "Network state: 1001\n",
      "Complex: RS\n"
     ]
    },
    {
     "data": {
      "application/vnd.jupyter.widget-view+json": {
       "model_id": "ad1f708b82fe439e97f18e6c934864b9",
       "version_major": 2,
       "version_minor": 0
      },
      "text/plain": [
       "Grouping relation faces by degree:   0%|          | 0/7 [00:00<?, ?it/s]"
      ]
     },
     "metadata": {},
     "output_type": "display_data"
    },
    {
     "name": "stdout",
     "output_type": "stream",
     "text": [
      "Network state: 0101\n",
      "Complex: PQRS\n"
     ]
    },
    {
     "data": {
      "application/vnd.jupyter.widget-view+json": {
       "model_id": "7f6c728e91aa467b8f5fd87cfbf27493",
       "version_major": 2,
       "version_minor": 0
      },
      "text/plain": [
       "Grouping relation faces by degree:   0%|          | 0/8184 [00:00<?, ?it/s]"
      ]
     },
     "metadata": {},
     "output_type": "display_data"
    }
   ],
   "source": [
    "# Plot all states\n",
    "# State (0, 1, 0, 1) takes 95min (8k relations) if not cached.\n",
    "cc.plot_phi_structures_by_state(network, mcbs, psbs, savedir=\"phi_structures/pqrs_cycles/pub_theme/\", theme=cc.PubTheme())"
   ]
  }
 ],
 "metadata": {
  "kernelspec": {
   "display_name": "findlay2024a_3p13",
   "language": "python",
   "name": "python3"
  },
  "language_info": {
   "codemirror_mode": {
    "name": "ipython",
    "version": 3
   },
   "file_extension": ".py",
   "mimetype": "text/x-python",
   "name": "python",
   "nbconvert_exporter": "python",
   "pygments_lexer": "ipython3",
   "version": "3.13.0"
  }
 },
 "nbformat": 4,
 "nbformat_minor": 2
}
