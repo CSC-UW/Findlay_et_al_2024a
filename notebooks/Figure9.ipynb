{
 "cells": [
  {
   "cell_type": "code",
   "execution_count": 10,
   "metadata": {},
   "outputs": [],
   "source": [
    "import pyphi\n",
    "import pyphi.new_big_phi\n",
    "import pyphi.visualize\n",
    "import findlay2024a as cc"
   ]
  },
  {
   "cell_type": "code",
   "execution_count": 11,
   "metadata": {},
   "outputs": [],
   "source": [
    "network, state = cc.get_wxyz_micro_example()"
   ]
  },
  {
   "cell_type": "code",
   "execution_count": 12,
   "metadata": {},
   "outputs": [
    {
     "data": {
      "image/png": "[encoded data removed]",
      "text/plain": [
       "<Figure size 300x300 with 2 Axes>"
      ]
     },
     "metadata": {},
     "output_type": "display_data"
    }
   ],
   "source": [
    "fig_wz, axes = cc.plot_truth_table(network, figsize=(3, 3))"
   ]
  },
  {
   "cell_type": "code",
   "execution_count": 13,
   "metadata": {},
   "outputs": [
    {
     "data": {
      "image/png": "[encoded data removed]",
      "text/plain": [
       "<Figure size 300x300 with 1 Axes>"
      ]
     },
     "metadata": {},
     "output_type": "display_data"
    }
   ],
   "source": [
    "fig_wz, ax = cc.plot_sbs_tpm(network, height=3)"
   ]
  },
  {
   "cell_type": "code",
   "execution_count": 14,
   "metadata": {},
   "outputs": [
    {
     "name": "stdout",
     "output_type": "stream",
     "text": [
      "┌────────────────────────────────────┐\n",
      "│    SystemIrreducibilityAnalysis    │\n",
      "│ ━━━━━━━━━━━━━━━━━━━━━━━━━━━━━━━━━━ │\n",
      "│      Subsystem:  Y                 │\n",
      "│  Current state:  (0)               │\n",
      "│            φ_s: 0.2766916661858958 │\n",
      "│ Normalized φ_s: 0.2766916661858958 │\n",
      "│          CAUSE:  (1)               │\n",
      "│           II_c: 0.2766916661858958 │\n",
      "│         EFFECT:  (1)               │\n",
      "│           II_e: 1.0                │\n",
      "│   #(tied MIPs): 0                  │\n",
      "│      Partition:                    │\n",
      "│                 Complete           │\n",
      "│                 [[1]]              │\n",
      "└────────────────────────────────────┘\n",
      "┌────────────────────────────────────┐\n",
      "│    SystemIrreducibilityAnalysis    │\n",
      "│ ━━━━━━━━━━━━━━━━━━━━━━━━━━━━━━━━━━ │\n",
      "│      Subsystem:  Y                 │\n",
      "│  Current state:  (0)               │\n",
      "│            φ_s: 0.2766916661858958 │\n",
      "│ Normalized φ_s: 0.2766916661858958 │\n",
      "│          CAUSE:  (1)               │\n",
      "│           II_c: 0.2766916661858958 │\n",
      "│         EFFECT:  (1)               │\n",
      "│           II_e: 1.0                │\n",
      "│   #(tied MIPs): 0                  │\n",
      "│      Partition:                    │\n",
      "│                 Complete           │\n",
      "│                 [[1]]              │\n",
      "└────────────────────────────────────┘\n"
     ]
    }
   ],
   "source": [
    "sias = cc.condensed(network, state)\n",
    "for siaz in sias:\n",
    "    print(sia)"
   ]
  },
  {
   "cell_type": "code",
   "execution_count": 15,
   "metadata": {},
   "outputs": [
    {
     "data": {
      "application/vnd.jupyter.widget-view+json": {
       "model_id": "5000068861be48a3bcc4b7bdc68231a4",
       "version_major": 2,
       "version_minor": 0
      },
      "text/plain": [
       "Grouping relation faces by degree:   0%|          | 0/7 [00:00<?, ?it/s]"
      ]
     },
     "metadata": {},
     "output_type": "display_data"
    }
   ],
   "source": [
    "sia_wz = sias[0]\n",
    "subsystem_wz = pyphi.Subsystem(network, state, nodes=sia_wz.node_indices)\n",
    "ces_wz = pyphi.new_big_phi.phi_structure(subsystem_wz, sia_wz)\n",
    "fig_wz = pyphi.visualize.phi_structure.plot_phi_structure(\n",
    "    phi_structure=ces_wz,\n",
    "    state=state,\n",
    "    node_labels=sia_wz.node_labels,\n",
    "    node_indices=sia_wz.node_indices,\n",
    "    theme=cc.PubTheme()\n",
    ")\n",
    "fig_wz.write_html(f\"phi_structures/Figure9_WZ.html\")"
   ]
  },
  {
   "cell_type": "code",
   "execution_count": 16,
   "metadata": {},
   "outputs": [
    {
     "data": {
      "application/vnd.jupyter.widget-view+json": {
       "model_id": "76e354c6b7e344caad0934a6ad480c34",
       "version_major": 2,
       "version_minor": 0
      },
      "text/plain": [
       "Grouping relation faces by degree:   0%|          | 0/1 [00:00<?, ?it/s]"
      ]
     },
     "metadata": {},
     "output_type": "display_data"
    }
   ],
   "source": [
    "sia_y = sias[1]\n",
    "subsystem_y = pyphi.Subsystem(network, state, nodes=sia_y.node_indices)\n",
    "ces_y = pyphi.new_big_phi.phi_structure(subsystem_y, sia_y)\n",
    "fig_y = pyphi.visualize.phi_structure.plot_phi_structure(\n",
    "    phi_structure=ces_y,\n",
    "    state=state,\n",
    "    node_labels=sia_y.node_labels,\n",
    "    node_indices=sia_y.node_indices,\n",
    "    theme=cc.PubTheme()\n",
    ")\n",
    "fig_y.write_html(f\"phi_structures/Figure9_y.html\")"
   ]
  },
  {
   "cell_type": "code",
   "execution_count": null,
   "metadata": {},
   "outputs": [],
   "source": []
  },
  {
   "cell_type": "code",
   "execution_count": null,
   "metadata": {},
   "outputs": [],
   "source": []
  }
 ],
 "metadata": {
  "kernelspec": {
   "display_name": "findlay2024a_3p13",
   "language": "python",
   "name": "python3"
  },
  "language_info": {
   "codemirror_mode": {
    "name": "ipython",
    "version": 3
   },
   "file_extension": ".py",
   "mimetype": "text/x-python",
   "name": "python",
   "nbconvert_exporter": "python",
   "pygments_lexer": "ipython3",
   "version": "3.13.0"
  }
 },
 "nbformat": 4,
 "nbformat_minor": 2
}
