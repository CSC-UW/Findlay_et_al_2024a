{
 "cells": [
  {
   "cell_type": "code",
   "execution_count": 1,
   "metadata": {},
   "outputs": [],
   "source": [
    "import matplotlib.pyplot as plt\n",
    "\n",
    "plt.rcParams.update({\"font.family\": \"sans-serif\", \"font.sans-serif\": \"Noto Sans\"})"
   ]
  },
  {
   "cell_type": "code",
   "execution_count": 2,
   "metadata": {},
   "outputs": [],
   "source": [
    "import pyphi\n",
    "import pyphi.new_big_phi\n",
    "import pyphi.visualize\n",
    "\n",
    "import findlay2024a as cc"
   ]
  },
  {
   "cell_type": "code",
   "execution_count": 3,
   "metadata": {},
   "outputs": [],
   "source": [
    "network, state = cc.get_wxyz_micro_example()"
   ]
  },
  {
   "cell_type": "code",
   "execution_count": 4,
   "metadata": {},
   "outputs": [
    {
     "data": {
      "image/png": "[encoded data removed]",
      "text/plain": [
       "<Figure size 300x300 with 2 Axes>"
      ]
     },
     "metadata": {},
     "output_type": "display_data"
    }
   ],
   "source": [
    "fig, axes = cc.plot_truth_table(network, figsize=(3, 3))\n",
    "fig.savefig(\"wxyz_plots/truth_table.svg\")"
   ]
  },
  {
   "cell_type": "code",
   "execution_count": 5,
   "metadata": {},
   "outputs": [
    {
     "data": {
      "image/png": "[encoded data removed]",
      "text/plain": [
       "<Figure size 300x300 with 1 Axes>"
      ]
     },
     "metadata": {},
     "output_type": "display_data"
    }
   ],
   "source": [
    "fig, ax = cc.plot_sbs_tpm(network, height=3)\n",
    "fig.savefig(\"wxyz_plots/tpm.svg\")"
   ]
  },
  {
   "cell_type": "code",
   "execution_count": 6,
   "metadata": {},
   "outputs": [
    {
     "name": "stdout",
     "output_type": "stream",
     "text": [
      "┌────────────────────────────────────┐\n",
      "│    SystemIrreducibilityAnalysis    │\n",
      "│ ━━━━━━━━━━━━━━━━━━━━━━━━━━━━━━━━━━ │\n",
      "│      Subsystem:  W,Z               │\n",
      "│  Current state:  (1,1)             │\n",
      "│            φ_s: 0.4743285706043928 │\n",
      "│ Normalized φ_s: 0.2371642853021964 │\n",
      "│          CAUSE:  (1,0)             │\n",
      "│           II_c: 0.6815114731099404 │\n",
      "│         EFFECT:  (0,0)             │\n",
      "│           II_e: 2.0                │\n",
      "│   #(tied MIPs): 0                  │\n",
      "│      Partition:                    │\n",
      "│                 2 parts: {W,Z}     │\n",
      "│                 [[0 1]             │\n",
      "│                  [1 0]]            │\n",
      "└────────────────────────────────────┘\n",
      "┌────────────────────────────────────┐\n",
      "│    SystemIrreducibilityAnalysis    │\n",
      "│ ━━━━━━━━━━━━━━━━━━━━━━━━━━━━━━━━━━ │\n",
      "│      Subsystem:  Y                 │\n",
      "│  Current state:  (0)               │\n",
      "│            φ_s: 0.2766916661858958 │\n",
      "│ Normalized φ_s: 0.2766916661858958 │\n",
      "│          CAUSE:  (1)               │\n",
      "│           II_c: 0.2766916661858958 │\n",
      "│         EFFECT:  (1)               │\n",
      "│           II_e: 1.0                │\n",
      "│   #(tied MIPs): 0                  │\n",
      "│      Partition:                    │\n",
      "│                 Complete           │\n",
      "│                 [[1]]              │\n",
      "└────────────────────────────────────┘\n"
     ]
    }
   ],
   "source": [
    "sias = cc.condensed(network, state)\n",
    "for sia in sias:\n",
    "    print(sia)"
   ]
  },
  {
   "cell_type": "code",
   "execution_count": 7,
   "metadata": {},
   "outputs": [
    {
     "data": {
      "application/vnd.jupyter.widget-view+json": {
       "model_id": "ea548da288cb4c8fbdbcc7a7b3651aba",
       "version_major": 2,
       "version_minor": 0
      },
      "text/plain": [
       "Grouping relation faces by degree:   0%|          | 0/7 [00:00<?, ?it/s]"
      ]
     },
     "metadata": {},
     "output_type": "display_data"
    }
   ],
   "source": [
    "sia_wz = sias[0]\n",
    "subsystem_wz = pyphi.Subsystem(network, state, nodes=sia_wz.node_indices)\n",
    "ces_wz = pyphi.new_big_phi.phi_structure(subsystem_wz, sia_wz)\n",
    "fig_wz = pyphi.visualize.phi_structure.plot_phi_structure(\n",
    "    phi_structure=ces_wz,\n",
    "    state=state,\n",
    "    node_labels=sia_wz.node_labels,\n",
    "    node_indices=sia_wz.node_indices,\n",
    "    theme=cc.PubTheme(),\n",
    ")\n",
    "fig_wz.write_html(\"wxyz_plots/WZ_phi_structure.html\")"
   ]
  },
  {
   "cell_type": "code",
   "execution_count": 8,
   "metadata": {},
   "outputs": [
    {
     "data": {
      "application/vnd.jupyter.widget-view+json": {
       "model_id": "0a804abe95e942448844e7254b8402a3",
       "version_major": 2,
       "version_minor": 0
      },
      "text/plain": [
       "Grouping relation faces by degree:   0%|          | 0/1 [00:00<?, ?it/s]"
      ]
     },
     "metadata": {},
     "output_type": "display_data"
    }
   ],
   "source": [
    "sia_y = sias[1]\n",
    "subsystem_y = pyphi.Subsystem(network, state, nodes=sia_y.node_indices)\n",
    "ces_y = pyphi.new_big_phi.phi_structure(subsystem_y, sia_y)\n",
    "fig_y = pyphi.visualize.phi_structure.plot_phi_structure(\n",
    "    phi_structure=ces_y,\n",
    "    state=state,\n",
    "    node_labels=sia_y.node_labels,\n",
    "    node_indices=sia_y.node_indices,\n",
    "    theme=cc.PubTheme(),\n",
    ")\n",
    "fig_y.write_html(\"wxyz_plots/y_phi_structure.html\")"
   ]
  },
  {
   "cell_type": "code",
   "execution_count": null,
   "metadata": {},
   "outputs": [],
   "source": []
  },
  {
   "cell_type": "code",
   "execution_count": null,
   "metadata": {},
   "outputs": [],
   "source": []
  }
 ],
 "metadata": {
  "kernelspec": {
   "display_name": "findlay2024a_3p13",
   "language": "python",
   "name": "python3"
  },
  "language_info": {
   "codemirror_mode": {
    "name": "ipython",
    "version": 3
   },
   "file_extension": ".py",
   "mimetype": "text/x-python",
   "name": "python",
   "nbconvert_exporter": "python",
   "pygments_lexer": "ipython3",
   "version": "3.13.0"
  }
 },
 "nbformat": 4,
 "nbformat_minor": 2
}
