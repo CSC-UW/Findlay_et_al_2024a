{
 "cells": [
  {
   "cell_type": "code",
   "execution_count": 1,
   "metadata": {},
   "outputs": [],
   "source": [
    "import matplotlib.pyplot as plt\n",
    "plt.rcParams.update({'font.family': 'sans-serif', 'font.sans-serif': 'Noto Sans'})"
   ]
  },
  {
   "cell_type": "code",
   "execution_count": 2,
   "metadata": {},
   "outputs": [],
   "source": [
    "import findlay2024a as cc"
   ]
  },
  {
   "cell_type": "code",
   "execution_count": 3,
   "metadata": {},
   "outputs": [
    {
     "data": {
      "text/plain": [
       "[[(0, 0, 0, 0)],\n",
       " [(1, 0, 0, 0),\n",
       "  (0, 0, 0, 1),\n",
       "  (1, 0, 1, 1),\n",
       "  (1, 1, 1, 1),\n",
       "  (1, 1, 0, 0),\n",
       "  (0, 0, 1, 1),\n",
       "  (1, 1, 0, 1),\n",
       "  (0, 1, 0, 1),\n",
       "  (1, 1, 1, 0)],\n",
       " [(0, 1, 0, 0), (0, 0, 1, 0)],\n",
       " [(1, 0, 1, 0), (0, 1, 1, 1)],\n",
       " [(0, 1, 1, 0), (1, 0, 0, 1)]]"
      ]
     },
     "execution_count": 3,
     "metadata": {},
     "output_type": "execute_result"
    }
   ],
   "source": [
    "network, state = cc.get_pqrs_micro_example()\n",
    "cycles = cc.get_cycles(network)\n",
    "cycles"
   ]
  },
  {
   "cell_type": "code",
   "execution_count": 4,
   "metadata": {},
   "outputs": [
    {
     "name": "stdout",
     "output_type": "stream",
     "text": [
      "Network state: (0, 0, 0, 0)\n",
      "Complexes: ['PQRS']\n",
      "    φ_s: ['1.42']\n",
      "    Φ: ['235.36']\n",
      "    Distinctions: [[['P'], ['R'], ['S'], ['P', 'Q'], ['P', 'S'], ['Q', 'R'], ['Q', 'S'], ['R', 'S'], ['P', 'Q', 'R'], ['P', 'Q', 'S'], ['P', 'R', 'S'], ['P', 'Q', 'R', 'S']]]\n",
      "    #(relations): [2230]\n",
      "Network state: (1, 0, 0, 0)\n",
      "Complexes: ['PQRS']\n",
      "    φ_s: ['1.42']\n",
      "    Φ: ['156.44']\n",
      "    Distinctions: [[['P'], ['Q'], ['R'], ['S'], ['P', 'R'], ['P', 'S'], ['Q', 'S'], ['P', 'Q', 'S'], ['P', 'R', 'S'], ['Q', 'R', 'S'], ['P', 'Q', 'R', 'S']]]\n",
      "    #(relations): [2036]\n",
      "Network state: (0, 1, 0, 0)\n",
      "Complexes: ['PS']\n",
      "    φ_s: ['2.00']\n",
      "    Φ: ['2.83']\n",
      "    Distinctions: [[['P'], ['S']]]\n",
      "    #(relations): [3]\n",
      "Network state: (1, 1, 0, 0)\n",
      "Complexes: ['PQRS']\n",
      "    φ_s: ['1.36']\n",
      "    Φ: ['40.66']\n",
      "    Distinctions: [[['P'], ['R'], ['S'], ['P', 'R'], ['P', 'S'], ['Q', 'R'], ['P', 'Q', 'R'], ['P', 'R', 'S'], ['P', 'Q', 'R', 'S']]]\n",
      "    #(relations): [407]\n",
      "Network state: (0, 0, 1, 0)\n",
      "Complexes: ['PS']\n",
      "    φ_s: ['2.00']\n",
      "    Φ: ['2.33']\n",
      "    Distinctions: [[['P'], ['S']]]\n",
      "    #(relations): [3]\n",
      "Network state: (1, 0, 1, 0)\n",
      "Complexes: ['Q']\n",
      "    φ_s: ['1.00']\n",
      "    Φ: ['2.00']\n",
      "    Distinctions: [[['Q']]]\n",
      "    #(relations): [1]\n",
      "Network state: (0, 1, 1, 0)\n",
      "Complexes: ['RS']\n",
      "    φ_s: ['2.00']\n",
      "    Φ: ['3.10']\n",
      "    Distinctions: [[['R'], ['S'], ['R', 'S']]]\n",
      "    #(relations): [6]\n",
      "Network state: (1, 1, 1, 0)\n",
      "Complexes: ['QS']\n",
      "    φ_s: ['2.00']\n",
      "    Φ: ['2.94']\n",
      "    Distinctions: [[['Q'], ['S'], ['Q', 'S']]]\n",
      "    #(relations): [4]\n",
      "Network state: (0, 0, 0, 1)\n",
      "Complexes: ['PQRS']\n",
      "    φ_s: ['1.42']\n",
      "    Φ: ['14.34']\n",
      "    Distinctions: [[['P'], ['P', 'S'], ['Q', 'R'], ['Q', 'S'], ['P', 'Q', 'R'], ['P', 'Q', 'S'], ['P', 'Q', 'R', 'S']]]\n",
      "    #(relations): [88]\n",
      "Network state: (1, 0, 0, 1)\n",
      "Complexes: ['RS']\n",
      "    φ_s: ['2.00']\n",
      "    Φ: ['7.37']\n",
      "    Distinctions: [[['R'], ['S'], ['R', 'S']]]\n",
      "    #(relations): [7]\n",
      "Network state: (0, 1, 0, 1)\n",
      "Complexes: ['PQRS']\n",
      "    φ_s: ['1.51']\n",
      "    Φ: ['391.25']\n",
      "    Distinctions: [[['P'], ['Q'], ['S'], ['P', 'Q'], ['P', 'S'], ['Q', 'R'], ['Q', 'S'], ['R', 'S'], ['P', 'Q', 'R'], ['P', 'Q', 'S'], ['P', 'R', 'S'], ['Q', 'R', 'S'], ['P', 'Q', 'R', 'S']]]\n",
      "    #(relations): [8184]\n",
      "Network state: (1, 1, 0, 1)\n",
      "Complexes: ['PQRS']\n",
      "    φ_s: ['1.09']\n",
      "    Φ: ['24.48']\n",
      "    Distinctions: [[['P'], ['R'], ['P', 'Q'], ['P', 'S'], ['P', 'Q', 'R'], ['P', 'Q', 'S'], ['Q', 'R', 'S'], ['P', 'Q', 'R', 'S']]]\n",
      "    #(relations): [154]\n",
      "Network state: (0, 0, 1, 1)\n",
      "Complexes: ['PQRS']\n",
      "    φ_s: ['1.09']\n",
      "    Φ: ['16.79']\n",
      "    Distinctions: [[['Q'], ['R'], ['S'], ['P', 'Q'], ['P', 'Q', 'R'], ['P', 'Q', 'S'], ['P', 'Q', 'R', 'S']]]\n",
      "    #(relations): [100]\n",
      "Network state: (1, 0, 1, 1)\n",
      "Complexes: ['PQRS']\n",
      "    φ_s: ['0.83']\n",
      "    Φ: ['13.60']\n",
      "    Distinctions: [[['P'], ['R'], ['P', 'Q'], ['P', 'S'], ['P', 'R', 'S'], ['Q', 'R', 'S'], ['P', 'Q', 'R', 'S']]]\n",
      "    #(relations): [98]\n",
      "Network state: (0, 1, 1, 1)\n",
      "Complexes: ['QR']\n",
      "    φ_s: ['2.00']\n",
      "    Φ: ['3.04']\n",
      "    Distinctions: [[['Q'], ['Q', 'R']]]\n",
      "    #(relations): [3]\n",
      "Network state: (1, 1, 1, 1)\n",
      "Complexes: ['PQRS']\n",
      "    φ_s: ['0.83']\n",
      "    Φ: ['175.80']\n",
      "    Distinctions: [[['Q'], ['R'], ['S'], ['P', 'Q'], ['P', 'S'], ['Q', 'R'], ['Q', 'S'], ['R', 'S'], ['P', 'Q', 'S'], ['P', 'R', 'S'], ['Q', 'R', 'S'], ['P', 'Q', 'R', 'S']]]\n",
      "    #(relations): [2055]\n"
     ]
    }
   ],
   "source": [
    "mcbs = cc.get_maximal_complexes_by_state(network)\n",
    "psbs = cc.get_phi_structures_by_state(network, mcbs)\n",
    "cc.summarize_all_states(network, mcbs, psbs)"
   ]
  },
  {
   "cell_type": "code",
   "execution_count": 5,
   "metadata": {},
   "outputs": [
    {
     "name": "stdout",
     "output_type": "stream",
     "text": [
      "Network state: 0000\n",
      "Complex: PQRS\n"
     ]
    },
    {
     "data": {
      "application/vnd.jupyter.widget-view+json": {
       "model_id": "f3a3683c30f540258778df30ba31c3a9",
       "version_major": 2,
       "version_minor": 0
      },
      "text/plain": [
       "Grouping relation faces by degree:   0%|          | 0/2230 [00:00<?, ?it/s]"
      ]
     },
     "metadata": {},
     "output_type": "display_data"
    },
    {
     "name": "stderr",
     "output_type": "stream",
     "text": [
      "/home/gfindlay/miniconda3/envs/findlay2024a_3p13/lib/python3.13/site-packages/pyphi/visualize/phi_structure/__init__.py:715: UserWarning:\n",
      "\n",
      "Cannot plot different widths with a single trace; using mean width 2.868522077901616. Try increasing `detail_threshold`.\n",
      "\n"
     ]
    },
    {
     "name": "stdout",
     "output_type": "stream",
     "text": [
      "Network state: 1000\n",
      "Complex: PQRS\n"
     ]
    },
    {
     "data": {
      "application/vnd.jupyter.widget-view+json": {
       "model_id": "c300d366ed124bd094e566e159c4a9eb",
       "version_major": 2,
       "version_minor": 0
      },
      "text/plain": [
       "Grouping relation faces by degree:   0%|          | 0/2036 [00:00<?, ?it/s]"
      ]
     },
     "metadata": {},
     "output_type": "display_data"
    },
    {
     "name": "stdout",
     "output_type": "stream",
     "text": [
      "Network state: 0100\n",
      "Complex: PS\n"
     ]
    },
    {
     "data": {
      "application/vnd.jupyter.widget-view+json": {
       "model_id": "30e8b353a922494c9e8082de9c4e3414",
       "version_major": 2,
       "version_minor": 0
      },
      "text/plain": [
       "Grouping relation faces by degree:   0%|          | 0/3 [00:00<?, ?it/s]"
      ]
     },
     "metadata": {},
     "output_type": "display_data"
    },
    {
     "name": "stdout",
     "output_type": "stream",
     "text": [
      "Network state: 1100\n",
      "Complex: PQRS\n"
     ]
    },
    {
     "data": {
      "application/vnd.jupyter.widget-view+json": {
       "model_id": "9216d3acbb1f439292e4b75a3b6545be",
       "version_major": 2,
       "version_minor": 0
      },
      "text/plain": [
       "Grouping relation faces by degree:   0%|          | 0/407 [00:00<?, ?it/s]"
      ]
     },
     "metadata": {},
     "output_type": "display_data"
    },
    {
     "name": "stdout",
     "output_type": "stream",
     "text": [
      "Network state: 0010\n",
      "Complex: PS\n"
     ]
    },
    {
     "data": {
      "application/vnd.jupyter.widget-view+json": {
       "model_id": "f66d1b345fa646e6bf1f5747bd9feed7",
       "version_major": 2,
       "version_minor": 0
      },
      "text/plain": [
       "Grouping relation faces by degree:   0%|          | 0/3 [00:00<?, ?it/s]"
      ]
     },
     "metadata": {},
     "output_type": "display_data"
    },
    {
     "name": "stdout",
     "output_type": "stream",
     "text": [
      "Network state: 1010\n",
      "Complex: Q\n"
     ]
    },
    {
     "data": {
      "application/vnd.jupyter.widget-view+json": {
       "model_id": "46b1d74ccd9c4d5bb0e885888524f968",
       "version_major": 2,
       "version_minor": 0
      },
      "text/plain": [
       "Grouping relation faces by degree:   0%|          | 0/1 [00:00<?, ?it/s]"
      ]
     },
     "metadata": {},
     "output_type": "display_data"
    },
    {
     "name": "stdout",
     "output_type": "stream",
     "text": [
      "Network state: 0110\n",
      "Complex: RS\n"
     ]
    },
    {
     "data": {
      "application/vnd.jupyter.widget-view+json": {
       "model_id": "fb2d76a59525487ca3dd92348e65799d",
       "version_major": 2,
       "version_minor": 0
      },
      "text/plain": [
       "Grouping relation faces by degree:   0%|          | 0/6 [00:00<?, ?it/s]"
      ]
     },
     "metadata": {},
     "output_type": "display_data"
    },
    {
     "name": "stdout",
     "output_type": "stream",
     "text": [
      "Network state: 1110\n",
      "Complex: QS\n"
     ]
    },
    {
     "data": {
      "application/vnd.jupyter.widget-view+json": {
       "model_id": "e8e8b9cad0e34fabbbd6fddb6dfbc5a4",
       "version_major": 2,
       "version_minor": 0
      },
      "text/plain": [
       "Grouping relation faces by degree:   0%|          | 0/4 [00:00<?, ?it/s]"
      ]
     },
     "metadata": {},
     "output_type": "display_data"
    },
    {
     "name": "stdout",
     "output_type": "stream",
     "text": [
      "Network state: 0001\n",
      "Complex: PQRS\n"
     ]
    },
    {
     "data": {
      "application/vnd.jupyter.widget-view+json": {
       "model_id": "544799b0d5d744b88fadfa0b30c28556",
       "version_major": 2,
       "version_minor": 0
      },
      "text/plain": [
       "Grouping relation faces by degree:   0%|          | 0/88 [00:00<?, ?it/s]"
      ]
     },
     "metadata": {},
     "output_type": "display_data"
    },
    {
     "name": "stdout",
     "output_type": "stream",
     "text": [
      "Network state: 1001\n",
      "Complex: RS\n"
     ]
    },
    {
     "data": {
      "application/vnd.jupyter.widget-view+json": {
       "model_id": "7bbfa2c916244daf8ec79f0218f44015",
       "version_major": 2,
       "version_minor": 0
      },
      "text/plain": [
       "Grouping relation faces by degree:   0%|          | 0/7 [00:00<?, ?it/s]"
      ]
     },
     "metadata": {},
     "output_type": "display_data"
    },
    {
     "name": "stdout",
     "output_type": "stream",
     "text": [
      "Network state: 0101\n",
      "Complex: PQRS\n"
     ]
    },
    {
     "data": {
      "application/vnd.jupyter.widget-view+json": {
       "model_id": "24507c6b251341b2adfc7fee3eabea18",
       "version_major": 2,
       "version_minor": 0
      },
      "text/plain": [
       "Grouping relation faces by degree:   0%|          | 0/8184 [00:00<?, ?it/s]"
      ]
     },
     "metadata": {},
     "output_type": "display_data"
    },
    {
     "name": "stdout",
     "output_type": "stream",
     "text": [
      "Network state: 1101\n",
      "Complex: PQRS\n"
     ]
    },
    {
     "name": "stderr",
     "output_type": "stream",
     "text": [
      "/home/gfindlay/miniconda3/envs/findlay2024a_3p13/lib/python3.13/site-packages/pyphi/visualize/phi_structure/__init__.py:715: UserWarning:\n",
      "\n",
      "Cannot plot different widths with a single trace; using mean width 2.8537726998449977. Try increasing `detail_threshold`.\n",
      "\n"
     ]
    },
    {
     "data": {
      "application/vnd.jupyter.widget-view+json": {
       "model_id": "ee72befaf71f4067ab6c2e79e71d375c",
       "version_major": 2,
       "version_minor": 0
      },
      "text/plain": [
       "Grouping relation faces by degree:   0%|          | 0/154 [00:00<?, ?it/s]"
      ]
     },
     "metadata": {},
     "output_type": "display_data"
    },
    {
     "name": "stdout",
     "output_type": "stream",
     "text": [
      "Network state: 0011\n",
      "Complex: PQRS\n"
     ]
    },
    {
     "data": {
      "application/vnd.jupyter.widget-view+json": {
       "model_id": "f13a2c91cc584f82af1d40aa383ad2a3",
       "version_major": 2,
       "version_minor": 0
      },
      "text/plain": [
       "Grouping relation faces by degree:   0%|          | 0/100 [00:00<?, ?it/s]"
      ]
     },
     "metadata": {},
     "output_type": "display_data"
    },
    {
     "name": "stdout",
     "output_type": "stream",
     "text": [
      "Network state: 1011\n",
      "Complex: PQRS\n"
     ]
    },
    {
     "data": {
      "application/vnd.jupyter.widget-view+json": {
       "model_id": "a2c52f4d96924a15b90309e67ccfc899",
       "version_major": 2,
       "version_minor": 0
      },
      "text/plain": [
       "Grouping relation faces by degree:   0%|          | 0/98 [00:00<?, ?it/s]"
      ]
     },
     "metadata": {},
     "output_type": "display_data"
    },
    {
     "name": "stdout",
     "output_type": "stream",
     "text": [
      "Network state: 0111\n",
      "Complex: QR\n"
     ]
    },
    {
     "data": {
      "application/vnd.jupyter.widget-view+json": {
       "model_id": "4a49cb281c384127baee1d8c5ac2ca72",
       "version_major": 2,
       "version_minor": 0
      },
      "text/plain": [
       "Grouping relation faces by degree:   0%|          | 0/3 [00:00<?, ?it/s]"
      ]
     },
     "metadata": {},
     "output_type": "display_data"
    },
    {
     "name": "stdout",
     "output_type": "stream",
     "text": [
      "Network state: 1111\n",
      "Complex: PQRS\n"
     ]
    },
    {
     "data": {
      "application/vnd.jupyter.widget-view+json": {
       "model_id": "c43dcfdc5636475ca157bb58ce3d6fd1",
       "version_major": 2,
       "version_minor": 0
      },
      "text/plain": [
       "Grouping relation faces by degree:   0%|          | 0/2055 [00:00<?, ?it/s]"
      ]
     },
     "metadata": {},
     "output_type": "display_data"
    },
    {
     "name": "stderr",
     "output_type": "stream",
     "text": [
      "/home/gfindlay/miniconda3/envs/findlay2024a_3p13/lib/python3.13/site-packages/pyphi/visualize/phi_structure/__init__.py:715: UserWarning:\n",
      "\n",
      "Cannot plot different widths with a single trace; using mean width 2.966376271692367. Try increasing `detail_threshold`.\n",
      "\n"
     ]
    }
   ],
   "source": [
    "# Plot all states\n",
    "# State (0, 1, 0, 1) takes 95min (8k relations) if not cached.\n",
    "cc.plot_phi_structures_by_state(network, mcbs, psbs, savedir=\"phi_structures/pqrs_cycles/pub_theme/\", theme=cc.PubTheme())"
   ]
  }
 ],
 "metadata": {
  "kernelspec": {
   "display_name": "findlay2024a_3p13",
   "language": "python",
   "name": "python3"
  },
  "language_info": {
   "codemirror_mode": {
    "name": "ipython",
    "version": 3
   },
   "file_extension": ".py",
   "mimetype": "text/x-python",
   "name": "python",
   "nbconvert_exporter": "python",
   "pygments_lexer": "ipython3",
   "version": "3.13.0"
  }
 },
 "nbformat": 4,
 "nbformat_minor": 2
}
