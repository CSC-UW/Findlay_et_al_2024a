{
 "cells": [
  {
   "cell_type": "code",
   "execution_count": 1,
   "metadata": {},
   "outputs": [],
   "source": [
    "import pyphi"
   ]
  },
  {
   "cell_type": "code",
   "execution_count": 2,
   "metadata": {},
   "outputs": [],
   "source": [
    "import numpy as np\n",
    "from pyphi.distance import measures\n",
    "from pyphi.distribution import flatten\n",
    "\n",
    "pyphi.config.PARTITION_TYPE = 'BI'\n",
    "pyphi.config.SYSTEM_CUTS = '3.0_STYLE'\n",
    "pyphi.config.MEASURE = 'EMD'"
   ]
  },
  {
   "cell_type": "code",
   "execution_count": 3,
   "metadata": {},
   "outputs": [],
   "source": [
    "# The kenrnel needs to be restarted if you want to re-register a distance under the same name"
   ]
  },
  {
   "cell_type": "code",
   "execution_count": 4,
   "metadata": {},
   "outputs": [
    {
     "name": "stderr",
     "output_type": "stream",
     "text": [
      "C:\\Users\\gfindlay\\Miniconda3\\envs\\comp_consc_4.0\\lib\\site-packages\\pyphi\\tpm.py:46: FutureWarning: Using a non-tuple sequence for multidimensional indexing is deprecated; use `arr[tuple(seq)]` instead of `arr[seq]`. In the future this will be interpreted as an array index, `arr[np.array(seq)]`, which will result either in an error or a different result.\n",
      "  return tpm[conditioning_indices]\n"
     ]
    }
   ],
   "source": [
    "tpm = pyphi.examples.basic_network().tpm\n",
    "cm = pyphi.examples.basic_network().cm\n",
    "state = pyphi.examples.basic_state()\n",
    "node_labels = ('P', 'Q', 'R')\n",
    "node_indices = (0, 1, 2)\n",
    "net = pyphi.Network(tpm, cm=cm, node_labels=node_labels)\n",
    "sub = pyphi.Subsystem(net, state, node_indices)"
   ]
  },
  {
   "cell_type": "markdown",
   "metadata": {},
   "source": [
    "## Evaluate concepts assuming PQR is a complex"
   ]
  },
  {
   "cell_type": "code",
   "execution_count": 6,
   "metadata": {
    "scrolled": true
   },
   "outputs": [
    {
     "name": "stderr",
     "output_type": "stream",
     "text": [
      "Computing concepts:   0%|                                                                        | 0/7 [00:00<?, ?it/s]C:\\Users\\gfindlay\\Miniconda3\\envs\\comp_consc_4.0\\lib\\site-packages\\pyphi\\distribution.py:55: FutureWarning: Using a non-tuple sequence for multidimensional indexing is deprecated; use `arr[tuple(seq)]` instead of `arr[seq]`. In the future this will be interpreted as an array index, `arr[np.array(seq)]`, which will result either in an error or a different result.\n",
      "  return repertoire[index].sum()\n",
      "                                                                                                                       \r"
     ]
    }
   ],
   "source": [
    "ces = pyphi.compute.ces(sub)"
   ]
  },
  {
   "cell_type": "code",
   "execution_count": 7,
   "metadata": {
    "scrolled": false
   },
   "outputs": [
    {
     "data": {
      "text/plain": [
       "════════════════════════════════════════════════════════════\n",
       "            Cause-effect structure (4 concepts)             \n",
       "════════════════════════════════════════════════════════════\n",
       "  ━━━━━━━━━━━━━━━━━━━━━━━━━━━━━━━━━━━━━━━━━━━━━━━━━━━━━━━━  \n",
       "             Concept: Mechanism = [Q], φ = 1/4              \n",
       "  ━━━━━━━━━━━━━━━━━━━━━━━━━━━━━━━━━━━━━━━━━━━━━━━━━━━━━━━━  \n",
       "              MIC                         MIE               \n",
       "  ┌──────────────────────────┐┌──────────────────────────┐  \n",
       "  │  φ = 1/2                 ││  φ = 1/4                 │  \n",
       "  │  Purview = [R]           ││  Purview = [P]           │  \n",
       "  │  MIP:                    ││  MIP:                    │  \n",
       "  │     ∅     Q              ││     ∅     Q              │  \n",
       "  │    ─── ✕ ───             ││    ─── ✕ ───             │  \n",
       "  │     R     ∅              ││     P     ∅              │  \n",
       "  │  Repertoire:             ││  Repertoire:             │  \n",
       "  │    ┌─────────────┐       ││    ┌─────────────┐       │  \n",
       "  │    │ S    Pr(S)  │       ││    │ S    Pr(S)  │       │  \n",
       "  │    │ ╴╴╴╴╴╴╴╴╴╴╴ │       ││    │ ╴╴╴╴╴╴╴╴╴╴╴ │       │  \n",
       "  │    │ 0    1      │       ││    │ 0    1/2    │       │  \n",
       "  │    │ 1    0      │       ││    │ 1    1/2    │       │  \n",
       "  │    └─────────────┘       ││    └─────────────┘       │  \n",
       "  │  Partitioned repertoire: ││  Partitioned repertoire: │  \n",
       "  │    ┌─────────────┐       ││    ┌─────────────┐       │  \n",
       "  │    │ S    Pr(S)  │       ││    │ S    Pr(S)  │       │  \n",
       "  │    │ ╴╴╴╴╴╴╴╴╴╴╴ │       ││    │ ╴╴╴╴╴╴╴╴╴╴╴ │       │  \n",
       "  │    │ 0    1/2    │       ││    │ 0    1/4    │       │  \n",
       "  │    │ 1    1/2    │       ││    │ 1    3/4    │       │  \n",
       "  │    └─────────────┘       ││    └─────────────┘       │  \n",
       "  └──────────────────────────┘└──────────────────────────┘  \n",
       "    \n",
       "  ━━━━━━━━━━━━━━━━━━━━━━━━━━━━━━━━━━━━━━━━━━━━━━━━━━━━━━━━  \n",
       "             Concept: Mechanism = [R], φ = 1/2              \n",
       "  ━━━━━━━━━━━━━━━━━━━━━━━━━━━━━━━━━━━━━━━━━━━━━━━━━━━━━━━━  \n",
       "              MIC                         MIE               \n",
       "  ┌──────────────────────────┐┌──────────────────────────┐  \n",
       "  │  φ = 1/2                 ││  φ = 1/2                 │  \n",
       "  │  Purview = [P, Q]        ││  Purview = [Q]           │  \n",
       "  │  MIP:                    ││  MIP:                    │  \n",
       "  │     ∅     R              ││     ∅     R              │  \n",
       "  │    ─── ✕ ───             ││    ─── ✕ ───             │  \n",
       "  │     P     Q              ││     Q     ∅              │  \n",
       "  │  Repertoire:             ││  Repertoire:             │  \n",
       "  │    ┌──────────────┐      ││    ┌─────────────┐       │  \n",
       "  │    │ S     Pr(S)  │      ││    │ S    Pr(S)  │       │  \n",
       "  │    │ ╴╴╴╴╴╴╴╴╴╴╴╴ │      ││    │ ╴╴╴╴╴╴╴╴╴╴╴ │       │  \n",
       "  │    │ 00    1/2    │      ││    │ 0    1      │       │  \n",
       "  │    │ 10    0      │      ││    │ 1    0      │       │  \n",
       "  │    │ 01    0      │      ││    └─────────────┘       │  \n",
       "  │    │ 11    1/2    │      ││  Partitioned repertoire: │  \n",
       "  │    └──────────────┘      ││    ┌─────────────┐       │  \n",
       "  │  Partitioned repertoire: ││    │ S    Pr(S)  │       │  \n",
       "  │    ┌──────────────┐      ││    │ ╴╴╴╴╴╴╴╴╴╴╴ │       │  \n",
       "  │    │ S     Pr(S)  │      ││    │ 0    1/2    │       │  \n",
       "  │    │ ╴╴╴╴╴╴╴╴╴╴╴╴ │      ││    │ 1    1/2    │       │  \n",
       "  │    │ 00    1/4    │      ││    └─────────────┘       │  \n",
       "  │    │ 10    1/4    │      │└──────────────────────────┘  \n",
       "  │    │ 01    1/4    │      │                              \n",
       "  │    │ 11    1/4    │      │                              \n",
       "  │    └──────────────┘      │                              \n",
       "  └──────────────────────────┘                              \n",
       "    \n",
       "  ━━━━━━━━━━━━━━━━━━━━━━━━━━━━━━━━━━━━━━━━━━━━━━━━━━━━━━━━  \n",
       "            Concept: Mechanism = [P, Q], φ = 1/3            \n",
       "  ━━━━━━━━━━━━━━━━━━━━━━━━━━━━━━━━━━━━━━━━━━━━━━━━━━━━━━━━  \n",
       "              MIC                         MIE               \n",
       "  ┌──────────────────────────┐┌──────────────────────────┐  \n",
       "  │  φ = 1/3                 ││  φ = 1/2                 │  \n",
       "  │  Purview = [Q, R]        ││  Purview = [R]           │  \n",
       "  │  MIP:                    ││  MIP:                    │  \n",
       "  │     P     Q              ││     ∅    P,Q             │  \n",
       "  │    ─── ✕ ───             ││    ─── ✕ ───             │  \n",
       "  │     Q     R              ││     R     ∅              │  \n",
       "  │  Repertoire:             ││  Repertoire:             │  \n",
       "  │    ┌──────────────┐      ││    ┌─────────────┐       │  \n",
       "  │    │ S     Pr(S)  │      ││    │ S    Pr(S)  │       │  \n",
       "  │    │ ╴╴╴╴╴╴╴╴╴╴╴╴ │      ││    │ ╴╴╴╴╴╴╴╴╴╴╴ │       │  \n",
       "  │    │ 00    0      │      ││    │ 0    0      │       │  \n",
       "  │    │ 10    1      │      ││    │ 1    1      │       │  \n",
       "  │    │ 01    0      │      ││    └─────────────┘       │  \n",
       "  │    │ 11    0      │      ││  Partitioned repertoire: │  \n",
       "  │    └──────────────┘      ││    ┌─────────────┐       │  \n",
       "  │  Partitioned repertoire: ││    │ S    Pr(S)  │       │  \n",
       "  │    ┌──────────────┐      ││    │ ╴╴╴╴╴╴╴╴╴╴╴ │       │  \n",
       "  │    │ S     Pr(S)  │      ││    │ 0    1/2    │       │  \n",
       "  │    │ ╴╴╴╴╴╴╴╴╴╴╴╴ │      ││    │ 1    1/2    │       │  \n",
       "  │    │ 00    1/3    │      ││    └─────────────┘       │  \n",
       "  │    │ 10    2/3    │      │└──────────────────────────┘  \n",
       "  │    │ 01    0      │      │                              \n",
       "  │    │ 11    0      │      │                              \n",
       "  │    └──────────────┘      │                              \n",
       "  └──────────────────────────┘                              \n",
       "    \n",
       "  ━━━━━━━━━━━━━━━━━━━━━━━━━━━━━━━━━━━━━━━━━━━━━━━━━━━━━━━━  \n",
       "          Concept: Mechanism = [P, Q, R], φ = 1/2           \n",
       "  ━━━━━━━━━━━━━━━━━━━━━━━━━━━━━━━━━━━━━━━━━━━━━━━━━━━━━━━━  \n",
       "              MIC                         MIE               \n",
       "  ┌──────────────────────────┐┌──────────────────────────┐  \n",
       "  │  φ = 1/2                 ││  φ = 1/2                 │  \n",
       "  │  Purview = [P, Q, R]     ││  Purview = [P, Q, R]     │  \n",
       "  │  MIP:                    ││  MIP:                    │  \n",
       "  │     ∅    P,Q,R           ││     ∅    P,Q,R           │  \n",
       "  │    ─── ✕ ─────           ││    ─── ✕ ─────           │  \n",
       "  │     P     Q,R            ││     Q     P,R            │  \n",
       "  │  Repertoire:             ││  Repertoire:             │  \n",
       "  │    ┌───────────────┐     ││    ┌───────────────┐     │  \n",
       "  │    │  S     Pr(S)  │     ││    │  S     Pr(S)  │     │  \n",
       "  │    │ ╴╴╴╴╴╴╴╴╴╴╴╴╴ │     ││    │ ╴╴╴╴╴╴╴╴╴╴╴╴╴ │     │  \n",
       "  │    │ 000    0      │     ││    │ 000    0      │     │  \n",
       "  │    │ 100    0      │     ││    │ 100    0      │     │  \n",
       "  │    │ 010    0      │     ││    │ 010    0      │     │  \n",
       "  │    │ 110    1      │     ││    │ 110    0      │     │  \n",
       "  │    │ 001    0      │     ││    │ 001    1      │     │  \n",
       "  │    │ 101    0      │     ││    │ 101    0      │     │  \n",
       "  │    │ 011    0      │     ││    │ 011    0      │     │  \n",
       "  │    │ 111    0      │     ││    │ 111    0      │     │  \n",
       "  │    └───────────────┘     ││    └───────────────┘     │  \n",
       "  │  Partitioned repertoire: ││  Partitioned repertoire: │  \n",
       "  │    ┌───────────────┐     ││    ┌───────────────┐     │  \n",
       "  │    │  S     Pr(S)  │     ││    │  S     Pr(S)  │     │  \n",
       "  │    │ ╴╴╴╴╴╴╴╴╴╴╴╴╴ │     ││    │ ╴╴╴╴╴╴╴╴╴╴╴╴╴ │     │  \n",
       "  │    │ 000    0      │     ││    │ 000    0      │     │  \n",
       "  │    │ 100    0      │     ││    │ 100    0      │     │  \n",
       "  │    │ 010    1/2    │     ││    │ 010    0      │     │  \n",
       "  │    │ 110    1/2    │     ││    │ 110    0      │     │  \n",
       "  │    │ 001    0      │     ││    │ 001    1/2    │     │  \n",
       "  │    │ 101    0      │     ││    │ 101    0      │     │  \n",
       "  │    │ 011    0      │     ││    │ 011    1/2    │     │  \n",
       "  │    │ 111    0      │     ││    │ 111    0      │     │  \n",
       "  │    └───────────────┘     ││    └───────────────┘     │  \n",
       "  └──────────────────────────┘└──────────────────────────┘  \n",
       "    "
      ]
     },
     "execution_count": 7,
     "metadata": {},
     "output_type": "execute_result"
    }
   ],
   "source": [
    "ces"
   ]
  },
  {
   "cell_type": "markdown",
   "metadata": {},
   "source": [
    "## Manually evaluate the CES to check for ties"
   ]
  },
  {
   "cell_type": "code",
   "execution_count": 8,
   "metadata": {},
   "outputs": [],
   "source": [
    "mechanisms = pyphi.utils.powerset(sub.node_indices, nonempty=True)\n",
    "cause_mips = dict()\n",
    "effect_mips = dict()\n",
    "for mechanism in mechanisms:\n",
    "    cause_purviews = sub.potential_purviews(pyphi.Direction.CAUSE, mechanism, False)\n",
    "    cause_mips[mechanism] = [sub.find_mip(pyphi.Direction.CAUSE, mechanism, purview) \\\n",
    "                             for purview in cause_purviews]\n",
    "    effect_purviews = sub.potential_purviews(pyphi.Direction.EFFECT, mechanism, False)\n",
    "    effect_mips[mechanism] = [sub.find_mip(pyphi.Direction.EFFECT, mechanism, purview) \\\n",
    "                              for purview in effect_purviews]"
   ]
  },
  {
   "cell_type": "code",
   "execution_count": 9,
   "metadata": {},
   "outputs": [
    {
     "data": {
      "text/plain": [
       "[Repertoire irreducibility analysis\n",
       "   φ = 1/2\n",
       "   Mechanism: [Q]\n",
       "   Purview = [R]\n",
       "   Direction: CAUSE\n",
       "   Partition:\n",
       "      ∅     Q \n",
       "     ─── ✕ ───\n",
       "      R     ∅ \n",
       "   Repertoire:\n",
       "     ┌─────────────┐\n",
       "     │ S    Pr(S)  │\n",
       "     │ ╴╴╴╴╴╴╴╴╴╴╴ │\n",
       "     │ 0    1      │\n",
       "     │ 1    0      │\n",
       "     └─────────────┘\n",
       "   Partitioned repertoire:\n",
       "     ┌─────────────┐\n",
       "     │ S    Pr(S)  │\n",
       "     │ ╴╴╴╴╴╴╴╴╴╴╴ │\n",
       "     │ 0    1/2    │\n",
       "     │ 1    1/2    │\n",
       "     └─────────────┘]"
      ]
     },
     "execution_count": 9,
     "metadata": {},
     "output_type": "execute_result"
    }
   ],
   "source": [
    "cause_mips[(1,)] # Q"
   ]
  },
  {
   "cell_type": "code",
   "execution_count": 10,
   "metadata": {},
   "outputs": [],
   "source": [
    "# No ties"
   ]
  },
  {
   "cell_type": "code",
   "execution_count": 11,
   "metadata": {},
   "outputs": [
    {
     "data": {
      "text/plain": [
       "[Repertoire irreducibility analysis\n",
       "   φ = 1/4\n",
       "   Mechanism: [Q]\n",
       "   Purview = [P]\n",
       "   Direction: EFFECT\n",
       "   Partition:\n",
       "      ∅     Q \n",
       "     ─── ✕ ───\n",
       "      P     ∅ \n",
       "   Repertoire:\n",
       "     ┌─────────────┐\n",
       "     │ S    Pr(S)  │\n",
       "     │ ╴╴╴╴╴╴╴╴╴╴╴ │\n",
       "     │ 0    1/2    │\n",
       "     │ 1    1/2    │\n",
       "     └─────────────┘\n",
       "   Partitioned repertoire:\n",
       "     ┌─────────────┐\n",
       "     │ S    Pr(S)  │\n",
       "     │ ╴╴╴╴╴╴╴╴╴╴╴ │\n",
       "     │ 0    1/4    │\n",
       "     │ 1    3/4    │\n",
       "     └─────────────┘, Repertoire irreducibility analysis\n",
       "   φ = 0\n",
       "   Mechanism: [Q]\n",
       "   Purview = [R]\n",
       "   Direction: EFFECT\n",
       "   Partition:\n",
       "      ∅     Q \n",
       "     ─── ✕ ───\n",
       "      R     ∅ \n",
       "   Repertoire:\n",
       "     ┌─────────────┐\n",
       "     │ S    Pr(S)  │\n",
       "     │ ╴╴╴╴╴╴╴╴╴╴╴ │\n",
       "     │ 0    1/2    │\n",
       "     │ 1    1/2    │\n",
       "     └─────────────┘\n",
       "   Partitioned repertoire:\n",
       "     ┌─────────────┐\n",
       "     │ S    Pr(S)  │\n",
       "     │ ╴╴╴╴╴╴╴╴╴╴╴ │\n",
       "     │ 0    1/2    │\n",
       "     │ 1    1/2    │\n",
       "     └─────────────┘, Repertoire irreducibility analysis\n",
       "   φ = 0\n",
       "   Mechanism: [Q]\n",
       "   Purview = [P, R]\n",
       "   Direction: EFFECT\n",
       "   Partition:\n",
       "      ∅     Q \n",
       "     ─── ✕ ───\n",
       "      R     P \n",
       "   Repertoire:\n",
       "     ┌──────────────┐\n",
       "     │ S     Pr(S)  │\n",
       "     │ ╴╴╴╴╴╴╴╴╴╴╴╴ │\n",
       "     │ 00    1/4    │\n",
       "     │ 10    1/4    │\n",
       "     │ 01    1/4    │\n",
       "     │ 11    1/4    │\n",
       "     └──────────────┘\n",
       "   Partitioned repertoire:\n",
       "     ┌──────────────┐\n",
       "     │ S     Pr(S)  │\n",
       "     │ ╴╴╴╴╴╴╴╴╴╴╴╴ │\n",
       "     │ 00    1/4    │\n",
       "     │ 10    1/4    │\n",
       "     │ 01    1/4    │\n",
       "     │ 11    1/4    │\n",
       "     └──────────────┘]"
      ]
     },
     "execution_count": 11,
     "metadata": {},
     "output_type": "execute_result"
    }
   ],
   "source": [
    "effect_mips[(1,)] # Q"
   ]
  },
  {
   "cell_type": "code",
   "execution_count": 12,
   "metadata": {},
   "outputs": [],
   "source": [
    "# No ties"
   ]
  },
  {
   "cell_type": "code",
   "execution_count": 13,
   "metadata": {},
   "outputs": [
    {
     "data": {
      "text/plain": [
       "[Repertoire irreducibility analysis\n",
       "   φ = 0\n",
       "   Mechanism: [R]\n",
       "   Purview = [P]\n",
       "   Direction: CAUSE\n",
       "   Partition:\n",
       "      ∅     R \n",
       "     ─── ✕ ───\n",
       "      P     ∅ \n",
       "   Repertoire:\n",
       "     ┌─────────────┐\n",
       "     │ S    Pr(S)  │\n",
       "     │ ╴╴╴╴╴╴╴╴╴╴╴ │\n",
       "     │ 0    1/2    │\n",
       "     │ 1    1/2    │\n",
       "     └─────────────┘\n",
       "   Partitioned repertoire:\n",
       "     ┌─────────────┐\n",
       "     │ S    Pr(S)  │\n",
       "     │ ╴╴╴╴╴╴╴╴╴╴╴ │\n",
       "     │ 0    1/2    │\n",
       "     │ 1    1/2    │\n",
       "     └─────────────┘, Repertoire irreducibility analysis\n",
       "   φ = 0\n",
       "   Mechanism: [R]\n",
       "   Purview = [Q]\n",
       "   Direction: CAUSE\n",
       "   Partition:\n",
       "      ∅     R \n",
       "     ─── ✕ ───\n",
       "      Q     ∅ \n",
       "   Repertoire:\n",
       "     ┌─────────────┐\n",
       "     │ S    Pr(S)  │\n",
       "     │ ╴╴╴╴╴╴╴╴╴╴╴ │\n",
       "     │ 0    1/2    │\n",
       "     │ 1    1/2    │\n",
       "     └─────────────┘\n",
       "   Partitioned repertoire:\n",
       "     ┌─────────────┐\n",
       "     │ S    Pr(S)  │\n",
       "     │ ╴╴╴╴╴╴╴╴╴╴╴ │\n",
       "     │ 0    1/2    │\n",
       "     │ 1    1/2    │\n",
       "     └─────────────┘, Repertoire irreducibility analysis\n",
       "   φ = 1/2\n",
       "   Mechanism: [R]\n",
       "   Purview = [P, Q]\n",
       "   Direction: CAUSE\n",
       "   Partition:\n",
       "      ∅     R \n",
       "     ─── ✕ ───\n",
       "      P     Q \n",
       "   Repertoire:\n",
       "     ┌──────────────┐\n",
       "     │ S     Pr(S)  │\n",
       "     │ ╴╴╴╴╴╴╴╴╴╴╴╴ │\n",
       "     │ 00    1/2    │\n",
       "     │ 10    0      │\n",
       "     │ 01    0      │\n",
       "     │ 11    1/2    │\n",
       "     └──────────────┘\n",
       "   Partitioned repertoire:\n",
       "     ┌──────────────┐\n",
       "     │ S     Pr(S)  │\n",
       "     │ ╴╴╴╴╴╴╴╴╴╴╴╴ │\n",
       "     │ 00    1/4    │\n",
       "     │ 10    1/4    │\n",
       "     │ 01    1/4    │\n",
       "     │ 11    1/4    │\n",
       "     └──────────────┘]"
      ]
     },
     "execution_count": 13,
     "metadata": {},
     "output_type": "execute_result"
    }
   ],
   "source": [
    "cause_mips[(2,)] # R"
   ]
  },
  {
   "cell_type": "code",
   "execution_count": 14,
   "metadata": {},
   "outputs": [],
   "source": [
    "# No ties"
   ]
  },
  {
   "cell_type": "code",
   "execution_count": 15,
   "metadata": {},
   "outputs": [
    {
     "data": {
      "text/plain": [
       "[Repertoire irreducibility analysis\n",
       "   φ = 1/4\n",
       "   Mechanism: [R]\n",
       "   Purview = [P]\n",
       "   Direction: EFFECT\n",
       "   Partition:\n",
       "      ∅     R \n",
       "     ─── ✕ ───\n",
       "      P     ∅ \n",
       "   Repertoire:\n",
       "     ┌─────────────┐\n",
       "     │ S    Pr(S)  │\n",
       "     │ ╴╴╴╴╴╴╴╴╴╴╴ │\n",
       "     │ 0    1/2    │\n",
       "     │ 1    1/2    │\n",
       "     └─────────────┘\n",
       "   Partitioned repertoire:\n",
       "     ┌─────────────┐\n",
       "     │ S    Pr(S)  │\n",
       "     │ ╴╴╴╴╴╴╴╴╴╴╴ │\n",
       "     │ 0    1/4    │\n",
       "     │ 1    3/4    │\n",
       "     └─────────────┘, Repertoire irreducibility analysis\n",
       "   φ = 1/2\n",
       "   Mechanism: [R]\n",
       "   Purview = [Q]\n",
       "   Direction: EFFECT\n",
       "   Partition:\n",
       "      ∅     R \n",
       "     ─── ✕ ───\n",
       "      Q     ∅ \n",
       "   Repertoire:\n",
       "     ┌─────────────┐\n",
       "     │ S    Pr(S)  │\n",
       "     │ ╴╴╴╴╴╴╴╴╴╴╴ │\n",
       "     │ 0    1      │\n",
       "     │ 1    0      │\n",
       "     └─────────────┘\n",
       "   Partitioned repertoire:\n",
       "     ┌─────────────┐\n",
       "     │ S    Pr(S)  │\n",
       "     │ ╴╴╴╴╴╴╴╴╴╴╴ │\n",
       "     │ 0    1/2    │\n",
       "     │ 1    1/2    │\n",
       "     └─────────────┘, Repertoire irreducibility analysis\n",
       "   φ = 1/4\n",
       "   Mechanism: [R]\n",
       "   Purview = [P, Q]\n",
       "   Direction: EFFECT\n",
       "   Partition:\n",
       "      ∅     R \n",
       "     ─── ✕ ───\n",
       "      P     Q \n",
       "   Repertoire:\n",
       "     ┌──────────────┐\n",
       "     │ S     Pr(S)  │\n",
       "     │ ╴╴╴╴╴╴╴╴╴╴╴╴ │\n",
       "     │ 00    1/2    │\n",
       "     │ 10    1/2    │\n",
       "     │ 01    0      │\n",
       "     │ 11    0      │\n",
       "     └──────────────┘\n",
       "   Partitioned repertoire:\n",
       "     ┌──────────────┐\n",
       "     │ S     Pr(S)  │\n",
       "     │ ╴╴╴╴╴╴╴╴╴╴╴╴ │\n",
       "     │ 00    1/4    │\n",
       "     │ 10    3/4    │\n",
       "     │ 01    0      │\n",
       "     │ 11    0      │\n",
       "     └──────────────┘]"
      ]
     },
     "execution_count": 15,
     "metadata": {},
     "output_type": "execute_result"
    }
   ],
   "source": [
    "effect_mips[(2,)] # R"
   ]
  },
  {
   "cell_type": "code",
   "execution_count": 16,
   "metadata": {},
   "outputs": [],
   "source": [
    "# No ties"
   ]
  },
  {
   "cell_type": "code",
   "execution_count": 17,
   "metadata": {},
   "outputs": [
    {
     "data": {
      "text/plain": [
       "[Repertoire irreducibility analysis\n",
       "   φ = 0\n",
       "   Mechanism: [P, Q]\n",
       "   Purview = [R]\n",
       "   Direction: CAUSE\n",
       "   Partition:\n",
       "      P     Q \n",
       "     ─── ✕ ───\n",
       "      ∅     R \n",
       "   Repertoire:\n",
       "     ┌─────────────┐\n",
       "     │ S    Pr(S)  │\n",
       "     │ ╴╴╴╴╴╴╴╴╴╴╴ │\n",
       "     │ 0    1      │\n",
       "     │ 1    0      │\n",
       "     └─────────────┘\n",
       "   Partitioned repertoire:\n",
       "     ┌─────────────┐\n",
       "     │ S    Pr(S)  │\n",
       "     │ ╴╴╴╴╴╴╴╴╴╴╴ │\n",
       "     │ 0    1      │\n",
       "     │ 1    0      │\n",
       "     └─────────────┘, Repertoire irreducibility analysis\n",
       "   φ = 1/3\n",
       "   Mechanism: [P, Q]\n",
       "   Purview = [Q, R]\n",
       "   Direction: CAUSE\n",
       "   Partition:\n",
       "      P     Q \n",
       "     ─── ✕ ───\n",
       "      Q     R \n",
       "   Repertoire:\n",
       "     ┌──────────────┐\n",
       "     │ S     Pr(S)  │\n",
       "     │ ╴╴╴╴╴╴╴╴╴╴╴╴ │\n",
       "     │ 00    0      │\n",
       "     │ 10    1      │\n",
       "     │ 01    0      │\n",
       "     │ 11    0      │\n",
       "     └──────────────┘\n",
       "   Partitioned repertoire:\n",
       "     ┌──────────────┐\n",
       "     │ S     Pr(S)  │\n",
       "     │ ╴╴╴╴╴╴╴╴╴╴╴╴ │\n",
       "     │ 00    1/3    │\n",
       "     │ 10    2/3    │\n",
       "     │ 01    0      │\n",
       "     │ 11    0      │\n",
       "     └──────────────┘]"
      ]
     },
     "execution_count": 17,
     "metadata": {},
     "output_type": "execute_result"
    }
   ],
   "source": [
    "cause_mips[(0,1)] # PQ"
   ]
  },
  {
   "cell_type": "code",
   "execution_count": 18,
   "metadata": {},
   "outputs": [],
   "source": [
    "# No ties"
   ]
  },
  {
   "cell_type": "code",
   "execution_count": 19,
   "metadata": {},
   "outputs": [
    {
     "data": {
      "text/plain": [
       "[Repertoire irreducibility analysis\n",
       "   φ = 1/2\n",
       "   Mechanism: [P, Q]\n",
       "   Purview = [R]\n",
       "   Direction: EFFECT\n",
       "   Partition:\n",
       "      ∅    P,Q\n",
       "     ─── ✕ ───\n",
       "      R     ∅ \n",
       "   Repertoire:\n",
       "     ┌─────────────┐\n",
       "     │ S    Pr(S)  │\n",
       "     │ ╴╴╴╴╴╴╴╴╴╴╴ │\n",
       "     │ 0    0      │\n",
       "     │ 1    1      │\n",
       "     └─────────────┘\n",
       "   Partitioned repertoire:\n",
       "     ┌─────────────┐\n",
       "     │ S    Pr(S)  │\n",
       "     │ ╴╴╴╴╴╴╴╴╴╴╴ │\n",
       "     │ 0    1/2    │\n",
       "     │ 1    1/2    │\n",
       "     └─────────────┘, Repertoire irreducibility analysis\n",
       "   φ = 1/4\n",
       "   Mechanism: [P, Q]\n",
       "   Purview = [P, R]\n",
       "   Direction: EFFECT\n",
       "   Partition:\n",
       "      ∅    P,Q\n",
       "     ─── ✕ ───\n",
       "      P     R \n",
       "   Repertoire:\n",
       "     ┌──────────────┐\n",
       "     │ S     Pr(S)  │\n",
       "     │ ╴╴╴╴╴╴╴╴╴╴╴╴ │\n",
       "     │ 00    0      │\n",
       "     │ 10    0      │\n",
       "     │ 01    1/2    │\n",
       "     │ 11    1/2    │\n",
       "     └──────────────┘\n",
       "   Partitioned repertoire:\n",
       "     ┌──────────────┐\n",
       "     │ S     Pr(S)  │\n",
       "     │ ╴╴╴╴╴╴╴╴╴╴╴╴ │\n",
       "     │ 00    0      │\n",
       "     │ 10    0      │\n",
       "     │ 01    1/4    │\n",
       "     │ 11    3/4    │\n",
       "     └──────────────┘]"
      ]
     },
     "execution_count": 19,
     "metadata": {},
     "output_type": "execute_result"
    }
   ],
   "source": [
    "effect_mips[(0,1)] # PQ"
   ]
  },
  {
   "cell_type": "code",
   "execution_count": 20,
   "metadata": {},
   "outputs": [],
   "source": [
    "# No ties"
   ]
  },
  {
   "cell_type": "code",
   "execution_count": 21,
   "metadata": {},
   "outputs": [
    {
     "data": {
      "text/plain": [
       "[Repertoire irreducibility analysis\n",
       "   φ = 0\n",
       "   Mechanism: [P, Q, R]\n",
       "   Purview = [Q, R]\n",
       "   Direction: CAUSE\n",
       "   Partition:\n",
       "     P,Q    R \n",
       "     ─── ✕ ───\n",
       "     Q,R    ∅ \n",
       "   Repertoire:\n",
       "     ┌──────────────┐\n",
       "     │ S     Pr(S)  │\n",
       "     │ ╴╴╴╴╴╴╴╴╴╴╴╴ │\n",
       "     │ 00    0      │\n",
       "     │ 10    1      │\n",
       "     │ 01    0      │\n",
       "     │ 11    0      │\n",
       "     └──────────────┘\n",
       "   Partitioned repertoire:\n",
       "     ┌──────────────┐\n",
       "     │ S     Pr(S)  │\n",
       "     │ ╴╴╴╴╴╴╴╴╴╴╴╴ │\n",
       "     │ 00    0      │\n",
       "     │ 10    1      │\n",
       "     │ 01    0      │\n",
       "     │ 11    0      │\n",
       "     └──────────────┘, Repertoire irreducibility analysis\n",
       "   φ = 1/2\n",
       "   Mechanism: [P, Q, R]\n",
       "   Purview = [P, Q, R]\n",
       "   Direction: CAUSE\n",
       "   Partition:\n",
       "      ∅    P,Q,R\n",
       "     ─── ✕ ─────\n",
       "      P     Q,R \n",
       "   Repertoire:\n",
       "     ┌───────────────┐\n",
       "     │  S     Pr(S)  │\n",
       "     │ ╴╴╴╴╴╴╴╴╴╴╴╴╴ │\n",
       "     │ 000    0      │\n",
       "     │ 100    0      │\n",
       "     │ 010    0      │\n",
       "     │ 110    1      │\n",
       "     │ 001    0      │\n",
       "     │ 101    0      │\n",
       "     │ 011    0      │\n",
       "     │ 111    0      │\n",
       "     └───────────────┘\n",
       "   Partitioned repertoire:\n",
       "     ┌───────────────┐\n",
       "     │  S     Pr(S)  │\n",
       "     │ ╴╴╴╴╴╴╴╴╴╴╴╴╴ │\n",
       "     │ 000    0      │\n",
       "     │ 100    0      │\n",
       "     │ 010    1/2    │\n",
       "     │ 110    1/2    │\n",
       "     │ 001    0      │\n",
       "     │ 101    0      │\n",
       "     │ 011    0      │\n",
       "     │ 111    0      │\n",
       "     └───────────────┘]"
      ]
     },
     "execution_count": 21,
     "metadata": {},
     "output_type": "execute_result"
    }
   ],
   "source": [
    "cause_mips[(0,1,2)] # PQR"
   ]
  },
  {
   "cell_type": "code",
   "execution_count": 22,
   "metadata": {},
   "outputs": [],
   "source": [
    "# No ties"
   ]
  },
  {
   "cell_type": "code",
   "execution_count": 23,
   "metadata": {},
   "outputs": [
    {
     "data": {
      "text/plain": [
       "[Repertoire irreducibility analysis\n",
       "   φ = 1/2\n",
       "   Mechanism: [P, Q, R]\n",
       "   Purview = [P, R]\n",
       "   Direction: EFFECT\n",
       "   Partition:\n",
       "      ∅    P,Q,R\n",
       "     ─── ✕ ─────\n",
       "      R      P  \n",
       "   Repertoire:\n",
       "     ┌──────────────┐\n",
       "     │ S     Pr(S)  │\n",
       "     │ ╴╴╴╴╴╴╴╴╴╴╴╴ │\n",
       "     │ 00    0      │\n",
       "     │ 10    0      │\n",
       "     │ 01    1      │\n",
       "     │ 11    0      │\n",
       "     └──────────────┘\n",
       "   Partitioned repertoire:\n",
       "     ┌──────────────┐\n",
       "     │ S     Pr(S)  │\n",
       "     │ ╴╴╴╴╴╴╴╴╴╴╴╴ │\n",
       "     │ 00    1/2    │\n",
       "     │ 10    0      │\n",
       "     │ 01    1/2    │\n",
       "     │ 11    0      │\n",
       "     └──────────────┘, Repertoire irreducibility analysis\n",
       "   φ = 1/2\n",
       "   Mechanism: [P, Q, R]\n",
       "   Purview = [P, Q, R]\n",
       "   Direction: EFFECT\n",
       "   Partition:\n",
       "      ∅    P,Q,R\n",
       "     ─── ✕ ─────\n",
       "      Q     P,R \n",
       "   Repertoire:\n",
       "     ┌───────────────┐\n",
       "     │  S     Pr(S)  │\n",
       "     │ ╴╴╴╴╴╴╴╴╴╴╴╴╴ │\n",
       "     │ 000    0      │\n",
       "     │ 100    0      │\n",
       "     │ 010    0      │\n",
       "     │ 110    0      │\n",
       "     │ 001    1      │\n",
       "     │ 101    0      │\n",
       "     │ 011    0      │\n",
       "     │ 111    0      │\n",
       "     └───────────────┘\n",
       "   Partitioned repertoire:\n",
       "     ┌───────────────┐\n",
       "     │  S     Pr(S)  │\n",
       "     │ ╴╴╴╴╴╴╴╴╴╴╴╴╴ │\n",
       "     │ 000    0      │\n",
       "     │ 100    0      │\n",
       "     │ 010    0      │\n",
       "     │ 110    0      │\n",
       "     │ 001    1/2    │\n",
       "     │ 101    0      │\n",
       "     │ 011    1/2    │\n",
       "     │ 111    0      │\n",
       "     └───────────────┘]"
      ]
     },
     "execution_count": 23,
     "metadata": {},
     "output_type": "execute_result"
    }
   ],
   "source": [
    "effect_mips[(0,1,2)] # PQR"
   ]
  },
  {
   "cell_type": "code",
   "execution_count": null,
   "metadata": {},
   "outputs": [],
   "source": [
    "# Tie between PQR/PQR and PQR/PR"
   ]
  }
 ],
 "metadata": {
  "kernelspec": {
   "display_name": "Python 3",
   "language": "python",
   "name": "python3"
  },
  "language_info": {
   "codemirror_mode": {
    "name": "ipython",
    "version": 3
   },
   "file_extension": ".py",
   "mimetype": "text/x-python",
   "name": "python",
   "nbconvert_exporter": "python",
   "pygments_lexer": "ipython3",
   "version": "3.6.8"
  }
 },
 "nbformat": 4,
 "nbformat_minor": 2
}
